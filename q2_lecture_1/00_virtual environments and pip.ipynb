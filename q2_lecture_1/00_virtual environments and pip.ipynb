{
 "cells": [
  {
   "cell_type": "markdown",
   "id": "3edcc3b5",
   "metadata": {},
   "source": [
    "### Managing virtual environments and pip\n",
    "Importing modules, using pip, and using virtual environments.\n",
    "\n",
    "We want to create a new virtual environment called \".venv\" for a computational project we are working on. Create your virtual environment and install numpy and scipy. Install the default scipy version. For numpy, we want to use version 1.26.3. Feel free to install some further packages that you think you will need.\n",
    "\n",
    "Deactivate the environment once you're finished.\n",
    "\n",
    "(The code below needs to be run in a terminal instance)\n",
    "\n",
    "```bash\n",
    "python -m venv .venv\n",
    ".venv/Scripts/activate\n",
    "pip install scipy\n",
    "pip install numpy==1.26.3\n",
    "deactivate\n",
    "```\n"
   ]
  },
  {
   "cell_type": "markdown",
   "id": "2cb7f5c4",
   "metadata": {},
   "source": [
    "Optional remark: The task can also be done in this notebook with the `!` prefix indicating a shell command. Note, however, that these handle a little bit differently than within a terminal window."
   ]
  },
  {
   "cell_type": "code",
   "execution_count": null,
   "id": "a6c0e5c3",
   "metadata": {},
   "outputs": [],
   "source": [
    "!python -m venv .venv\n",
    "# Here, instead of activating the environment, we explicitly access the pip of \n",
    "# the virtual environment\n",
    "!.venv\\Scripts\\pip install scipy\n",
    "!.venv\\Scripts\\pip install numpy==1.26.3"
   ]
  }
 ],
 "metadata": {
  "kernelspec": {
   "display_name": "Python 3",
   "language": "python",
   "name": "python3"
  },
  "language_info": {
   "codemirror_mode": {
    "name": "ipython",
    "version": 3
   },
   "file_extension": ".py",
   "mimetype": "text/x-python",
   "name": "python",
   "nbconvert_exporter": "python",
   "pygments_lexer": "ipython3",
   "version": "3.11.7"
  }
 },
 "nbformat": 4,
 "nbformat_minor": 5
}
