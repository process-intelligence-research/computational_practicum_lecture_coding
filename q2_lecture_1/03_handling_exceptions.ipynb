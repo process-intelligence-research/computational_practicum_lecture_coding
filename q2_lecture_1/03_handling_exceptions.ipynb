{
 "cells": [
  {
   "cell_type": "markdown",
   "id": "3a97a391",
   "metadata": {},
   "source": [
    "### Exceptions. Extending our van der Waal's function to accommodate unexpected values: \n",
    "Van der Waal's equation is given by:\n",
    "\n",
    "$ p = \\frac{RT}{V - b} - \\frac{a}{V^2} $\n",
    "\n",
    "where:\n",
    "\n",
    "- $ \\text{p} $: Pressure in $ \\text{bar} $\n",
    "- $ \\text{T} $: Temperature in $ \\text{K} $\n",
    "- $ \\text{V} $: Specific volume in $ \\frac{\\text{mol}}{\\text{L}} $\n",
    "- $ \\text{R} $: Universal gas constant = 0.08314 L·bar/(K·mol) $ \\frac{\\text{L} \\cdot \\text{bar}}{\\text{K} \\cdot \\text{mol}} $\n",
    "- $ \\text{a} $: van der Waals constant for attractive forces between molecules in  $ \\frac{\\text{bar} \\cdot \\text{mol}^2}{\\text{L}^2} $\n",
    "- $ \\text{b} $: van der Waals constant for the finite size of molecules in $ \\frac{\\text{mol}}{\\text{L}} $\n",
    "\n",
    "We want to write a general function that calculates the pressure $ \\text{bar} $ from given specific volume in $ \\frac{\\text{mol}}{\\text{L}} $, temperature in $ \\text{K} $, and given parameters a in  $ \\frac{\\text{bar} \\cdot \\text{mol}^2}{\\text{L}^2} $ and b in $ \\frac{\\text{mol}}{\\text{L}} $.\n",
    "\n",
    "Van der Waals equation, however, is only defined for certain ranges of the specific volume. What happens if the volume is lower than the parameter b, which represents the finite volume of the molecules themselves? In order to avoid non-sensical results, define a custom exception `VDWVolumeError`, that is raised in case the specific volume V is lower than the parameter b."
   ]
  },
  {
   "cell_type": "code",
   "execution_count": null,
   "id": "99af770c",
   "metadata": {},
   "outputs": [],
   "source": [
    "class VDWVolumeError(Exception):\n",
    "    \"\"\"Exception raised when the specific volume is lower than the parameter b.\"\"\"\n",
    "    pass\n",
    "\n",
    "def van_der_waals_pressure(T: float, V: float, a: float, b: float) -> float:\n",
    "    \"\"\"\n",
    "    Calculate the pressure using the van der Waals equation.\n",
    "    \n",
    "    Args:\n",
    "        T (float): Temperature in K.\n",
    "        V (float): Specific volume in mol/L.\n",
    "        a (float): van der Waals constant for attractive forces in bar·mol²/L².\n",
    "        b (float): van der Waals constant for finite size of molecules in mol/L.\n",
    "\n",
    "    Returns:\n",
    "        float: Pressure in bar.\n",
    "    \n",
    "    Raises:\n",
    "        VDWVolumeError: If specific volume V is less than or equal to b.\n",
    "    \"\"\"\n",
    "    R = 0.08314\n",
    "    if V <= b:\n",
    "        msg = (f\"Specific volume {V} is smaller than the parameter b of {b}. \"\n",
    "               f\"Van der Waals equation not defined.\")\n",
    "        raise VDWVolumeError(msg)\n",
    "    \n",
    "    p = (R * T) / (V - b) - (a / V**2)\n",
    "    return p"
   ]
  },
  {
   "cell_type": "code",
   "execution_count": null,
   "id": "9483d1f6",
   "metadata": {},
   "outputs": [],
   "source": [
    "# Some vdW parameters\n",
    "vdw_parameters = {\n",
    "    \"water\": [5.536, 0.03049],\n",
    "    \"ethanol\": [12.18, 0.08407],\n",
    "    \"hexane\": [24.71, 0.1735],\n",
    "    \"toluene\": [24.38, 0.1463]\n",
    "}\n",
    "component = \"hexane\"\n",
    "a, b = vdw_parameters[component]\n",
    "\n",
    "# Temperature in K\n",
    "T = 400\n",
    "# Specific volume in L/mol\n",
    "V = 0.1\n",
    "try:\n",
    "    p = van_der_waals_pressure(T, V, a, b)\n",
    "    print(f\"Caclulated pressure is {p}\")\n",
    "except VDWVolumeError as e:\n",
    "    print(e)\n"
   ]
  }
 ],
 "metadata": {
  "kernelspec": {
   "display_name": "Python 3",
   "language": "python",
   "name": "python3"
  },
  "language_info": {
   "codemirror_mode": {
    "name": "ipython",
    "version": 3
   },
   "file_extension": ".py",
   "mimetype": "text/x-python",
   "name": "python",
   "nbconvert_exporter": "python",
   "pygments_lexer": "ipython3",
   "version": "3.11.7"
  }
 },
 "nbformat": 4,
 "nbformat_minor": 5
}
