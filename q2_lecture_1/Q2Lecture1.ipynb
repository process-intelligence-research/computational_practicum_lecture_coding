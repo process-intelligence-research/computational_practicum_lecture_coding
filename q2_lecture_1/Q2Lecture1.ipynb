{
 "cells": [
  {
   "cell_type": "code",
   "execution_count": null,
   "metadata": {},
   "outputs": [],
   "source": [
    "import math"
   ]
  },
  {
   "cell_type": "markdown",
   "id": "9ab38a7a",
   "metadata": {},
   "source": [
    "## Advanced programming\n",
    "In this notebook, advanced concepts of programming and managing python projects are introduced and demonstrated.\n",
    "Contents:\n",
    "- Managing packages and virtual environments\n",
    "- Projects with multiple modules\n",
    "- Basics of object oriented programming\n",
    "- Handling exceptions"
   ]
  },
  {
   "cell_type": "markdown",
   "id": "3edcc3b5",
   "metadata": {},
   "source": [
    "### Managing packages\n",
    "Importing modules, using pip, and using virtual environments"
   ]
  },
  {
   "cell_type": "code",
   "execution_count": 6,
   "id": "e6728864",
   "metadata": {},
   "outputs": [],
   "source": [
    "# We can import packages from the python standard library directly out of the box:\n",
    "import math\n"
   ]
  },
  {
   "cell_type": "markdown",
   "id": "cbeac8c1",
   "metadata": {},
   "source": [
    "### Setting up your virtual environment\n",
    "But many useful packages need to be installed via pip first. To keep track of project specific package requirements and versions, make a virtual environment for every project. It contains the configurations of a separate, local python version that we can tailor to our project's needs.\n",
    "\n",
    "To do this, you need to run the following in your console:\n",
    "```bash\n",
    "python -m venv name_of_your_venv\n",
    "```\n",
    "where venv name_of_your_venv is usually something like venv or .venv. A file is created with the name you give the environment in your current directory.\n",
    "\n",
    "You can activate the virtual environment by running:\n",
    "```bash\n",
    ".venv/Scripts/activate\n",
    "```\n",
    "\n",
    "You can also deactivate the environment simply with running this in your console:\n",
    "```bash\n",
    "deactivate\n",
    "```\n",
    "\n",
    "Note: if you are using an IDE or jupyter notebook, some further configuration may be required so that it also runs in the virtual environment.\n",
    "\n",
    "### Using pip in your virtual environment\n",
    "\n",
    "Once you have your environment set up, you can install new packages with:\n",
    "```bash\n",
    "pip install numpy\n",
    "```\n",
    "\n",
    "List all the packages you currently have installed with\n",
    "```bash\n",
    "pip freeze\n",
    "```\n",
    "\n",
    "Or install all the package requirements listed in a requirements.txt file\n",
    "```bash\n",
    "pip install -r requirements.txt\n",
    "```\n"
   ]
  },
  {
   "cell_type": "code",
   "execution_count": null,
   "id": "6905b400",
   "metadata": {},
   "outputs": [],
   "source": [
    "# When you have all this configured and set up, you can also import numpy in a project\n",
    "import numpy"
   ]
  },
  {
   "cell_type": "markdown",
   "id": "58322b14",
   "metadata": {},
   "source": [
    "### Projects with multiple modules\n",
    "Here, we investigate how to use code from a different python file (also called a \"module\") and a different \"python folder\" called a package.\n",
    "\n",
    "For this, we collect some handy utility functions in the `math_utils.py` module, which contains some functions for calculating the pythagorean theorem and the factorial.\n",
    "\n",
    "We also have a python package called `plotting` with the modules `linear.py` and `quadratic.py` containing functions for plotting linear and quadratic graphs. How do we know `plotting` is a package and not a regular directory? `plotting` contains a file called `__init__.py`, which indicates the directory is a python package. `__init__.py` can contain some package configuration code, but can also remain empty."
   ]
  },
  {
   "cell_type": "code",
   "execution_count": null,
   "id": "05f4490a",
   "metadata": {},
   "outputs": [],
   "source": [
    "# To use our math utility functions, we have to import our math_utils module\n",
    "import math_utils\n",
    "\n",
    "# Then, we can access the functions in the module like this:\n",
    "# Notice how the pythagoras function uses the math package. We do not need to import it here, but we need to import it in the utils.py module.\n",
    "pythagoras_output = math_utils.pythagoras(5, 12)\n",
    "factorial_output = math_utils.factorial(7)\n",
    "print(f\"My pythagoras output is: {pythagoras_output}\")\n",
    "print(f\"My factorial output is: {factorial_output}\")\n",
    "print(\"\")\n",
    "\n",
    "# You can also use the from _ import notation, so that you can omit the module name in the function call:\n",
    "from math_utils import pythagoras, factorial\n",
    "\n",
    "new_pythagoras_output = pythagoras(5, 12)\n",
    "new_factorial_output = factorial(7)\n",
    "print(f\"My new pythagoras output is: {new_pythagoras_output}\")\n",
    "print(f\"My new factorial output is: {new_factorial_output}\")"
   ]
  },
  {
   "cell_type": "code",
   "execution_count": null,
   "id": "bfd32a90",
   "metadata": {},
   "outputs": [],
   "source": [
    "# The use of modules in packages is can be done very similarly. First , we import the module\n",
    "import plotting.linear\n",
    "\n",
    "plotting.linear.plot_linear(-0.5, 1)\n",
    "\n",
    "# Or, with from _ import notation so we can omit the package and module name.\n",
    "from plotting.quadratic import plot_quadratic\n",
    "\n",
    "plot_quadratic(1, -3, -2)\n",
    "\n"
   ]
  },
  {
   "cell_type": "markdown",
   "id": "a4bebc2a",
   "metadata": {},
   "source": [
    "### Basics of object-oriented programming\n",
    "Here we have some sample code to demonstrate the basics of object oriented programming:\n",
    "- Classes and objects\n",
    "- Inheritance"
   ]
  },
  {
   "cell_type": "code",
   "execution_count": 3,
   "id": "5d2b2d8b",
   "metadata": {},
   "outputs": [
    {
     "name": "stdout",
     "output_type": "stream",
     "text": [
      "Running this cell doesn't handle or produce any data. It seems like we haven't done anything. But now, we have defined the blueprint for vessels and can use them from here on out.\n"
     ]
    }
   ],
   "source": [
    "# Let us define a basic class for storing data about a vessel. We give it a \n",
    "# height and a diameter, and we want it to keep track of the vessels content \n",
    "# level\n",
    "\n",
    "class Vessel:\n",
    "    \"\"\"\n",
    "    A class used to represent a vessel.\n",
    "\n",
    "    This is how the docstring looks for a class. Following a summary of the \n",
    "    class purpose, we list the attributes and the methods of the class with \n",
    "    brief descriptions of what they represent/do, respecively.\n",
    "\n",
    "    Attributes\n",
    "    ----------\n",
    "    height : float\n",
    "        The height of the vessel in meters.\n",
    "    diameter : float\n",
    "        The diameter of the vessel in meters.\n",
    "    level : float\n",
    "        The current filling level of the vessel in cubic meters.\n",
    "\n",
    "    Methods\n",
    "    -------\n",
    "    calculate_volume() -> float\n",
    "        Calculates the volume of the vessel based on its height and diameter.\n",
    "    fill_vessel(amount: float) -> bool\n",
    "        Adds or removes content from the vessel, adjusting the level accordingly.\n",
    "    \"\"\"\n",
    "\n",
    "    def __init__(self, height: float, diameter: float) -> None:\n",
    "        \"\"\" Create a new object of the vessel class. \n",
    "\n",
    "        The __init__ method is called the \"constructor\". It contains the \n",
    "        instructions for instanitation, i.e., the creation of a new class.\n",
    "        Usually, this consists mainly of setting the main attributes to a \n",
    "        specified value. \n",
    "        \n",
    "        In object oriented programming with python, every\n",
    "        method is given \"self\" as the first argument, which acts as a reference\n",
    "        to the object it is invoked on. That way, one can access the objects\n",
    "        attributes and other methods via the dot notation.\n",
    "\n",
    "        Parameters\n",
    "        ----------\n",
    "        height : float\n",
    "            The height of the vessel in m.\n",
    "        diameter : float\n",
    "            The diameter of the vessel in m.\n",
    "        \"\"\"\n",
    "        # Define and set the vessel attributes to the parameters given in the \n",
    "        # arguments\n",
    "        self.height = height\n",
    "        self.diameter = diameter\n",
    "\n",
    "        # Let us also keep track of the vessels filling level. A new vessel is\n",
    "        # empty by default\n",
    "        self.level = 0.\n",
    "\n",
    "        # Lets print something to make sure our vessel is successfully created:\n",
    "        print(f\"New vessel object created with height \"\n",
    "              f\"{self.height} and diameter {self.diameter}.\")\n",
    "\n",
    "    # Now, we define some methods, that define the functionality of our class.\n",
    "    # In general, methods look exactly like regular functions, only with self as \n",
    "    # first parameter.\n",
    "    def calculate_volume(self) -> float:\n",
    "        \"\"\"Calculate the vessel's volume from it's height and it's diameter\n",
    "\n",
    "        Returns\n",
    "        -------\n",
    "        float\n",
    "            The vessel volume in m^3\n",
    "        \"\"\"\n",
    "        volume = self.height * self.diameter**2 *math.pi/4\n",
    "        return volume\n",
    "    \n",
    "\n",
    "    def fill_vessel(self, amount: float) -> bool:\n",
    "        \"\"\"Adds new content to the reactor, i.e. calculates the new level\n",
    "\n",
    "        Parameters\n",
    "        ----------\n",
    "        amount : float\n",
    "            The amount added or removed in m^3. Negative amounts are removed.\n",
    "        \n",
    "        Returns\n",
    "        -------\n",
    "        bool\n",
    "            True if the vessel level was successfully modified, False otherwise\n",
    "        \"\"\"\n",
    "        # Calculate the new level\n",
    "        new_level_candidate = self.level + amount\n",
    "\n",
    "        # Instead of directly manipulating the level attribute, we can add some\n",
    "        # checks to this method\n",
    "        if new_level_candidate < 0:\n",
    "            print(\"New level less than 0 and is unfeasible. New level not set.\")\n",
    "            return False\n",
    "\n",
    "        # We can also access other methods of the class via the self reference\n",
    "        if new_level_candidate > self.calculate_volume():\n",
    "            print(\"New level greater than maximum volume and is unfeasible. \"\n",
    "                  \"New level not set.\")\n",
    "            return False\n",
    "        \n",
    "        # If volume constraints not violated, we can adjust the level\n",
    "        self.level = new_level_candidate\n",
    "        print(f\"New level set to {self.level}\")\n",
    "        return True\n",
    "\n",
    "print(\"Running this cell doesn't handle or produce any data. It seems like we \"\n",
    "      \"haven't done anything. But now, we have defined the blueprint for \"\n",
    "      \"vessels and can use them from here on out.\")"
   ]
  },
  {
   "cell_type": "code",
   "execution_count": 4,
   "id": "4dfeda53",
   "metadata": {},
   "outputs": [
    {
     "name": "stdout",
     "output_type": "stream",
     "text": [
      "New Vessel object created with height 4.1 and diameter 2.3.\n",
      "New Vessel object created with height 1.5 and diameter 2.0.\n"
     ]
    }
   ],
   "source": [
    "# Now, we want to use our new vessel class to store and process some data we have on some vessels.\n",
    "# We call the constructor by simply calling the class name as we would call a function.\n",
    "# We need to give it the required parameters.\n",
    "height = 4.1\n",
    "diameter = 2.3\n",
    "\n",
    "my_vessel = Vessel(height, diameter)\n",
    "\n",
    "# But we can also create a second vessel. The vessel class lets us keep track\n",
    "# of our vessel data in a unified way.\n",
    "my_other_vessel = Vessel(1.5, 2.)\n"
   ]
  },
  {
   "cell_type": "code",
   "execution_count": 10,
   "id": "e3ddf8a2",
   "metadata": {},
   "outputs": [
    {
     "name": "stdout",
     "output_type": "stream",
     "text": [
      "my_vessel volume: 17.034500765927252\n",
      "my_other_vessel volume: 4.71238898038469\n"
     ]
    }
   ],
   "source": [
    "# Now, let us see if we can make use of our new objects' functionality and \n",
    "# calculate the volume of our vessels. Access methods via the dot notation, \n",
    "# invoked on the object of interest:\n",
    "print(f\"my_vessel volume: {my_vessel.calculate_volume()}\")\n",
    "print(f\"my_other_vessel volume: {my_other_vessel.calculate_volume()}\")"
   ]
  },
  {
   "cell_type": "code",
   "execution_count": 11,
   "id": "be212ec7",
   "metadata": {},
   "outputs": [
    {
     "name": "stdout",
     "output_type": "stream",
     "text": [
      "Add 5 m^3 to my_vessel:\n",
      "New level set to 10.0\n",
      "Add 5 m^3 to my_other_vessel:\n",
      "New level greater than maximum volume and is unfeasible. New level not set.\n"
     ]
    }
   ],
   "source": [
    "# Notice how, because of the different volumes, the objects will behave \n",
    "# differently when adding contents\n",
    "print(\"Add 5 m^3 to my_vessel:\")\n",
    "my_vessel.fill_vessel(5.)\n",
    "print(\"Add 5 m^3 to my_other_vessel:\")\n",
    "my_other_vessel.fill_vessel(5.)\n",
    "\n",
    "pass"
   ]
  },
  {
   "cell_type": "code",
   "execution_count": null,
   "id": "4952c991",
   "metadata": {},
   "outputs": [],
   "source": [
    "# Should we want to access our attributes, we can also easily do this via the\n",
    "# dot notation:\n",
    "the_diameter = my_vessel.diameter\n",
    "print(f\"The diameter of my_vessel is {the_diameter}\")"
   ]
  },
  {
   "cell_type": "code",
   "execution_count": 9,
   "id": "af2e8177",
   "metadata": {},
   "outputs": [],
   "source": [
    "# Now, we also want to keep track of some data pertaining to reactors.\n",
    "# A reactor is in essence a vessel, but we also want to keep track of the \n",
    "# temperature. Therefore, we can build a subclass to Vessel. This is invoked\n",
    "# by putting the name of the parent class after the new class name in \n",
    "# paranthesis:\n",
    "\n",
    "class Reactor(Vessel):\n",
    "    \"\"\"\n",
    "    A subclass of Vessel representing a chemical reactor with temperatrue as \n",
    "    an additional feature.\n",
    "\n",
    "    Attributes\n",
    "    ----------\n",
    "    temperature : float\n",
    "        The operating temperature of the reactor in degrees Celsius.\n",
    "\n",
    "    Methods\n",
    "    -------\n",
    "    heat_reactor(temp_increase: float) -> None\n",
    "        Increases the temperature of the reactor.\n",
    "    \"\"\"\n",
    "\n",
    "    def __init__(self, height: float, diameter: float, temperature: float) -> None:\n",
    "        \"\"\"\n",
    "        Constructs all the necessary attributes for the Reactor object, including those\n",
    "        inherited from the Vessel class.\n",
    "\n",
    "        Parameters\n",
    "        ----------\n",
    "        height : float\n",
    "            The height of the reactor in meters.\n",
    "        diameter : float\n",
    "            The diameter of the reactor in meters.\n",
    "        temperature : float\n",
    "            The operating temperature of the reactor in degrees Celsius.\n",
    "        \"\"\"\n",
    "        \n",
    "        # First, call the constructor of the parent class. Access this with \n",
    "        # __init__:\n",
    "        super().__init__(height, diameter)  \n",
    "        self.temperature = temperature\n",
    "\n",
    "        print(f\"Vessel created as a reactor with temperature \"\n",
    "              f\"{self.temperature}\")\n",
    "\n",
    "    def heat_reactor(self, temp_increase: float) -> None:\n",
    "        \"\"\"\n",
    "        Increases the temperature of the reactor.\n",
    "\n",
    "        Parameters\n",
    "        ----------\n",
    "        temp_increase : float\n",
    "            The amount by which to increase the temperature in degrees Celsius.\n",
    "        \"\"\"\n",
    "        self.temperature += temp_increase\n",
    "        print(f\"Reactor temperature increased to {self.temperature} degrees Celsius.\")\n",
    "\n",
    "    # Say we also want to modify fill_vessel, because we dont want a reactor to \n",
    "    # be filled if it is too hot, above 100°. Then, we can \"override\" the \n",
    "    # fill_vessel method. To do this,we simply define a method with the same\n",
    "    # name and parameters.\n",
    "\n",
    "    def fill_vessel(self, amount: float) -> bool:\n",
    "        \"\"\"\n",
    "        Adds or removes content from the reactor, adjusting the level \n",
    "        accordingly, with additional checks specific to the Reactor class.\n",
    "\n",
    "        Parameters\n",
    "        ----------\n",
    "        amount : float\n",
    "            The amount added or removed in cubic meters. Negative amounts are \n",
    "            removed.\n",
    "        \n",
    "        Returns\n",
    "        -------\n",
    "        bool\n",
    "            True if the vessel level was successfully modified, False otherwise.\n",
    "        \"\"\"\n",
    "        # Additional check: ensure temperature is safe for filling\n",
    "        if self.temperature > 100:\n",
    "            print(\"Temperature is too high for filling. Level not modified.\")\n",
    "            return False\n",
    "\n",
    "        # Call the parent class's fill_vessel method, again, by using the \n",
    "        # super reference.\n",
    "        return super().fill_vessel(amount)"
   ]
  },
  {
   "cell_type": "code",
   "execution_count": 10,
   "id": "3155c97a",
   "metadata": {},
   "outputs": [
    {
     "name": "stdout",
     "output_type": "stream",
     "text": [
      "New Reactor object created with height 2 and diameter 2.5.\n",
      "Vessel created as a reactor with temperature 35\n"
     ]
    }
   ],
   "source": [
    "# Now, let's see if we can create our reactor class as intended:\n",
    "height = 2\n",
    "diameter = 2.5\n",
    "temperature = 35\n",
    "\n",
    "my_reactor = Reactor(height, diameter, temperature)"
   ]
  },
  {
   "cell_type": "code",
   "execution_count": 16,
   "id": "8b263479",
   "metadata": {},
   "outputs": [
    {
     "name": "stdout",
     "output_type": "stream",
     "text": [
      "my_reactor volume: 9.817477042468104\n",
      "Temperature is too high for filling. Level not modified.\n",
      "Reactor temperature increased to 515 degrees Celsius.\n",
      "Temperature is too high for filling. Level not modified.\n"
     ]
    }
   ],
   "source": [
    "# And investigate how our child class' methods behave\n",
    "# We can easily calculate the volume just as for a vessel, without having \n",
    "# defined calculate_volume in the reactor subclass\n",
    "print(f\"my_reactor volume: {my_reactor.calculate_volume()}\")\n",
    "\n",
    "# fill_vessel also works as before for now:\n",
    "my_reactor.fill_vessel(1.7)\n",
    "\n",
    "# And see if our new heating method works\n",
    "my_reactor.heat_reactor(120)\n",
    "\n",
    "# The overridden fill_vessel method however now should behave differently than \n",
    "# before\n",
    "my_reactor.fill_vessel(1.3)\n",
    "\n",
    "pass"
   ]
  },
  {
   "cell_type": "markdown",
   "metadata": {},
   "source": [
    "### My console is red again: Handling  <span style=\"color:red;\">exceptions </span> with python\n",
    "Every novice programmer gets to know exceptions very soon and learns to love them very quickly. But you can use them to your advantage! In the following, we look at:\n",
    "- A way to handle an occurring exceptions.\n",
    "- Raising exceptions ourselves\n",
    "- Creating custom exceptions\n"
   ]
  },
  {
   "cell_type": "code",
   "execution_count": 31,
   "id": "8482d5ee",
   "metadata": {},
   "outputs": [
    {
     "ename": "ZeroDivisionError",
     "evalue": "division by zero",
     "output_type": "error",
     "traceback": [
      "\u001b[1;31m---------------------------------------------------------------------------\u001b[0m",
      "\u001b[1;31mZeroDivisionError\u001b[0m                         Traceback (most recent call last)",
      "Cell \u001b[1;32mIn[31], line 12\u001b[0m\n\u001b[0;32m      9\u001b[0m my_dividend \u001b[38;5;241m=\u001b[39m \u001b[38;5;241m10\u001b[39m\n\u001b[0;32m     10\u001b[0m my_divisor \u001b[38;5;241m=\u001b[39m \u001b[38;5;241m0\u001b[39m\n\u001b[1;32m---> 12\u001b[0m my_quotient \u001b[38;5;241m=\u001b[39m \u001b[43mprint_division\u001b[49m\u001b[43m(\u001b[49m\u001b[43mmy_dividend\u001b[49m\u001b[43m,\u001b[49m\u001b[43m \u001b[49m\u001b[43mmy_divisor\u001b[49m\u001b[43m)\u001b[49m\n\u001b[0;32m     14\u001b[0m \u001b[38;5;28mprint\u001b[39m(\u001b[38;5;124m\"\u001b[39m\u001b[38;5;124mUnfortunately, we will never be able to print this message, because the\u001b[39m\u001b[38;5;124m\"\u001b[39m\n\u001b[0;32m     15\u001b[0m       \u001b[38;5;124m\"\u001b[39m\u001b[38;5;124mcode crashes beforehand\u001b[39m\u001b[38;5;124m\"\u001b[39m)\n",
      "Cell \u001b[1;32mIn[31], line 6\u001b[0m, in \u001b[0;36mprint_division\u001b[1;34m(dividend, divisor)\u001b[0m\n\u001b[0;32m      4\u001b[0m \u001b[38;5;28;01mdef\u001b[39;00m \u001b[38;5;21mprint_division\u001b[39m(dividend:\u001b[38;5;28mfloat\u001b[39m, divisor:\u001b[38;5;28mfloat\u001b[39m)\u001b[38;5;241m-\u001b[39m\u001b[38;5;241m>\u001b[39m\u001b[38;5;28;01mNone\u001b[39;00m:\n\u001b[0;32m      5\u001b[0m \u001b[38;5;250m    \u001b[39m\u001b[38;5;124;03m\"\"\"Small, demonstrative division function that prints the quotient\"\"\"\u001b[39;00m\n\u001b[1;32m----> 6\u001b[0m     quotient \u001b[38;5;241m=\u001b[39m \u001b[43mdividend\u001b[49m\u001b[38;5;241;43m/\u001b[39;49m\u001b[43mdivisor\u001b[49m\n\u001b[0;32m      7\u001b[0m     \u001b[38;5;28mprint\u001b[39m(\u001b[38;5;124mf\u001b[39m\u001b[38;5;124m\"\u001b[39m\u001b[38;5;124mMy quotient is\u001b[39m\u001b[38;5;132;01m{\u001b[39;00mquotient\u001b[38;5;132;01m}\u001b[39;00m\u001b[38;5;124m.\u001b[39m\u001b[38;5;124m\"\u001b[39m)\n",
      "\u001b[1;31mZeroDivisionError\u001b[0m: division by zero"
     ]
    }
   ],
   "source": [
    "# Who hasn't had it before? Getting a ZeroDivisionError when dividing by 0\n",
    "# by accident somewhere during a numerical computation\n",
    "\n",
    "def print_division(dividend:float, divisor:float)->None:\n",
    "    \"\"\"Small, demonstrative division function that prints the quotient\"\"\"\n",
    "    quotient = dividend/divisor\n",
    "    print(f\"My quotient is{quotient}.\")\n",
    "\n",
    "my_dividend = 10\n",
    "my_divisor = 0\n",
    "\n",
    "my_quotient = print_division(my_dividend, my_divisor)\n",
    "\n",
    "print(\"Unfortunately, we will never be able to print this message, because the\"\n",
    "      \"code crashes before due to the uncaught exception.\")\n"
   ]
  },
  {
   "cell_type": "code",
   "execution_count": 30,
   "id": "3c6bf432",
   "metadata": {},
   "outputs": [
    {
     "name": "stdout",
     "output_type": "stream",
     "text": [
      "Error encountered: division by zero\n",
      "But this code is still executed. Our program hasen't crashed, becausewe handle the exception\n"
     ]
    }
   ],
   "source": [
    "# What if we expected that this error can occurr, and want our program to react\n",
    "# to it in a certain way? Here's how we do it!\n",
    "\n",
    "def print_division(dividend:float, divisor:float)->None:\n",
    "    \"\"\"Small, demonstrative division function that prints the quotient. \n",
    "    If the divisor is 0, we print an appropriate message\"\"\"\n",
    "    try:\n",
    "        quotient = dividend/divisor\n",
    "    except ZeroDivisionError as unfortunate_error:\n",
    "        # In fact, an exception is an object itself. With this syntax, we can\n",
    "        # access the information from our unfortunate_error or do something with\n",
    "        # it, like print its message.\n",
    "        print(f\"Error encountered: {unfortunate_error}\")\n",
    "\n",
    "    # An exception can contain an else statement, that is only executed if no \n",
    "    # error occurs.\n",
    "    else:\n",
    "        print(f\"My quotient is{quotient}.\")\n",
    "\n",
    "    # In some special cases, it may also be required to execute some code after \n",
    "    # a try-except block regardless of whether an exception was raised or not.\n",
    "    # For this, we can add finally. But here, we don't really need it.\n",
    "    finally:\n",
    "        pass\n",
    "\n",
    "my_dividend = 10\n",
    "my_divisor = 0\n",
    "\n",
    "my_quotient = print_division(my_dividend, my_divisor)\n",
    "\n",
    "print(\"But this code is still executed. Our program hasen't crashed, because\"\n",
    "      \"we handle the exception!\")"
   ]
  },
  {
   "cell_type": "code",
   "execution_count": 3,
   "id": "bab5f8b2",
   "metadata": {},
   "outputs": [
    {
     "name": "stdout",
     "output_type": "stream",
     "text": [
      "We encountered a ValueError with this message: Negative number encountered during division\n"
     ]
    }
   ],
   "source": [
    "# Sometimes, it is also helpful to raise our own exception. Consider this new\n",
    "# division function, that is supposed to only divide positive numbers. In case\n",
    "# we do receive a negative number in the argument, we want to raise an \n",
    "# exception, because this is not expected:\n",
    "\n",
    "def positive_division(dividend:float, divisor:float) -> None:\n",
    "    \"\"\"Small, demonstrative division function that prints the quotient. \n",
    "    If a negative number is encountered as dividend or divisor, a ValueError is \n",
    "    raised.\"\"\"\n",
    "    if dividend < 0 or divisor <= 0:\n",
    "        # Here, in this case, we raise a value error and give it a helpful \n",
    "        # message.\n",
    "        raise ValueError(\"Negative number encountered during division\")\n",
    "    \n",
    "    quotient = dividend/divisor\n",
    "    print(f\"My quotient is{quotient}.\")\n",
    "\n",
    "try:\n",
    "    positive_division(-1., -1.)\n",
    "except ValueError as my_error:\n",
    "    print(f\"We encountered a ValueError with this message: {my_error}\")"
   ]
  },
  {
   "cell_type": "code",
   "execution_count": 5,
   "id": "26798c04",
   "metadata": {},
   "outputs": [],
   "source": [
    "# Python has a lot of built in exceptions to choose from. A quick internet\n",
    "# search usually yields the correct one to raise for a given situation. But\n",
    "# sometimes, no inbuilt exception really fits, or we want the exception to be\n",
    "# able to do something specific like storing some extra data.\n",
    "\n",
    "# Let's look at how that would work in our example, for which we'll define our\n",
    "# custom exception DivisionError. We've briefly seen that exceptions are objects\n",
    "# themselves, so it shouldn't surprise that defining a new exception is similar\n",
    "# to defining a class. Thereby it inherits from the Exception base class\n",
    "\n",
    "class DivisionError(Exception):\n",
    "    \"\"\"A custom exception for our positive_division function example. It saves\n",
    "    some additional information about the parameters are included.\n",
    "    \"\"\"\n",
    "    def __init__(self, error_message: str, is_dividend_negative: bool, is_divisor_negative: bool, is_divisor_zero: bool) -> None:\n",
    "        \"\"\"Constructor for our custom exception. Besides the error message, it\n",
    "        takes additional information on the nature of the error.\n",
    "\n",
    "        Parameters\n",
    "        ----------\n",
    "        error_message : str:\n",
    "            Exception error message.\n",
    "        is_dividend_negative : bool\n",
    "            Whether the dividend was 0 during raising of exception.\n",
    "        is_divisor_negative : bool\n",
    "            Whether the divisor was negative during raising of exception.\n",
    "        is_divisor_zero : bool\n",
    "            Whether the divisor was zero during raising of exception.\n",
    "        \"\"\"\n",
    "        self.is_dividend_negative = is_dividend_negative\n",
    "        self.is_divisor_negative = is_divisor_negative\n",
    "        self.is_divisor_zero = is_divisor_zero\n",
    "        super().__init__(error_message)\n",
    "\n",
    "\n",
    "# Let's try our own exception in our positive_division example function\n",
    "def positive_division(dividend:float, divisor:float) -> None:\n",
    "    \"\"\"Small, demonstrative division function that prints the quotient. \n",
    "    If a negative number is encountered as dividend or divisor, a DivisionError \n",
    "    is raised.\"\"\"\n",
    "    # Check the arguments\n",
    "    dividend_negative = dividend < 0\n",
    "    divisor_negative = divisor < 0\n",
    "    divisor_zero = divisor == 0\n",
    "    # If any condition is true, raise the Division error along with arguments\n",
    "    if dividend_negative or divisor_negative or divisor_zero:\n",
    "        raise DivisionError(\"Negative number encountered during division\", \n",
    "                            dividend_negative,\n",
    "                            divisor_negative,\n",
    "                            divisor_zero)\n",
    "    \n",
    "    quotient = dividend/divisor\n",
    "    print(f\"My quotient is{quotient}.\")\n"
   ]
  },
  {
   "cell_type": "code",
   "execution_count": 6,
   "id": "b65e63ff",
   "metadata": {},
   "outputs": [
    {
     "name": "stdout",
     "output_type": "stream",
     "text": [
      "We encountered a DivisionError with this message: Negative number encountered during division\n",
      "During raising of exception, dividend was negative: True\n",
      "During raising of exception, divisor was negative: True\n",
      "During raising of exception, divisor was zero: False\n"
     ]
    }
   ],
   "source": [
    "# Let's try that function again and see what our custom exception can do:\n",
    "try:\n",
    "    positive_division(-1., -1.)\n",
    "except DivisionError as my_error:\n",
    "    # The error behaves just like any other exception\n",
    "    print(f\"We encountered a DivisionError with this message: {my_error}\")\n",
    "\n",
    "    # But we can now also retrieve some of our custom attributes\n",
    "    print(f\"During raising of exception, dividend was negative: {my_error.is_dividend_negative}\")\n",
    "    print(f\"During raising of exception, divisor was negative: {my_error.is_divisor_negative}\")\n",
    "    print(f\"During raising of exception, divisor was zero: {my_error.is_divisor_zero}\")\n",
    "\n",
    "# Note: Arguably, it's a bit of an overkill to define a custom exception for such\n",
    "# a simple piece of code. It comes with some experience to decide when a custom\n",
    "# exception makes sense."
   ]
  },
  {
   "cell_type": "code",
   "execution_count": 8,
   "id": "a7bdd856",
   "metadata": {},
   "outputs": [],
   "source": [
    "# With great power comes great responsibility\n",
    "\n",
    "# DONT EVER DO THIS\n",
    "try: \n",
    "    print(positive_division(-1., -1.))\n",
    "\n",
    "    # Except all exceptions\n",
    "except Exception:\n",
    "    # And then do nothing to handle it\n",
    "    pass\n",
    "\n",
    "# This is how you end up with broken code that is very tricky to fix. Remember:\n",
    "# Exceptions and their messages are there to help you, not to bother you.\n",
    "# If you just except them all, then you will no longer now whats going on and \n",
    "# where the issue is if something goes wrong\n",
    "\n",
    "# Notice how running this cell produces no output, and it may be tricky to get\n",
    "# behind the reason in a bigger project.\n"
   ]
  }
 ],
 "metadata": {
  "kernelspec": {
   "display_name": "Python 3",
   "language": "python",
   "name": "python3"
  },
  "language_info": {
   "codemirror_mode": {
    "name": "ipython",
    "version": 3
   },
   "file_extension": ".py",
   "mimetype": "text/x-python",
   "name": "python",
   "nbconvert_exporter": "python",
   "pygments_lexer": "ipython3",
   "version": "3.11.7"
  }
 },
 "nbformat": 4,
 "nbformat_minor": 5
}
