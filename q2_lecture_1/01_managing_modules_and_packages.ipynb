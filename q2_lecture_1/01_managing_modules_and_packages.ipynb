{
 "cells": [
  {
   "cell_type": "markdown",
   "id": "58322b14",
   "metadata": {},
   "source": [
    "### Projects with multiple modules\n",
    "Here, we investigate how to use code from a different python file (also called a \"module\") and a different \"python folder\" called a package.\n",
    "\n",
    "For this, we have some handy utility functions in the `math_utils.py` module, which contains the functions `pythagoras` and `factorial` for calculating the pythagorean theorem and the factorial.\n",
    "\n",
    "We also have a python package called `plotting` with the modules `linear.py` and `quadratic.py`, respectively containing functions `linear` and `quadratic` for plotting linear and quadratic graphs. How do we know `plotting` is a package and not a regular directory? `plotting` contains a file called `__init__.py`, which indicates the directory is a python package. `__init__.py` can contain some package configuration code, but can also remain empty.\n",
    "\n",
    "Import all these functions and use them with suitable parameters. Feel free to play around with the import types and parameters."
   ]
  },
  {
   "cell_type": "code",
   "execution_count": null,
   "id": "05f4490a",
   "metadata": {},
   "outputs": [],
   "source": [
    "# Import math utils\n",
    "import math_utils\n",
    "\n",
    "pythagoras_output = math_utils.pythagoras(5, 12)\n",
    "factorial_output = math_utils.factorial(7)\n",
    "print(f\"My pythagoras output is: {pythagoras_output}\")\n",
    "print(f\"My factorial output is: {factorial_output}\")\n",
    "print(\"\")\n",
    "\n",
    "# Import functions from math_utils with the from _ import _ notation\n",
    "from math_utils import pythagoras, factorial\n",
    "\n",
    "new_pythagoras_output = pythagoras(5, 12)\n",
    "new_factorial_output = factorial(7)\n",
    "print(f\"My new pythagoras output is: {new_pythagoras_output}\")\n",
    "print(f\"My new factorial output is: {new_factorial_output}\")"
   ]
  },
  {
   "cell_type": "code",
   "execution_count": null,
   "id": "bfd32a90",
   "metadata": {},
   "outputs": [],
   "source": [
    "# Import the linear module from plotting\n",
    "import plotting.linear\n",
    "# Import functions from plotting with the from _ import _ notation\n",
    "from plotting.quadratic import plot_quadratic\n",
    "\n",
    "plotting.linear.plot_linear(-0.5, 1)\n",
    "\n",
    "plot_quadratic(1, -3, -2)\n",
    "\n"
   ]
  }
 ],
 "metadata": {
  "kernelspec": {
   "display_name": "Python 3",
   "language": "python",
   "name": "python3"
  },
  "language_info": {
   "codemirror_mode": {
    "name": "ipython",
    "version": 3
   },
   "file_extension": ".py",
   "mimetype": "text/x-python",
   "name": "python",
   "nbconvert_exporter": "python",
   "pygments_lexer": "ipython3",
   "version": "3.11.7"
  }
 },
 "nbformat": 4,
 "nbformat_minor": 5
}
