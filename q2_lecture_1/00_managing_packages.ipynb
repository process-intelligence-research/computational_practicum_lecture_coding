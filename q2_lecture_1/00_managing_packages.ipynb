{
 "cells": [
  {
   "cell_type": "markdown",
   "id": "3edcc3b5",
   "metadata": {},
   "source": [
    "### Managing packages\n",
    "Importing modules, using pip, and using virtual environments"
   ]
  },
  {
   "cell_type": "code",
   "execution_count": null,
   "id": "e6728864",
   "metadata": {},
   "outputs": [],
   "source": [
    "# We can import packages from the python standard library directly out of the box:\n",
    "import math\n"
   ]
  },
  {
   "cell_type": "markdown",
   "id": "cbeac8c1",
   "metadata": {},
   "source": [
    "### Setting up your virtual environment\n",
    "But many useful packages need to be installed via pip first. To keep track of project specific package requirements and versions, make a virtual environment for every project. It contains the configurations of a separate, local python version that we can tailor to our project's needs.\n",
    "\n",
    "To do this, you need to run the following in your console:\n",
    "```bash\n",
    "python -m venv name_of_your_venv\n",
    "```\n",
    "where venv name_of_your_venv is usually something like venv or .venv. A file is created with the name you give the environment in your current directory.\n",
    "\n",
    "You can activate the virtual environment by running:\n",
    "```bash\n",
    ".venv/Scripts/activate\n",
    "```\n",
    "\n",
    "You can also deactivate the environment simply with running this in your console:\n",
    "```bash\n",
    "deactivate\n",
    "```\n",
    "\n",
    "Note: if you are using an IDE or jupyter notebook, some further configuration may be required so that it also runs in the virtual environment.\n",
    "\n",
    "### Using pip in your virtual environment\n",
    "\n",
    "Once you have your environment set up, you can install new packages with:\n",
    "```bash\n",
    "pip install numpy\n",
    "```\n",
    "\n",
    "List all the packages you currently have installed with\n",
    "```bash\n",
    "pip freeze\n",
    "```\n",
    "\n",
    "Or install all the package requirements listed in a requirements.txt file\n",
    "```bash\n",
    "pip install -r requirements.txt\n",
    "```\n"
   ]
  },
  {
   "cell_type": "code",
   "execution_count": null,
   "id": "6905b400",
   "metadata": {},
   "outputs": [],
   "source": [
    "# When you have all this configured and set up, you can also import numpy in a project\n",
    "import numpy"
   ]
  },
  {
   "cell_type": "markdown",
   "id": "58322b14",
   "metadata": {},
   "source": [
    "### Projects with multiple modules\n",
    "Here, we investigate how to use code from a different python file (also called a \"module\") and a different \"python folder\" called a package.\n",
    "\n",
    "For this, we collect some handy utility functions in the `math_utils.py` module, which contains some functions for calculating the pythagorean theorem and the factorial.\n",
    "\n",
    "We also have a python package called `plotting` with the modules `linear.py` and `quadratic.py` containing functions for plotting linear and quadratic graphs. How do we know `plotting` is a package and not a regular directory? `plotting` contains a file called `__init__.py`, which indicates the directory is a python package. `__init__.py` can contain some package configuration code, but can also remain empty."
   ]
  },
  {
   "cell_type": "code",
   "execution_count": null,
   "id": "05f4490a",
   "metadata": {},
   "outputs": [],
   "source": [
    "# To use our math utility functions, we have to import our math_utils module\n",
    "import math_utils\n",
    "\n",
    "# Then, we can access the functions in the module like this:\n",
    "# Notice how the pythagoras function uses the math package. We do not need to import it here, but we need to import it in the utils.py module.\n",
    "pythagoras_output = math_utils.pythagoras(5, 12)\n",
    "factorial_output = math_utils.factorial(7)\n",
    "print(f\"My pythagoras output is: {pythagoras_output}\")\n",
    "print(f\"My factorial output is: {factorial_output}\")\n",
    "print(\"\")\n",
    "\n",
    "# You can also use the from _ import notation, so that you can omit the module name in the function call:\n",
    "from math_utils import pythagoras, factorial\n",
    "\n",
    "new_pythagoras_output = pythagoras(5, 12)\n",
    "new_factorial_output = factorial(7)\n",
    "print(f\"My new pythagoras output is: {new_pythagoras_output}\")\n",
    "print(f\"My new factorial output is: {new_factorial_output}\")"
   ]
  },
  {
   "cell_type": "code",
   "execution_count": null,
   "id": "bfd32a90",
   "metadata": {},
   "outputs": [],
   "source": [
    "# The use of modules in packages is can be done very similarly. First , we import the module\n",
    "import plotting.linear\n",
    "\n",
    "plotting.linear.plot_linear(-0.5, 1)\n",
    "\n",
    "# Or, with from _ import notation so we can omit the package and module name.\n",
    "from plotting.quadratic import plot_quadratic\n",
    "\n",
    "plot_quadratic(1, -3, -2)\n",
    "\n"
   ]
  }
 ],
 "metadata": {
  "kernelspec": {
   "display_name": "Python 3",
   "language": "python",
   "name": "python3"
  },
  "language_info": {
   "codemirror_mode": {
    "name": "ipython",
    "version": 3
   },
   "file_extension": ".py",
   "mimetype": "text/x-python",
   "name": "python",
   "nbconvert_exporter": "python",
   "pygments_lexer": "ipython3",
   "version": "3.11.7"
  }
 },
 "nbformat": 4,
 "nbformat_minor": 5
}
