{
 "cells": [
  {
   "cell_type": "markdown",
   "id": "1006beb5",
   "metadata": {},
   "source": [
    "In this live coding exercise, we will optimize an unconstrained function using SciPy's optimization functionality.\\\n",
    "We will try and find the minimum of Rosenbrock function expressed as:\n",
    "\n",
    "\n",
    "$$\n",
    "f(\\mathbf{x}) = \\sum_{i=1}^{n-1} \\left[100(x_{i+1} - x_i^2)^2 + (x_i - 1)^2\\right]\n",
    "$$\\\n",
    "\n",
    "\n",
    "Rosenbrock function is a standard test function used for testing gradient-descent based algroithms.\\\n",
    "It can be defined in $n$-dimensions arbitrarily. It is unimodal and the global minimum of the function is 0 at $x_1, \\ldots, x_n = 1$.\\"
   ]
  },
  {
   "cell_type": "markdown",
   "id": "b7fd2b6a",
   "metadata": {},
   "source": [
    "Import relevant libraries"
   ]
  },
  {
   "cell_type": "code",
   "execution_count": 3,
   "id": "955ae76b",
   "metadata": {},
   "outputs": [],
   "source": [
    "import numpy as np\n",
    "from scipy.optimize import minimize"
   ]
  },
  {
   "cell_type": "markdown",
   "id": "5e9e914d",
   "metadata": {},
   "source": [
    "Defining the rosenbrock function in two variables $x$ and $y$"
   ]
  },
  {
   "cell_type": "code",
   "execution_count": 1,
   "id": "9c02f6cd",
   "metadata": {},
   "outputs": [],
   "source": [
    "# Define the function to minimize\n",
    "def rosenbrock_function(vars):\n",
    "    x, y = vars\n",
    "    return 100*(y - x**2)**2 + (x - 1)**2"
   ]
  },
  {
   "cell_type": "markdown",
   "id": "984d7f77",
   "metadata": {},
   "source": [
    "We need to provide an initial guess to initiate the search direction.\\\n",
    "Let us provide the guess as $x=0$ and $y=0$."
   ]
  },
  {
   "cell_type": "code",
   "execution_count": 4,
   "id": "4419441a",
   "metadata": {},
   "outputs": [],
   "source": [
    "initial_guess = np.array([0.0, 0.0])"
   ]
  },
  {
   "cell_type": "markdown",
   "id": "d0f99842",
   "metadata": {},
   "source": [
    "We now perform the optimization using conjugate gradient (a first-order) method."
   ]
  },
  {
   "cell_type": "code",
   "execution_count": 5,
   "id": "9968665f",
   "metadata": {},
   "outputs": [],
   "source": [
    "result_cg = minimize(rosenbrock_function, initial_guess, method='CG')"
   ]
  },
  {
   "cell_type": "markdown",
   "id": "abd06c1f",
   "metadata": {},
   "source": [
    "Printing the optimal solution."
   ]
  },
  {
   "cell_type": "code",
   "execution_count": 6,
   "id": "97ff9bc2",
   "metadata": {},
   "outputs": [
    {
     "name": "stdout",
     "output_type": "stream",
     "text": [
      "Optimal values of x and y: [0.99999552 0.99999103]\n",
      "Function value at the optimum: 2.0085382242752512e-11\n"
     ]
    }
   ],
   "source": [
    "# Print the result\n",
    "print(\"Optimal values of x and y:\", result_cg.x)\n",
    "print(\"Function value at the optimum:\", result_cg.fun)"
   ]
  },
  {
   "cell_type": "markdown",
   "id": "0794f5ed",
   "metadata": {},
   "source": [
    "We now perform the optimization using BFGS (a second-order) method."
   ]
  },
  {
   "cell_type": "code",
   "execution_count": 7,
   "id": "1fe9b749",
   "metadata": {},
   "outputs": [],
   "source": [
    "result_bfgs = minimize(rosenbrock_function, initial_guess, method='BFGS')"
   ]
  },
  {
   "cell_type": "code",
   "execution_count": 8,
   "id": "8cc74bf1",
   "metadata": {},
   "outputs": [
    {
     "name": "stdout",
     "output_type": "stream",
     "text": [
      "Optimal values of x and y: [0.99999467 0.99998932]\n",
      "Function value at the optimum: 2.8439915001532524e-11\n"
     ]
    }
   ],
   "source": [
    "# Print the result\n",
    "print(\"Optimal values of x and y:\", result_bfgs.x)\n",
    "print(\"Function value at the optimum:\", result_bfgs.fun)"
   ]
  }
 ],
 "metadata": {
  "kernelspec": {
   "display_name": ".venv",
   "language": "python",
   "name": "python3"
  },
  "language_info": {
   "codemirror_mode": {
    "name": "ipython",
    "version": 3
   },
   "file_extension": ".py",
   "mimetype": "text/x-python",
   "name": "python",
   "nbconvert_exporter": "python",
   "pygments_lexer": "ipython3",
   "version": "3.12.0"
  }
 },
 "nbformat": 4,
 "nbformat_minor": 5
}
