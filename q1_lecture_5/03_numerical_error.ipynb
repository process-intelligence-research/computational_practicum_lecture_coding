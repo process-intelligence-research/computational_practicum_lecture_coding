{
 "cells": [
  {
   "cell_type": "markdown",
   "id": "77ffb73d",
   "metadata": {},
   "source": [
    "Import packages."
   ]
  },
  {
   "cell_type": "code",
   "execution_count": 1,
   "id": "c06ef2f3",
   "metadata": {},
   "outputs": [],
   "source": [
    "import time\n",
    "import numpy as np\n",
    "import matplotlib.pyplot as plt\n",
    "from typing import Callable"
   ]
  },
  {
   "cell_type": "markdown",
   "id": "cef04481",
   "metadata": {},
   "source": [
    "Reuse forward Euler method from previous example:"
   ]
  },
  {
   "cell_type": "code",
   "execution_count": 2,
   "id": "10489c37",
   "metadata": {},
   "outputs": [],
   "source": [
    "def forward_euler(func: Callable, c0: np.ndarray, t: np.ndarray) -> np.ndarray:\n",
    "    \"\"\"Generic forward euler method for initial value problem.\n",
    "\n",
    "    Parameters\n",
    "    ----------\n",
    "    func : Callable\n",
    "        ODE system to be solved\n",
    "    c0 : np.ndarray\n",
    "        Initial condition\n",
    "    t : np.ndarray\n",
    "        Time grid points\n",
    "\n",
    "    Returns\n",
    "    -------\n",
    "    np.ndarray\n",
    "        Solution of ODE system\n",
    "    \"\"\"\n",
    "    # initialize arrays for time and solution values\n",
    "    c = np.zeros((len(c0),len(t)))\n",
    "    h = t[1]-t[0]\n",
    "\n",
    "    # initial condition\n",
    "    c[:,0] = c0\n",
    "\n",
    "    # iterate over each time step\n",
    "    for i in range(1,len(t)):\n",
    "        c[:,i] = c[:,i-1]+h*func(t[i-1], c[:,i-1])\n",
    "    return c"
   ]
  },
  {
   "cell_type": "markdown",
   "id": "93dc23c1",
   "metadata": {},
   "source": [
    "## Numerical error"
   ]
  },
  {
   "cell_type": "markdown",
   "id": "6b809d47",
   "metadata": {},
   "source": [
    "We have the following example\n",
    "\n",
    "$A {\\overset{k}{\\rightarrow}} B$\n",
    "\n",
    "Initial conditions:\n",
    "\n",
    "$C_A(0)=1\\, mol/L$\n",
    "\n",
    "$C_B(0)=0\\, mol/L$\n",
    "\n",
    "Rate constant:\n",
    "\n",
    "$k=0.2\\, min^{-1}$\n",
    "\n",
    "ODE for $C_A$ :\n",
    "\n",
    "$\\frac{dC_A}{dt} = -kC_A $\n",
    "\n",
    "The concentration of B follows from the following algebraic relationship assuming constant total concentration equal to 1: \n",
    "\n",
    "$ C_B = 1 - C_A $\n",
    "\n",
    "Analytical solutions:\n",
    "\n",
    "$ C_A(t)=e^{-kt} $\n",
    "\n",
    "$ C_B(t)=1 - e^{-kt} $"
   ]
  },
  {
   "cell_type": "markdown",
   "id": "88325dd7",
   "metadata": {},
   "source": [
    "Define parameters"
   ]
  },
  {
   "cell_type": "code",
   "execution_count": 3,
   "id": "ec7ffd55",
   "metadata": {},
   "outputs": [],
   "source": [
    "# ODE for CA\n",
    "def dcA(t, c):\n",
    "    return -0.2*c\n",
    "\n",
    "# initial condition\n",
    "c0 = np.array([1])\n",
    "\n",
    "# analytical solution of ODE\n",
    "def cA_analytical(k: float, t: float) -> float:\n",
    "    return np.exp(-k*t)"
   ]
  },
  {
   "cell_type": "markdown",
   "id": "775c84c7",
   "metadata": {},
   "source": [
    "Define a fine and a coarse time grid."
   ]
  },
  {
   "cell_type": "code",
   "execution_count": 4,
   "id": "a58e9784",
   "metadata": {},
   "outputs": [],
   "source": [
    "t_coarse = np.linspace(0,30,11)\n",
    "t_fine = np.linspace(0,30,101)"
   ]
  },
  {
   "cell_type": "markdown",
   "id": "3ba97143",
   "metadata": {},
   "source": [
    "Calculate ODE solution and measure execution time."
   ]
  },
  {
   "cell_type": "code",
   "execution_count": null,
   "id": "ddf935fa",
   "metadata": {},
   "outputs": [],
   "source": [
    "start_coarse = time.time()\n",
    "c_coarse = forward_euler(dcA, c0, t_coarse)\n",
    "end_coarse = time.time()\n",
    "time_coarse = end_coarse - start_coarse\n",
    "print(f\"Euler method for coarse grid took {round(time_coarse, 4)} seconds.\")\n",
    "\n",
    "start_fine = time.time()\n",
    "c_fine = forward_euler(dcA, c0, t_fine)\n",
    "end_fine = time.time()\n",
    "time_fine = end_fine - start_fine\n",
    "print(f\"Euler method for fine grid took {round(time_fine, 4)} seconds.\")"
   ]
  },
  {
   "cell_type": "markdown",
   "id": "a96bdaea",
   "metadata": {},
   "source": [
    "Plot the results."
   ]
  },
  {
   "cell_type": "code",
   "execution_count": null,
   "id": "09d87733",
   "metadata": {},
   "outputs": [],
   "source": [
    "fig, ax = plt.subplots()\n",
    "ax.plot(t_coarse, c_coarse[0,:], label = f\"C$_A$ (h=3.0s) - solution time={round(time_coarse, 4)}s\")\n",
    "ax.plot(t_fine, c_fine[0,:], label = f\"C$_A$ (h=0.3s) - solution time={round(time_fine, 4)}s\")\n",
    "ax.plot(t_fine, cA_analytical(0.2, t_fine), label = \"C$_A$ - analytical solution\", linestyle = \"dashed\")\n",
    "ax.set_xlabel(\"time [s]\")\n",
    "ax.set_ylabel(\"concentration [mol/L]\")\n",
    "ax.set_title(\"Forward Euler - Time Step Size Comparison\")\n",
    "ax.legend()\n",
    "ax.grid()\n",
    "fig.show()"
   ]
  },
  {
   "cell_type": "code",
   "execution_count": null,
   "id": "5f3c2c4c",
   "metadata": {},
   "outputs": [],
   "source": []
  }
 ],
 "metadata": {
  "kernelspec": {
   "display_name": "QCFD",
   "language": "python",
   "name": "python3"
  },
  "language_info": {
   "codemirror_mode": {
    "name": "ipython",
    "version": 3
   },
   "file_extension": ".py",
   "mimetype": "text/x-python",
   "name": "python",
   "nbconvert_exporter": "python",
   "pygments_lexer": "ipython3",
   "version": "3.11.10"
  }
 },
 "nbformat": 4,
 "nbformat_minor": 5
}
