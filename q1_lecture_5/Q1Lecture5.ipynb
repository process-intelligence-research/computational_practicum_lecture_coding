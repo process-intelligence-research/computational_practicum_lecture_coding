{
 "cells": [
  {
   "cell_type": "markdown",
   "id": "9e1fa581",
   "metadata": {},
   "source": [
    "# CH3133 - Computational Practicum - Q1 - Lecture coding 5"
   ]
  },
  {
   "cell_type": "markdown",
   "id": "77ffb73d",
   "metadata": {},
   "source": [
    "Import packages."
   ]
  },
  {
   "cell_type": "code",
   "execution_count": 1,
   "id": "c06ef2f3",
   "metadata": {},
   "outputs": [],
   "source": [
    "import time\n",
    "import scipy as sp\n",
    "import numpy as np\n",
    "import matplotlib.pyplot as plt\n",
    "from typing import Callable"
   ]
  },
  {
   "cell_type": "markdown",
   "id": "488f2d39",
   "metadata": {},
   "source": [
    "## Analytical solution - linear system of ODEs"
   ]
  },
  {
   "cell_type": "markdown",
   "id": "24feba29",
   "metadata": {},
   "source": [
    "Solve the following reaction system analytically.\n",
    "\n",
    "$A \\xrightleftharpoons[k_2]{k_1} B \\xrightleftharpoons[k_4]{k_3} C$\n",
    "\n",
    "Initial conditions:\n",
    "\n",
    "$C_A(0)=1\\, mol/L$\n",
    "\n",
    "$C_B(0)=C_C(0)=0\\, mol/L$\n",
    "\n",
    "Rate constants:\n",
    "\n",
    "$k_1=1\\, min^{-1}, k_2=0\\, min^{-1}, k_3=2\\, min^{-1}, k_4=3\\, min^{-1}$\n"
   ]
  },
  {
   "cell_type": "markdown",
   "id": "d9be2371",
   "metadata": {},
   "source": [
    "Define parameters."
   ]
  },
  {
   "cell_type": "code",
   "execution_count": null,
   "id": "88ebe167",
   "metadata": {},
   "outputs": [],
   "source": [
    "# time domain\n",
    "t = np.linspace(0, 10, 500)\n",
    "dt = t[1]-t[0]\n",
    "\n",
    "# initial condition\n",
    "c_0 = np.array([1,0,0])\n",
    "\n",
    "# matrix of the rates\n",
    "K = np.array([[-1,0,0],[1,-2,3],[0,2,-3]])"
   ]
  },
  {
   "cell_type": "markdown",
   "id": "9a6b9097",
   "metadata": {},
   "source": [
    "Calculate exponential of matrix.\n",
    "\n",
    "Note: `expm` vs `exp` in scipy\n",
    "- `exmp`: matrix exponentiation $e^A=Ue^\\lambda U^{-1}$\n",
    "- `exp`: scalar value exponentiation $e^x, x \\in \\mathbb{R}$\n"
   ]
  },
  {
   "cell_type": "code",
   "execution_count": null,
   "id": "4c04320e",
   "metadata": {},
   "outputs": [],
   "source": [
    "eK = K * dt\n",
    "eKdt = sp.linalg.expm(eK)"
   ]
  },
  {
   "cell_type": "markdown",
   "id": "0dc3cd09",
   "metadata": {},
   "source": [
    "Calculate concentration at time steps."
   ]
  },
  {
   "cell_type": "code",
   "execution_count": null,
   "id": "22322b2d",
   "metadata": {},
   "outputs": [],
   "source": [
    "C = [c_0]\n",
    "for i in range(len(t)-1):\n",
    "    c_0 = np.dot(eKdt,c_0)\n",
    "    C.append(c_0)\n",
    "\n",
    "# extract values\n",
    "cA = [array[0] for array in C]\n",
    "cB = [array[1] for array in C]\n",
    "cC = [array[2] for array in C]"
   ]
  },
  {
   "cell_type": "markdown",
   "id": "2728e9cf",
   "metadata": {},
   "source": [
    "Plot the results."
   ]
  },
  {
   "cell_type": "code",
   "execution_count": null,
   "id": "3eaa48b0",
   "metadata": {},
   "outputs": [],
   "source": [
    "fig, ax = plt.subplots()\n",
    "ax.plot(t, cA, label = \"cA\")\n",
    "ax.plot(t, cB, label = \"cB\")\n",
    "ax.plot(t, cC, label = \"cC\")\n",
    "ax.set_xlabel(\"time /s\")\n",
    "ax.set_ylabel(\"concentration /mol/L\")\n",
    "ax.set_title(\"Analytical solution - linear system of ODEs\")\n",
    "ax.legend()\n",
    "ax.grid()\n",
    "fig.show()"
   ]
  },
  {
   "cell_type": "markdown",
   "id": "c13d0ceb",
   "metadata": {},
   "source": [
    "## The Forward Euler method"
   ]
  },
  {
   "cell_type": "markdown",
   "id": "afb94409",
   "metadata": {},
   "source": [
    "We analyze the semi-batch reactor. The reactor model contains a non-autonomous term (right hand-side contains the independent variable $t$ explicitly).\n",
    "\n",
    "$\\frac{dC_A}{dt}=\\frac{\\dot{V}}{V_0+\\dot{V}t}\\left(C_A^{in}-C_A\\right)-kC_A$\n",
    "\n",
    "$\\frac{dC_B}{dt}=kC_A$\n",
    "\n",
    "Initial contitions:\n",
    "\n",
    "$C_A(t=0\\,s)=1\\, mol/L,\\; C_B(0)=0\\, mol/L$\n"
   ]
  },
  {
   "cell_type": "markdown",
   "id": "80f1bd74",
   "metadata": {},
   "source": [
    "Define parameters."
   ]
  },
  {
   "cell_type": "code",
   "execution_count": null,
   "id": "8f090cbf",
   "metadata": {},
   "outputs": [],
   "source": [
    "# time domain\n",
    "t_start = 0.0\n",
    "t_end = 30.0\n",
    "n = 500\n",
    "t = np.linspace(t_start, t_end, n)\n",
    "\n",
    "# initial conditions\n",
    "c0 = np.array([1,0])"
   ]
  },
  {
   "cell_type": "markdown",
   "id": "a86b211d",
   "metadata": {},
   "source": [
    "Define the reaction system."
   ]
  },
  {
   "cell_type": "code",
   "execution_count": null,
   "id": "e35c1f6e",
   "metadata": {},
   "outputs": [],
   "source": [
    "def dC(t: np.ndarray, c: np.ndarray) -> np.ndarray:\n",
    "    \"\"\"ODE system for semi-batch reactor.\n",
    "\n",
    "    Parameters\n",
    "    ----------\n",
    "    t : np.ndarray\n",
    "        Time variable\n",
    "    c : np.ndarray\n",
    "        Concentration of individual components\n",
    "\n",
    "    Returns\n",
    "    -------\n",
    "    np.ndarray\n",
    "        Concentration gradient in reactor\n",
    "    \"\"\"\n",
    "    cA, _ = c\n",
    "    k = 0.2\n",
    "    Vdot = 0.1\n",
    "    V_0 = 10\n",
    "    cA_in = 0.5\n",
    "    dcA = Vdot/(V_0+Vdot*t)*(cA_in-cA)-k*cA\n",
    "    dcB = k*cA\n",
    "    return np.array([dcA, dcB])"
   ]
  },
  {
   "cell_type": "markdown",
   "id": "0e55b542",
   "metadata": {},
   "source": [
    "Define forward euler method."
   ]
  },
  {
   "cell_type": "code",
   "execution_count": null,
   "id": "b302c850",
   "metadata": {},
   "outputs": [],
   "source": [
    "def forward_euler(func: Callable, y0: np.ndarray, t: np.ndarray) -> np.ndarray:\n",
    "    \"\"\"Generic forward euler method for initial value problem.\n",
    "\n",
    "    Parameters\n",
    "    ----------\n",
    "    func : Callable\n",
    "        ODE system to be solved\n",
    "    y0 : np.ndarray\n",
    "        Initial condition\n",
    "    t : np.ndarray\n",
    "        Time grid points\n",
    "\n",
    "    Returns\n",
    "    -------\n",
    "    np.ndarray\n",
    "        Solution of ODE system\n",
    "    \"\"\"\n",
    "    y = np.zeros((len(y0),len(t)))\n",
    "    h = t[1]-t[0]\n",
    "    # initial condition\n",
    "    y[:,0] = y0\n",
    "    for i in range(1,len(t)):\n",
    "        y[:,i] = y[:,i-1]+h*func(t[i-1], y[:,i-1])\n",
    "    return y"
   ]
  },
  {
   "cell_type": "markdown",
   "id": "df16e158",
   "metadata": {},
   "source": [
    "Execute forward euler method."
   ]
  },
  {
   "cell_type": "code",
   "execution_count": null,
   "id": "5587748c",
   "metadata": {},
   "outputs": [],
   "source": [
    "c = forward_euler(dC, c0, t)"
   ]
  },
  {
   "cell_type": "markdown",
   "id": "2515b973",
   "metadata": {},
   "source": [
    "Plot the results."
   ]
  },
  {
   "cell_type": "code",
   "execution_count": null,
   "id": "cf82d628",
   "metadata": {},
   "outputs": [],
   "source": [
    "fig, ax = plt.subplots()\n",
    "ax.plot(t, c[0,:], label = \"cA\")\n",
    "ax.plot(t, c[1,:], label = \"cB\")\n",
    "ax.set_xlabel(\"time /s\")\n",
    "ax.set_ylabel(\"concentration /mol/L\")\n",
    "ax.set_title(\"The Forward Euler method\")\n",
    "ax.legend()\n",
    "ax.grid()\n",
    "fig.show()"
   ]
  },
  {
   "cell_type": "markdown",
   "id": "c80bcde2",
   "metadata": {},
   "source": [
    "## The Backward Euler method"
   ]
  },
  {
   "cell_type": "markdown",
   "id": "77bdef51",
   "metadata": {},
   "source": [
    "We analyze the semi-batch reactor. The reactor model contains a non-autonomous term (right hand-side contains the independent variable $t$ explicitly).\n",
    "\n",
    "$\\frac{dC_A}{dt}=\\frac{\\dot{V}}{V_0+\\dot{V}t}\\left(C_A^{in}-C_A\\right)-kC_A$\n",
    "\n",
    "$\\frac{dC_B}{dt}=kC_A$\n",
    "\n",
    "Initial contitions:\n",
    "\n",
    "$C_A(t=0\\,s)=1\\, mol/L,\\; C_B(0)=0\\, mol/L$\n"
   ]
  },
  {
   "cell_type": "markdown",
   "id": "f102c67b",
   "metadata": {},
   "source": [
    "Define parameters."
   ]
  },
  {
   "cell_type": "code",
   "execution_count": null,
   "id": "f328765f",
   "metadata": {},
   "outputs": [],
   "source": [
    "# time domain\n",
    "t_start = 0.0\n",
    "t_end = 30.0\n",
    "n = 500\n",
    "t = np.linspace(t_start, t_end, n)\n",
    "\n",
    "# initial conditions\n",
    "c0 = np.array([1,0])"
   ]
  },
  {
   "cell_type": "markdown",
   "id": "3cde029c",
   "metadata": {},
   "source": [
    "Define chemical reaction system."
   ]
  },
  {
   "cell_type": "code",
   "execution_count": null,
   "id": "4c8156e2",
   "metadata": {},
   "outputs": [],
   "source": [
    "def dC(t: np.ndarray, c: np.ndarray) -> np.ndarray:\n",
    "    \"\"\"ODE system for semi-batch reactor.\n",
    "\n",
    "    Parameters\n",
    "    ----------\n",
    "    t : np.ndarray\n",
    "        Time variable\n",
    "    c : np.ndarray\n",
    "        Concentration of individual components\n",
    "\n",
    "    Returns\n",
    "    -------\n",
    "    np.ndarray\n",
    "        Concentration gradient in reactor\n",
    "    \"\"\"\n",
    "    cA, _ = c\n",
    "    k = 0.2\n",
    "    Vdot = 0.1\n",
    "    V_0 = 10\n",
    "    cA_in = 0.5\n",
    "    dcA = Vdot/(V_0+Vdot*t)*(cA_in-cA)-k*cA\n",
    "    dcB = k*cA\n",
    "    return np.array([dcA, dcB])"
   ]
  },
  {
   "cell_type": "markdown",
   "id": "bac249ba",
   "metadata": {},
   "source": [
    "Define backward euler method."
   ]
  },
  {
   "cell_type": "code",
   "execution_count": null,
   "id": "3e5bf616",
   "metadata": {},
   "outputs": [],
   "source": [
    "def backward_euler_fixed_point(func: Callable, y0: np.ndarray, t: np.ndarray,\n",
    "                               tol:float=1e-6, max_iter:int=100) -> np.ndarray:\n",
    "    \"\"\"Solves the ODE y' = f(t, y) using the Backward (Implicit) Euler method\n",
    "    with fixed-point iteration.\n",
    "\n",
    "    Parameters\n",
    "    ----------\n",
    "    func : Callable\n",
    "        Function that defines the ODE (y' = func(t, y)).\n",
    "    y0 : np.ndarray\n",
    "        Initial condition.\n",
    "    t : np.ndarray\n",
    "        Time domain.\n",
    "    tol : float, optional\n",
    "        Tolerance for the fixed-point iteration (default is 1e-6).\n",
    "    max_iter : int, optional\n",
    "        Maximum number of iterations for the fixed-point iteration (default is 100).\n",
    "\n",
    "    Returns\n",
    "    -------\n",
    "    np.ndarray\n",
    "        Array of solution values at the time points.\n",
    "    \"\"\"\n",
    "    # Initialize arrays for time and solution values\n",
    "    y = np.zeros([len(y0),len(t)])\n",
    "    y[:,0] = y0\n",
    "    dt = t[1]-t[0]\n",
    "\n",
    "    # Iterate over each time step\n",
    "    for n in range(len(t)-1):\n",
    "        # Initial guess for y_{i+1}\n",
    "        y_next = y[:,n]\n",
    "        \n",
    "        # Fixed-point iteration to solve for y_{i+1}\n",
    "        for i in range(max_iter):\n",
    "            y_new = y[:,n] + dt * func(t[n+1], y_next)\n",
    "            if max(np.abs(y_new - y_next)) < tol:\n",
    "                break\n",
    "            y_next = y_new\n",
    "        \n",
    "        # Update solution\n",
    "        y[:,n+1] = y_next\n",
    "    \n",
    "    return y"
   ]
  },
  {
   "cell_type": "markdown",
   "id": "08db89dc",
   "metadata": {},
   "source": [
    "Execute backward euler method."
   ]
  },
  {
   "cell_type": "code",
   "execution_count": null,
   "id": "2125cb62",
   "metadata": {},
   "outputs": [],
   "source": [
    "c = backward_euler_fixed_point(dC, c0, t)"
   ]
  },
  {
   "cell_type": "markdown",
   "id": "ea9e9824",
   "metadata": {},
   "source": [
    "Plot the results."
   ]
  },
  {
   "cell_type": "code",
   "execution_count": null,
   "id": "64a61e54",
   "metadata": {},
   "outputs": [],
   "source": [
    "fig, ax = plt.subplots()\n",
    "ax.plot(t, c[0,:], label = \"cA\")\n",
    "ax.plot(t, c[1,:], label = \"cB\")\n",
    "ax.set_xlabel(\"time /s\")\n",
    "ax.set_ylabel(\"concentration /mol/L\")\n",
    "ax.set_title(\"The Backward Euler method\")\n",
    "ax.legend()\n",
    "ax.grid()\n",
    "fig.show()"
   ]
  },
  {
   "cell_type": "markdown",
   "id": "a223cc55",
   "metadata": {},
   "source": [
    "## Numerical error"
   ]
  },
  {
   "cell_type": "markdown",
   "id": "b8f3942c",
   "metadata": {},
   "source": [
    "Define parameters"
   ]
  },
  {
   "cell_type": "code",
   "execution_count": null,
   "id": "d9640669",
   "metadata": {},
   "outputs": [],
   "source": [
    "# ODE\n",
    "def dcA(t, c):\n",
    "    return -0.2*c\n",
    "\n",
    "# initial condition\n",
    "c0 = np.array([1])\n",
    "\n",
    "# analytical solution of ODE\n",
    "def cA_analytical(k: float, t: float) -> float:\n",
    "    return np.exp(-k*t)"
   ]
  },
  {
   "cell_type": "markdown",
   "id": "c06e9d6f",
   "metadata": {},
   "source": [
    "Define a fine and a coarse time grid."
   ]
  },
  {
   "cell_type": "code",
   "execution_count": null,
   "id": "e40dbc0b",
   "metadata": {},
   "outputs": [],
   "source": [
    "t_coarse = np.linspace(0,30,11)\n",
    "t_fine = np.linspace(0,30,101)"
   ]
  },
  {
   "cell_type": "markdown",
   "id": "9ba2d96a",
   "metadata": {},
   "source": [
    "Calculate ODE solution and measure execution time."
   ]
  },
  {
   "cell_type": "code",
   "execution_count": null,
   "id": "b179a6ab",
   "metadata": {},
   "outputs": [],
   "source": [
    "start_coarse = time.time()\n",
    "c_coarse = forward_euler(dcA, c0, t_coarse)\n",
    "end_coarse = time.time()\n",
    "time_coarse = end_coarse - start_coarse\n",
    "print(f\"Euler method for coarse grid took {round(time_coarse, 4)} seconds.\")\n",
    "\n",
    "start_fine = time.time()\n",
    "c_fine = forward_euler(dcA, c0, t_fine)\n",
    "end_fine = time.time()\n",
    "time_fine = end_fine - start_fine\n",
    "print(f\"Euler method for fine grid took {round(time_fine, 4)} seconds.\")"
   ]
  },
  {
   "cell_type": "markdown",
   "id": "45db7ea0",
   "metadata": {},
   "source": [
    "Plot the results."
   ]
  },
  {
   "cell_type": "code",
   "execution_count": null,
   "id": "d4406bf0",
   "metadata": {},
   "outputs": [],
   "source": [
    "fig, ax = plt.subplots()\n",
    "ax.plot(t_coarse, c_coarse[0,:], label = f\"cA - h=3s - solution time={round(time_coarse, 4)}\")\n",
    "ax.plot(t_fine, c_fine[0,:], label = f\"cA - h=0.3s - solution time={round(time_fine, 4)}\")\n",
    "ax.plot(t_fine, cA_analytical(0.2, t_fine), label = \"cA - analytical solution\")\n",
    "ax.set_xlabel(\"time /s\")\n",
    "ax.set_ylabel(\"concentration /mol/L\")\n",
    "ax.set_title(\"Forward euler - grid comparison\")\n",
    "ax.legend()\n",
    "ax.grid()\n",
    "fig.show()"
   ]
  },
  {
   "cell_type": "markdown",
   "id": "5a49632b",
   "metadata": {},
   "source": [
    "## Stability"
   ]
  },
  {
   "cell_type": "markdown",
   "id": "7d2305c4",
   "metadata": {},
   "source": [
    "Define parameters"
   ]
  },
  {
   "cell_type": "code",
   "execution_count": null,
   "id": "db518f8f",
   "metadata": {},
   "outputs": [],
   "source": [
    "# ODE\n",
    "def dcA(t, c):\n",
    "    return -0.2*c\n",
    "\n",
    "# initial condition\n",
    "c0 = np.array([1])\n",
    "\n",
    "# analytical solution of ODE\n",
    "def cA_analytical(k: float, t: float) -> float:\n",
    "    return np.exp(-k*t)"
   ]
  },
  {
   "cell_type": "markdown",
   "id": "71d3bd61",
   "metadata": {},
   "source": [
    "Define a fine and a coarse time grid."
   ]
  },
  {
   "cell_type": "code",
   "execution_count": null,
   "id": "62fd9532",
   "metadata": {},
   "outputs": [],
   "source": [
    "t_fine = np.linspace(0,50,51)\n",
    "c_fine = forward_euler(dcA, c0, t_fine)\n",
    "t_coarse = np.linspace(0,50,5)\n",
    "c_coarse = forward_euler(dcA, c0, t_coarse)"
   ]
  },
  {
   "cell_type": "markdown",
   "id": "2037a533",
   "metadata": {},
   "source": [
    "Plot the results."
   ]
  },
  {
   "cell_type": "code",
   "execution_count": null,
   "id": "48571d00",
   "metadata": {},
   "outputs": [],
   "source": [
    "fig, ax = plt.subplots()\n",
    "ax.plot(t_fine, c_fine[0,:], label = f\"cA - h=1s\")\n",
    "ax.plot(t_coarse, c_coarse[0,:], label = f\"cA - h=12.5s\")\n",
    "ax.plot(t_fine, cA_analytical(0.2, t_fine), label = \"cA - analytical solution\")\n",
    "ax.set_xlabel(\"time /s\")\n",
    "ax.set_ylabel(\"concentration /mol/L\")\n",
    "ax.set_title(\"Stability\")\n",
    "ax.legend()\n",
    "ax.grid()\n",
    "fig.show()"
   ]
  },
  {
   "cell_type": "markdown",
   "id": "f2fe0252",
   "metadata": {},
   "source": [
    "## SciPy's `solve_ivp`"
   ]
  },
  {
   "cell_type": "markdown",
   "id": "bf7cd621",
   "metadata": {},
   "source": [
    "We analyze the semi-batch reactor. The reactor model contains a non-autonomous term (right hand-side contains the independent variable $t$ explicitly).\n",
    "\n",
    "$\\frac{dC_A}{dt}=\\frac{\\dot{V}}{V_0+\\dot{V}t}\\left(C_A^{in}-C_A\\right)-kC_A$\n",
    "\n",
    "$\\frac{dC_B}{dt}=kC_A$\n",
    "\n",
    "Initial contitions:\n",
    "\n",
    "$C_A(t=0\\,s)=1\\, mol/L,\\; C_B(0)=0\\, mol/L$\n"
   ]
  },
  {
   "cell_type": "markdown",
   "id": "549d5c7b",
   "metadata": {},
   "source": [
    "Define parameters."
   ]
  },
  {
   "cell_type": "code",
   "execution_count": null,
   "id": "a3d19e3e",
   "metadata": {},
   "outputs": [],
   "source": [
    "# time domain\n",
    "t_start = 0.0\n",
    "t_end = 30.0\n",
    "n = 500\n",
    "t = np.linspace(t_start, t_end, n)\n",
    "\n",
    "# initial conditions\n",
    "c0 = np.array([1,0])"
   ]
  },
  {
   "cell_type": "markdown",
   "id": "0ac9d482",
   "metadata": {},
   "source": [
    "Define the reaction system."
   ]
  },
  {
   "cell_type": "code",
   "execution_count": null,
   "id": "c5eb6f43",
   "metadata": {},
   "outputs": [],
   "source": [
    "def dC(t: np.ndarray, c: np.ndarray) -> np.ndarray:\n",
    "    \"\"\"ODE system for semi-batch reactor.\n",
    "\n",
    "    Parameters\n",
    "    ----------\n",
    "    t : np.ndarray\n",
    "        Time variable\n",
    "    c : np.ndarray\n",
    "        Concentration of individual components\n",
    "\n",
    "    Returns\n",
    "    -------\n",
    "    np.ndarray\n",
    "        Concentration gradient in reactor\n",
    "    \"\"\"\n",
    "    cA, _ = c\n",
    "    k = 0.2\n",
    "    Vdot = 0.1\n",
    "    V_0 = 10\n",
    "    cA_in = 0.5\n",
    "    dcA = Vdot/(V_0+Vdot*t)*(cA_in-cA)-k*cA\n",
    "    dcB = k*cA\n",
    "    return np.array([dcA, dcB])"
   ]
  },
  {
   "cell_type": "markdown",
   "id": "6ee6c21b",
   "metadata": {},
   "source": [
    "Solve the IVP using SciPy's `solve_ivp` function."
   ]
  },
  {
   "cell_type": "code",
   "execution_count": null,
   "id": "b810383d",
   "metadata": {},
   "outputs": [],
   "source": [
    "results = sp.integrate.solve_ivp(dC, (t[0],t[-1]), c0, t_eval=t)\n",
    "cA = results.y[0]\n",
    "cB = results.y[1]"
   ]
  },
  {
   "cell_type": "markdown",
   "id": "af624f50",
   "metadata": {},
   "source": [
    "Plot the results."
   ]
  },
  {
   "cell_type": "code",
   "execution_count": null,
   "id": "cda4619e",
   "metadata": {},
   "outputs": [],
   "source": [
    "fig, ax = plt.subplots()\n",
    "ax.plot(t, cA, label = \"cA\")\n",
    "ax.plot(t, cB, label = \"cB\")\n",
    "ax.set_xlabel(\"time /s\")\n",
    "ax.set_ylabel(\"concentration /mol/L\")\n",
    "ax.set_title(\"IVP solution using solve_ivp\")\n",
    "ax.legend()\n",
    "ax.grid()\n",
    "fig.show()"
   ]
  }
 ],
 "metadata": {
  "kernelspec": {
   "display_name": ".venv",
   "language": "python",
   "name": "python3"
  },
  "language_info": {
   "codemirror_mode": {
    "name": "ipython",
    "version": 3
   },
   "file_extension": ".py",
   "mimetype": "text/x-python",
   "name": "python",
   "nbconvert_exporter": "python",
   "pygments_lexer": "ipython3",
   "version": "3.10.12"
  }
 },
 "nbformat": 4,
 "nbformat_minor": 5
}
