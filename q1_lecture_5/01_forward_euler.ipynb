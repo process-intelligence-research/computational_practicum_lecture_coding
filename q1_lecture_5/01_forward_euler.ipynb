{
 "cells": [
  {
   "cell_type": "markdown",
   "id": "77ffb73d",
   "metadata": {},
   "source": [
    "Import packages."
   ]
  },
  {
   "cell_type": "code",
   "execution_count": 1,
   "id": "c06ef2f3",
   "metadata": {},
   "outputs": [],
   "source": [
    "import numpy as np\n",
    "import matplotlib.pyplot as plt\n",
    "from typing import Callable"
   ]
  },
  {
   "cell_type": "markdown",
   "id": "497c7b06",
   "metadata": {},
   "source": [
    "## The Forward Euler method"
   ]
  },
  {
   "cell_type": "markdown",
   "id": "bc4b3127",
   "metadata": {},
   "source": [
    "We analyze the semi-batch reactor. The reactor model contains a non-autonomous term (right hand-side contains the independent variable $t$ explicitly).\n",
    "\n",
    "$\\frac{dC_A}{dt}=\\frac{\\dot{V}}{V_0+\\dot{V}t}\\left(C_A^{in}-C_A\\right)-kC_A$\n",
    "\n",
    "$\\frac{dC_B}{dt}=kC_A-\\frac{\\dot{V}}{V_0+\\dot{V}t}C_B$\n",
    "\n",
    "For this example we set:\n",
    "\n",
    "$ C_A^{in} = 0.5 \\ mol/L$\n",
    "\n",
    "$ V_0 = 10 \\  L$\n",
    "\n",
    "$ \\dot{V} = 0.1 \\ L/ min $\n",
    "\n",
    "$ k = 0.2 \\ min^{-1} $\n",
    "\n",
    "Initial conditions:\n",
    "\n",
    "$C_A(t=0\\,s)=1\\, mol/L,\\; C_B(t=0\\,s)=0\\, mol/L$\n"
   ]
  },
  {
   "cell_type": "markdown",
   "id": "1bc8041d",
   "metadata": {},
   "source": [
    "Define parameters."
   ]
  },
  {
   "cell_type": "code",
   "execution_count": 2,
   "id": "b3be025b",
   "metadata": {},
   "outputs": [],
   "source": [
    "# time domain\n",
    "t_start = 0.0\n",
    "t_end = 30.0\n",
    "n = 500\n",
    "t = np.linspace(t_start, t_end, n)\n",
    "\n",
    "# initial conditions\n",
    "c0 = np.array([1,0])"
   ]
  },
  {
   "cell_type": "markdown",
   "id": "cc0b5473",
   "metadata": {},
   "source": [
    "Define the reaction system."
   ]
  },
  {
   "cell_type": "code",
   "execution_count": 3,
   "id": "0b8af8ae",
   "metadata": {},
   "outputs": [],
   "source": [
    "def dC(t: float, c: np.ndarray) -> np.ndarray:\n",
    "    \"\"\"ODE system for semi-batch reactor.\n",
    "\n",
    "    Parameters\n",
    "    ----------\n",
    "    t : float\n",
    "        Time variable\n",
    "    c : np.ndarray\n",
    "        Concentration of individual components\n",
    "\n",
    "    Returns\n",
    "    -------\n",
    "    np.ndarray\n",
    "        Concentration gradient in reactor\n",
    "    \"\"\"\n",
    "    cA, cB = c\n",
    "\n",
    "    # define constant parameters\n",
    "    k = 0.2       \n",
    "    Vdot = 0.1    \n",
    "    V_0 = 10\n",
    "    cA_in = 0.5\n",
    "\n",
    "    # define the system of ODEs\n",
    "    dcA = Vdot/(V_0+Vdot*t)*(cA_in-cA)-k*cA\n",
    "    dcB = k*cA-Vdot/(V_0+Vdot*t)*cB\n",
    "    \n",
    "    return np.array([dcA, dcB])"
   ]
  },
  {
   "cell_type": "markdown",
   "id": "f8205b6c",
   "metadata": {},
   "source": [
    "Define forward Euler method.\n",
    "\n",
    "We use a 2D array to store the concentrations: $c = \\begin{pmatrix} c_{A,0} & c_{A,1} & \\dots & c_{A,N-1} \\\\ c_{B,0} & c_{B,1} & \\dots & c_{B,N-1}  \\end{pmatrix}$"
   ]
  },
  {
   "cell_type": "code",
   "execution_count": 4,
   "id": "c87fe9f1",
   "metadata": {},
   "outputs": [],
   "source": [
    "def forward_euler(func: Callable, c0: np.ndarray, t: np.ndarray) -> np.ndarray:\n",
    "    \"\"\"Generic forward euler method for initial value problem.\n",
    "\n",
    "    Parameters\n",
    "    ----------\n",
    "    func : Callable\n",
    "        ODE system to be solved\n",
    "    c0 : np.ndarray\n",
    "        Initial condition\n",
    "    t : np.ndarray\n",
    "        Time grid points\n",
    "\n",
    "    Returns\n",
    "    -------\n",
    "    np.ndarray\n",
    "        Solution of ODE system\n",
    "    \"\"\"\n",
    "    # initialize arrays for time and solution values\n",
    "    c = np.zeros((len(c0),len(t)))\n",
    "    h = t[1]-t[0]\n",
    "\n",
    "    # initial condition\n",
    "    c[:,0] = c0\n",
    "\n",
    "    # iterate over each time step\n",
    "    for i in range(1,len(t)):\n",
    "        c[:,i] = c[:,i-1]+h*func(t[i-1], c[:,i-1])\n",
    "    return c"
   ]
  },
  {
   "cell_type": "markdown",
   "id": "a8f1cf3e",
   "metadata": {},
   "source": [
    "Execute forward Euler method."
   ]
  },
  {
   "cell_type": "code",
   "execution_count": 5,
   "id": "37938f85",
   "metadata": {},
   "outputs": [],
   "source": [
    "c = forward_euler(dC, c0, t)"
   ]
  },
  {
   "cell_type": "markdown",
   "id": "968b56a6",
   "metadata": {},
   "source": [
    "Plot the results."
   ]
  },
  {
   "cell_type": "code",
   "execution_count": null,
   "id": "8d922ecc",
   "metadata": {},
   "outputs": [],
   "source": [
    "fig = plt.figure()\n",
    "plt.plot(t, c[0,:], label = \"c$_A$\")\n",
    "plt.plot(t, c[1,:], label = \"c$_B$\")\n",
    "plt.xlabel(\"time [s]\")\n",
    "plt.ylabel(\"concentration [mol/L]\")\n",
    "plt.title(\"The Forward Euler method\")\n",
    "plt.legend()\n",
    "plt.grid()\n",
    "plt.show()"
   ]
  },
  {
   "cell_type": "code",
   "execution_count": null,
   "id": "a34460b9",
   "metadata": {},
   "outputs": [],
   "source": []
  }
 ],
 "metadata": {
  "kernelspec": {
   "display_name": "QCFD",
   "language": "python",
   "name": "python3"
  },
  "language_info": {
   "codemirror_mode": {
    "name": "ipython",
    "version": 3
   },
   "file_extension": ".py",
   "mimetype": "text/x-python",
   "name": "python",
   "nbconvert_exporter": "python",
   "pygments_lexer": "ipython3",
   "version": "3.11.10"
  }
 },
 "nbformat": 4,
 "nbformat_minor": 5
}
