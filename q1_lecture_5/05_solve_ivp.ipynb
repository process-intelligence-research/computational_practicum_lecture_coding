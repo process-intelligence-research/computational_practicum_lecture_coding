{
 "cells": [
  {
   "cell_type": "markdown",
   "id": "77ffb73d",
   "metadata": {},
   "source": [
    "Import packages."
   ]
  },
  {
   "cell_type": "code",
   "execution_count": null,
   "id": "c06ef2f3",
   "metadata": {},
   "outputs": [],
   "source": [
    "import scipy as sp\n",
    "import numpy as np\n",
    "import matplotlib.pyplot as plt"
   ]
  },
  {
   "cell_type": "markdown",
   "id": "c6cb327f",
   "metadata": {},
   "source": [
    "## SciPy's `solve_ivp`"
   ]
  },
  {
   "cell_type": "markdown",
   "id": "e062754b",
   "metadata": {},
   "source": [
    "We analyze the semi-batch reactor. The reactor model contains a non-autonomous term (right hand-side contains the independent variable $t$ explicitly).\n",
    "\n",
    "$\\frac{dC_A}{dt}=\\frac{\\dot{V}}{V_0+\\dot{V}t}\\left(C_A^{in}-C_A\\right)-kC_A$\n",
    "\n",
    "$\\frac{dC_B}{dt}=kC_A$\n",
    "\n",
    "Initial contitions:\n",
    "\n",
    "$C_A(t=0\\,s)=1\\, mol/L,\\; C_B(0)=0\\, mol/L$\n"
   ]
  },
  {
   "cell_type": "markdown",
   "id": "0e9c3d07",
   "metadata": {},
   "source": [
    "Define parameters."
   ]
  },
  {
   "cell_type": "code",
   "execution_count": null,
   "id": "acdced74",
   "metadata": {},
   "outputs": [],
   "source": [
    "# time domain\n",
    "t_start = 0.0\n",
    "t_end = 30.0\n",
    "n = 500\n",
    "t = np.linspace(t_start, t_end, n)\n",
    "\n",
    "# initial conditions\n",
    "c0 = np.array([1,0])"
   ]
  },
  {
   "cell_type": "markdown",
   "id": "03ffff84",
   "metadata": {},
   "source": [
    "Define the reaction system."
   ]
  },
  {
   "cell_type": "code",
   "execution_count": null,
   "id": "8da4c958",
   "metadata": {},
   "outputs": [],
   "source": [
    "def dC(t: np.ndarray, c: np.ndarray) -> np.ndarray:\n",
    "    \"\"\"ODE system for semi-batch reactor.\n",
    "\n",
    "    Parameters\n",
    "    ----------\n",
    "    t : np.ndarray\n",
    "        Time variable\n",
    "    c : np.ndarray\n",
    "        Concentration of individual components\n",
    "\n",
    "    Returns\n",
    "    -------\n",
    "    np.ndarray\n",
    "        Concentration gradient in reactor\n",
    "    \"\"\"\n",
    "    cA, _ = c\n",
    "    k = 0.2\n",
    "    Vdot = 0.1\n",
    "    V_0 = 10\n",
    "    cA_in = 0.5\n",
    "    dcA = Vdot/(V_0+Vdot*t)*(cA_in-cA)-k*cA\n",
    "    dcB = k*cA\n",
    "    return np.array([dcA, dcB])"
   ]
  },
  {
   "cell_type": "markdown",
   "id": "efff3a84",
   "metadata": {},
   "source": [
    "Solve the IVP using SciPy's `solve_ivp` function."
   ]
  },
  {
   "cell_type": "code",
   "execution_count": null,
   "id": "f35ed06f",
   "metadata": {},
   "outputs": [],
   "source": [
    "results = sp.integrate.solve_ivp(dC, (t[0],t[-1]), c0, t_eval=t)\n",
    "cA = results.y[0]\n",
    "cB = results.y[1]"
   ]
  },
  {
   "cell_type": "markdown",
   "id": "0dbf4463",
   "metadata": {},
   "source": [
    "Plot the results."
   ]
  },
  {
   "cell_type": "code",
   "execution_count": null,
   "id": "771e5636",
   "metadata": {},
   "outputs": [],
   "source": [
    "fig, ax = plt.subplots()\n",
    "ax.plot(t, cA, label = \"cA\")\n",
    "ax.plot(t, cB, label = \"cB\")\n",
    "ax.set_xlabel(\"time /s\")\n",
    "ax.set_ylabel(\"concentration /mol/L\")\n",
    "ax.set_title(\"IVP solution using solve_ivp\")\n",
    "ax.legend()\n",
    "ax.grid()\n",
    "fig.show()"
   ]
  }
 ],
 "metadata": {
  "kernelspec": {
   "display_name": ".venv",
   "language": "python",
   "name": "python3"
  },
  "language_info": {
   "codemirror_mode": {
    "name": "ipython",
    "version": 3
   },
   "file_extension": ".py",
   "mimetype": "text/x-python",
   "name": "python",
   "nbconvert_exporter": "python",
   "pygments_lexer": "ipython3",
   "version": "3.10.12"
  }
 },
 "nbformat": 4,
 "nbformat_minor": 5
}
