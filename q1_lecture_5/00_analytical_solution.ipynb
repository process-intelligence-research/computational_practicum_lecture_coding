{
 "cells": [
  {
   "cell_type": "markdown",
   "id": "77ffb73d",
   "metadata": {},
   "source": [
    "Import packages."
   ]
  },
  {
   "cell_type": "code",
   "execution_count": null,
   "id": "c06ef2f3",
   "metadata": {},
   "outputs": [],
   "source": [
    "import scipy as sp\n",
    "import numpy as np\n",
    "import matplotlib.pyplot as plt"
   ]
  },
  {
   "cell_type": "markdown",
   "id": "0af5e309",
   "metadata": {},
   "source": [
    "## Analytical solution - linear system of ODEs"
   ]
  },
  {
   "cell_type": "markdown",
   "id": "104f96cd",
   "metadata": {},
   "source": [
    "Solve the following reaction system analytically.\n",
    "\n",
    "$A \\xrightleftharpoons[k_2]{k_1} B \\xrightleftharpoons[k_4]{k_3} C$\n",
    "\n",
    "Initial conditions:\n",
    "\n",
    "$C_A(0)=1\\, mol/L$\n",
    "\n",
    "$C_B(0)=C_C(0)=0\\, mol/L$\n",
    "\n",
    "Rate constants:\n",
    "\n",
    "$k_1=1\\, min^{-1}, k_2=0\\, min^{-1}, k_3=2\\, min^{-1}, k_4=3\\, min^{-1}$\n"
   ]
  },
  {
   "cell_type": "markdown",
   "id": "16cb26ee",
   "metadata": {},
   "source": [
    "Define parameters."
   ]
  },
  {
   "cell_type": "code",
   "execution_count": null,
   "id": "c96759c6",
   "metadata": {},
   "outputs": [],
   "source": [
    "# time domain\n",
    "t = np.linspace(0, 10, 500)\n",
    "dt = t[1]-t[0]\n",
    "\n",
    "# initial condition\n",
    "c_0 = np.array([1,0,0])\n",
    "\n",
    "# matrix of the rates\n",
    "K = np.array([[-1,0,0],[1,-2,3],[0,2,-3]])"
   ]
  },
  {
   "cell_type": "markdown",
   "id": "61bc01ba",
   "metadata": {},
   "source": [
    "Calculate exponential of matrix.\n",
    "\n",
    "Note: `expm` vs `exp` in scipy\n",
    "- `exmp`: matrix exponentiation $e^A=Ue^\\lambda U^{-1}$\n",
    "- `exp`: scalar value exponentiation $e^x, x \\in \\mathbb{R}$\n"
   ]
  },
  {
   "cell_type": "code",
   "execution_count": null,
   "id": "275ca5ef",
   "metadata": {},
   "outputs": [],
   "source": [
    "eK = K * dt\n",
    "eKdt = sp.linalg.expm(eK)"
   ]
  },
  {
   "cell_type": "markdown",
   "id": "081bbb2d",
   "metadata": {},
   "source": [
    "Calculate concentration at time steps."
   ]
  },
  {
   "cell_type": "code",
   "execution_count": null,
   "id": "2753fb16",
   "metadata": {},
   "outputs": [],
   "source": [
    "C = [c_0]\n",
    "for i in range(len(t)-1):\n",
    "    c_0 = np.dot(eKdt,c_0)\n",
    "    C.append(c_0)\n",
    "\n",
    "# extract values\n",
    "cA = [array[0] for array in C]\n",
    "cB = [array[1] for array in C]\n",
    "cC = [array[2] for array in C]"
   ]
  },
  {
   "cell_type": "markdown",
   "id": "899c3002",
   "metadata": {},
   "source": [
    "Plot the results."
   ]
  },
  {
   "cell_type": "code",
   "execution_count": null,
   "id": "e619a471",
   "metadata": {},
   "outputs": [],
   "source": [
    "fig, ax = plt.subplots()\n",
    "ax.plot(t, cA, label = \"cA\")\n",
    "ax.plot(t, cB, label = \"cB\")\n",
    "ax.plot(t, cC, label = \"cC\")\n",
    "ax.set_xlabel(\"time /s\")\n",
    "ax.set_ylabel(\"concentration /mol/L\")\n",
    "ax.set_title(\"Analytical solution - linear system of ODEs\")\n",
    "ax.legend()\n",
    "ax.grid()\n",
    "fig.show()"
   ]
  }
 ],
 "metadata": {
  "kernelspec": {
   "display_name": ".venv",
   "language": "python",
   "name": "python3"
  },
  "language_info": {
   "codemirror_mode": {
    "name": "ipython",
    "version": 3
   },
   "file_extension": ".py",
   "mimetype": "text/x-python",
   "name": "python",
   "nbconvert_exporter": "python",
   "pygments_lexer": "ipython3",
   "version": "3.10.12"
  }
 },
 "nbformat": 4,
 "nbformat_minor": 5
}
