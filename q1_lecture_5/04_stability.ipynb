{
 "cells": [
  {
   "cell_type": "markdown",
   "id": "77ffb73d",
   "metadata": {},
   "source": [
    "Import packages."
   ]
  },
  {
   "cell_type": "code",
   "execution_count": 1,
   "id": "c06ef2f3",
   "metadata": {},
   "outputs": [],
   "source": [
    "import scipy\n",
    "import numpy as np\n",
    "import matplotlib.pyplot as plt\n",
    "from typing import Callable"
   ]
  },
  {
   "cell_type": "markdown",
   "id": "c62958f1",
   "metadata": {},
   "source": [
    "Reuse forward Euler method from previous example:"
   ]
  },
  {
   "cell_type": "code",
   "execution_count": 2,
   "id": "c71b4d7d",
   "metadata": {},
   "outputs": [],
   "source": [
    "def forward_euler(func: Callable, c0: np.ndarray, t: np.ndarray) -> np.ndarray:\n",
    "    \"\"\"Generic forward euler method for initial value problem.\n",
    "\n",
    "    Parameters\n",
    "    ----------\n",
    "    func : Callable\n",
    "        ODE system to be solved\n",
    "    c0 : np.ndarray\n",
    "        Initial condition\n",
    "    t : np.ndarray\n",
    "        Time grid points\n",
    "\n",
    "    Returns\n",
    "    -------\n",
    "    np.ndarray\n",
    "        Solution of ODE system\n",
    "    \"\"\"\n",
    "    # initialize arrays for time and solution values\n",
    "    c = np.zeros((len(c0),len(t)))\n",
    "    h = t[1]-t[0]\n",
    "\n",
    "    # initial condition\n",
    "    c[:,0] = c0\n",
    "\n",
    "    # iterate over each time step\n",
    "    for i in range(1,len(t)):\n",
    "        c[:,i] = c[:,i-1]+h*func(t[i-1], c[:,i-1])\n",
    "    return c"
   ]
  },
  {
   "cell_type": "markdown",
   "id": "5d8d7ef3",
   "metadata": {},
   "source": [
    "Reuse backward Euler method from previous example:"
   ]
  },
  {
   "cell_type": "code",
   "execution_count": 3,
   "id": "c8af63aa",
   "metadata": {},
   "outputs": [],
   "source": [
    "def backward_euler(func: Callable, c0: np.ndarray, t: np.ndarray) -> np.ndarray:\n",
    "    \"\"\"Generic backward Euler method for initial value problem. Use scipy's \n",
    "    fsolve to solve root finding problem.\n",
    "\n",
    "    Parameters\n",
    "    ----------\n",
    "    func : Callable\n",
    "        Function that defines the ODE (y' = func(t, y)).\n",
    "    c0 : np.ndarray\n",
    "        Initial condition.\n",
    "    t : np.ndarray\n",
    "        Time domain.\n",
    "\n",
    "    Returns\n",
    "    -------\n",
    "    np.ndarray\n",
    "        Array of solution values at the time points.\n",
    "    \"\"\"\n",
    "    # initialize arrays for time and solution values\n",
    "    c = np.zeros([len(c0),len(t)])\n",
    "    dt = t[1]-t[0]\n",
    "\n",
    "    # initial condition\n",
    "    c[:,0] = c0\n",
    "    \n",
    "    # iterate over each time step\n",
    "    for i in range(len(t)-1):\n",
    "        \n",
    "        # initial guess for y_{i+1}\n",
    "        c_guess = c[:,i]\n",
    "\n",
    "        # define backward Euler function\n",
    "        euler = lambda c_next: c[:,i] + dt * func(t[i+1], c_next) - c_next\n",
    "\n",
    "        # update solution\n",
    "        c[:,i+1] = scipy.optimize.fsolve(euler, c_guess)\n",
    "    \n",
    "    return c"
   ]
  },
  {
   "cell_type": "markdown",
   "id": "ad4b8f9b",
   "metadata": {},
   "source": [
    "## Stability\n",
    "\n",
    "We have the following example\n",
    "\n",
    "$A {\\overset{k}{\\rightarrow}} B$\n",
    "\n",
    "Initial conditions:\n",
    "\n",
    "$C_A(0)=1\\, mol/L$\n",
    "\n",
    "$C_B(0)=0\\, mol/L$\n",
    "\n",
    "Rate constant:\n",
    "\n",
    "$k=0.2\\, min^{-1}$\n",
    "\n",
    "ODE for $C_A$ :\n",
    "\n",
    "$\\frac{dC_A}{dt} = -kC_A $\n",
    "\n",
    "The concentration of B follows from the following algebraic relationship assuming constant total concentration equal to 1: \n",
    "\n",
    "$ C_B = 1 - C_A $\n",
    "\n",
    "Analytical solutions:\n",
    "\n",
    "$ C_A(t)=e^{-kt} $\n",
    "\n",
    "$ C_B(t)=1 - e^{-kt} $"
   ]
  },
  {
   "cell_type": "markdown",
   "id": "7f95c6dc",
   "metadata": {},
   "source": [
    "Define parameters"
   ]
  },
  {
   "cell_type": "code",
   "execution_count": 4,
   "id": "7da833a2",
   "metadata": {},
   "outputs": [],
   "source": [
    "# ODE for CA\n",
    "def dcA(t, c):\n",
    "    return -0.2*c\n",
    "\n",
    "# initial condition\n",
    "c0 = np.array([1])\n",
    "\n",
    "# analytical solution of ODE\n",
    "def cA_analytical(k: float, t: float) -> float:\n",
    "    return np.exp(-k*t)"
   ]
  },
  {
   "cell_type": "markdown",
   "id": "7e2622f2",
   "metadata": {},
   "source": [
    "Define a fine and a coarse time grid."
   ]
  },
  {
   "cell_type": "code",
   "execution_count": 5,
   "id": "1a899221",
   "metadata": {},
   "outputs": [],
   "source": [
    "t_fine = np.linspace(0,50,51)\n",
    "h_fine = (t_fine[-1]-t_fine[0])/(len(t_fine)-1)\n",
    "c_fine = forward_euler(dcA, c0, t_fine)\n",
    "\n",
    "t_coarse = np.linspace(0,50,5)\n",
    "h_coarse = (t_coarse[-1]-t_coarse[0])/(len(t_coarse)-1)\n",
    "c_coarse_forward = forward_euler(dcA, c0, t_coarse)\n",
    "c_coarse_backward = backward_euler(dcA, c0, t_coarse)"
   ]
  },
  {
   "cell_type": "markdown",
   "id": "32c14993",
   "metadata": {},
   "source": [
    "Plot the results."
   ]
  },
  {
   "cell_type": "code",
   "execution_count": null,
   "id": "e07fda44",
   "metadata": {},
   "outputs": [],
   "source": [
    "fig, ax = plt.subplots()\n",
    "ax.plot(t_fine, c_fine[0,:], label = f\"forward Euler, h={h_fine}\")\n",
    "ax.plot(t_coarse, c_coarse_forward[0,:], label = f\"forward Euler, h={h_coarse}\")\n",
    "ax.plot(t_coarse, c_coarse_backward[0,:], label = f\"backward Euler, h={h_coarse}\")\n",
    "ax.plot(t_fine, cA_analytical(0.2, t_fine), label = \"analytical solution\", linestyle = \"dashed\")\n",
    "ax.set_xlabel(\"time [s]\")\n",
    "ax.set_ylabel(\"concentration [mol/L]\")\n",
    "ax.set_title(\"Stability Analysis\")\n",
    "ax.legend()\n",
    "ax.grid()\n",
    "fig.show()"
   ]
  },
  {
   "cell_type": "code",
   "execution_count": null,
   "id": "0425435a",
   "metadata": {},
   "outputs": [],
   "source": []
  }
 ],
 "metadata": {
  "kernelspec": {
   "display_name": "QCFD",
   "language": "python",
   "name": "python3"
  },
  "language_info": {
   "codemirror_mode": {
    "name": "ipython",
    "version": 3
   },
   "file_extension": ".py",
   "mimetype": "text/x-python",
   "name": "python",
   "nbconvert_exporter": "python",
   "pygments_lexer": "ipython3",
   "version": "3.11.10"
  }
 },
 "nbformat": 4,
 "nbformat_minor": 5
}
