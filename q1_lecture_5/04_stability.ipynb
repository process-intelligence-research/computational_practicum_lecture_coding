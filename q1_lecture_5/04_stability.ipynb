{
 "cells": [
  {
   "cell_type": "markdown",
   "id": "77ffb73d",
   "metadata": {},
   "source": [
    "Import packages."
   ]
  },
  {
   "cell_type": "code",
   "execution_count": null,
   "id": "c06ef2f3",
   "metadata": {},
   "outputs": [],
   "source": [
    "import time\n",
    "import numpy as np\n",
    "import matplotlib.pyplot as plt\n",
    "from typing import Callable"
   ]
  },
  {
   "cell_type": "markdown",
   "id": "c62958f1",
   "metadata": {},
   "source": [
    "Reuse forward euler method from previous example:"
   ]
  },
  {
   "cell_type": "code",
   "execution_count": null,
   "id": "c71b4d7d",
   "metadata": {},
   "outputs": [],
   "source": [
    "def forward_euler(func: Callable, y0: np.ndarray, t: np.ndarray) -> np.ndarray:\n",
    "    \"\"\"Generic forward euler method for initial value problem.\n",
    "\n",
    "    Parameters\n",
    "    ----------\n",
    "    func : Callable\n",
    "        ODE system to be solved\n",
    "    y0 : np.ndarray\n",
    "        Initial condition\n",
    "    t : np.ndarray\n",
    "        Time grid points\n",
    "\n",
    "    Returns\n",
    "    -------\n",
    "    np.ndarray\n",
    "        Solution of ODE system\n",
    "    \"\"\"\n",
    "    y = np.zeros((len(y0),len(t)))\n",
    "    h = t[1]-t[0]\n",
    "    # initial condition\n",
    "    y[:,0] = y0\n",
    "    for i in range(1,len(t)):\n",
    "        y[:,i] = y[:,i-1]+h*func(t[i-1], y[:,i-1])\n",
    "    return y"
   ]
  },
  {
   "cell_type": "markdown",
   "id": "ad4b8f9b",
   "metadata": {},
   "source": [
    "## Stability"
   ]
  },
  {
   "cell_type": "markdown",
   "id": "7f95c6dc",
   "metadata": {},
   "source": [
    "Define parameters"
   ]
  },
  {
   "cell_type": "code",
   "execution_count": null,
   "id": "7da833a2",
   "metadata": {},
   "outputs": [],
   "source": [
    "# ODE\n",
    "def dcA(t, c):\n",
    "    return -0.2*c\n",
    "\n",
    "# initial condition\n",
    "c0 = np.array([1])\n",
    "\n",
    "# analytical solution of ODE\n",
    "def cA_analytical(k: float, t: float) -> float:\n",
    "    return np.exp(-k*t)"
   ]
  },
  {
   "cell_type": "markdown",
   "id": "7e2622f2",
   "metadata": {},
   "source": [
    "Define a fine and a coarse time grid."
   ]
  },
  {
   "cell_type": "code",
   "execution_count": null,
   "id": "1a899221",
   "metadata": {},
   "outputs": [],
   "source": [
    "t_fine = np.linspace(0,50,51)\n",
    "c_fine = forward_euler(dcA, c0, t_fine)\n",
    "t_coarse = np.linspace(0,50,5)\n",
    "c_coarse = forward_euler(dcA, c0, t_coarse)"
   ]
  },
  {
   "cell_type": "markdown",
   "id": "32c14993",
   "metadata": {},
   "source": [
    "Plot the results."
   ]
  },
  {
   "cell_type": "code",
   "execution_count": null,
   "id": "e07fda44",
   "metadata": {},
   "outputs": [],
   "source": [
    "fig, ax = plt.subplots()\n",
    "ax.plot(t_fine, c_fine[0,:], label = f\"cA - h=1s\")\n",
    "ax.plot(t_coarse, c_coarse[0,:], label = f\"cA - h=12.5s\")\n",
    "ax.plot(t_fine, cA_analytical(0.2, t_fine), label = \"cA - analytical solution\")\n",
    "ax.set_xlabel(\"time /s\")\n",
    "ax.set_ylabel(\"concentration /mol/L\")\n",
    "ax.set_title(\"Stability\")\n",
    "ax.legend()\n",
    "ax.grid()\n",
    "fig.show()"
   ]
  }
 ],
 "metadata": {
  "kernelspec": {
   "display_name": ".venv",
   "language": "python",
   "name": "python3"
  },
  "language_info": {
   "codemirror_mode": {
    "name": "ipython",
    "version": 3
   },
   "file_extension": ".py",
   "mimetype": "text/x-python",
   "name": "python",
   "nbconvert_exporter": "python",
   "pygments_lexer": "ipython3",
   "version": "3.10.12"
  }
 },
 "nbformat": 4,
 "nbformat_minor": 5
}
