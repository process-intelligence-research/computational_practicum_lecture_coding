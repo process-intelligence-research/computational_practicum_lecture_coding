{
 "cells": [
  {
   "cell_type": "markdown",
   "id": "77ffb73d",
   "metadata": {},
   "source": [
    "Import packages."
   ]
  },
  {
   "cell_type": "code",
   "execution_count": 55,
   "id": "c06ef2f3",
   "metadata": {},
   "outputs": [],
   "source": [
    "import scipy\n",
    "import numpy as np\n",
    "import matplotlib.pyplot as plt\n",
    "from typing import Callable"
   ]
  },
  {
   "cell_type": "markdown",
   "id": "aba5683e",
   "metadata": {},
   "source": [
    "## The Backward Euler method"
   ]
  },
  {
   "cell_type": "markdown",
   "id": "9a21f915",
   "metadata": {},
   "source": [
    "We analyze the semi-batch reactor. The reactor model contains a non-autonomous term (right hand-side contains the independent variable $t$ explicitly).\n",
    "\n",
    "$\\frac{dC_A}{dt}=\\frac{\\dot{V}}{V_0+\\dot{V}t}\\left(C_A^{in}-C_A\\right)-kC_A$\n",
    "\n",
    "$\\frac{dC_B}{dt}=kC_A-\\frac{\\dot{V}}{V_0+\\dot{V}t}C_B$\n",
    "\n",
    "Initial contition:\n",
    "\n",
    "$C_A(t=0\\,s)=1\\, mol/L,\\; C_B(t=0\\,s)=0\\, mol/L$"
   ]
  },
  {
   "cell_type": "markdown",
   "id": "a76317ed",
   "metadata": {},
   "source": [
    "Define parameters."
   ]
  },
  {
   "cell_type": "code",
   "execution_count": 56,
   "id": "847bc514",
   "metadata": {},
   "outputs": [],
   "source": [
    "# time domain\n",
    "t_start = 0.0\n",
    "t_end = 30.0\n",
    "i = 500\n",
    "t = np.linspace(t_start, t_end, i)\n",
    "\n",
    "# initial conditions\n",
    "c0 = np.array([1,0])"
   ]
  },
  {
   "cell_type": "markdown",
   "id": "48ad5e88",
   "metadata": {},
   "source": [
    "Define chemical reaction system."
   ]
  },
  {
   "cell_type": "code",
   "execution_count": 57,
   "id": "64f9b475",
   "metadata": {},
   "outputs": [],
   "source": [
    "def dC(t: np.ndarray, c: np.ndarray) -> np.ndarray:\n",
    "    \"\"\"ODE system for semi-batch reactor.\n",
    "\n",
    "    Parameters\n",
    "    ----------\n",
    "    t : np.ndarray\n",
    "        Time variable\n",
    "    c : np.ndarray\n",
    "        Concentration of individual components\n",
    "\n",
    "    Returns\n",
    "    -------\n",
    "    np.ndarray\n",
    "        Concentration gradient in reactor\n",
    "    \"\"\"\n",
    "    cA, cB = c\n",
    "    k = 0.2\n",
    "    Vdot = 0.1\n",
    "    V_0 = 10\n",
    "    cA_in = 0.5\n",
    "    dcA = Vdot/(V_0+Vdot*t)*(cA_in-cA)-k*cA\n",
    "    dcB = k*cA-Vdot/(V_0+Vdot*t)*cB\n",
    "    return np.array([dcA, dcB])"
   ]
  },
  {
   "cell_type": "markdown",
   "id": "445fabdc",
   "metadata": {},
   "source": [
    "Define backward euler method."
   ]
  },
  {
   "cell_type": "code",
   "execution_count": 58,
   "id": "f9741905",
   "metadata": {},
   "outputs": [],
   "source": [
    "def backward_euler(func: Callable, y0: np.ndarray, t: np.ndarray) -> np.ndarray:\n",
    "    \"\"\"Generic backward Euler method for initial value problem. Use scipy's \n",
    "    fsolve to solve root finding problem.\n",
    "\n",
    "    Parameters\n",
    "    ----------\n",
    "    func : Callable\n",
    "        Function that defines the ODE (y' = func(t, y)).\n",
    "    y0 : np.ndarray\n",
    "        Initial condition.\n",
    "    t : np.ndarray\n",
    "        Time domain.\n",
    "\n",
    "    Returns\n",
    "    -------\n",
    "    np.ndarray\n",
    "        Array of solution values at the time points.\n",
    "    \"\"\"\n",
    "    # Initialize arrays for time and solution values\n",
    "    y = np.zeros([len(y0),len(t)])\n",
    "    y[:,0] = y0\n",
    "    dt = t[1]-t[0]\n",
    "\n",
    "    # Iterate over each time step\n",
    "    for i in range(len(t)-1):\n",
    "        # Initial guess for y_{i+1}\n",
    "        y_guess = y[:,i]\n",
    "        # Define backward Euler function\n",
    "        euler = lambda y_next: y[:,i] + dt * func(t[i+1], y_next) - y_next\n",
    "\n",
    "        # Update solution\n",
    "        y[:,i+1] = scipy.optimize.fsolve(euler, y_guess)\n",
    "    \n",
    "    return y"
   ]
  },
  {
   "cell_type": "markdown",
   "id": "ad6b4a11",
   "metadata": {},
   "source": [
    "Execute backward euler method."
   ]
  },
  {
   "cell_type": "code",
   "execution_count": 59,
   "id": "f67b5c8c",
   "metadata": {},
   "outputs": [],
   "source": [
    "c = backward_euler(dC, c0, t)"
   ]
  },
  {
   "cell_type": "markdown",
   "id": "352708f9",
   "metadata": {},
   "source": [
    "Plot the results."
   ]
  },
  {
   "cell_type": "code",
   "execution_count": null,
   "id": "33dee447",
   "metadata": {},
   "outputs": [],
   "source": [
    "fig, ax = plt.subplots()\n",
    "ax.plot(t, c[0,:], label = \"cA\")\n",
    "ax.plot(t, c[1,:], label = \"cB\")\n",
    "ax.set_xlabel(\"time /s\")\n",
    "ax.set_ylabel(\"concentration /mol/L\")\n",
    "ax.set_title(\"The Backward Euler method\")\n",
    "ax.legend()\n",
    "ax.grid()\n",
    "fig.show()"
   ]
  }
 ],
 "metadata": {
  "kernelspec": {
   "display_name": ".venv",
   "language": "python",
   "name": "python3"
  },
  "language_info": {
   "codemirror_mode": {
    "name": "ipython",
    "version": 3
   },
   "file_extension": ".py",
   "mimetype": "text/x-python",
   "name": "python",
   "nbconvert_exporter": "python",
   "pygments_lexer": "ipython3",
   "version": "3.10.12"
  }
 },
 "nbformat": 4,
 "nbformat_minor": 5
}
