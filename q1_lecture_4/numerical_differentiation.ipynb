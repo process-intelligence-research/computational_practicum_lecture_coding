{
 "cells": [
  {
   "cell_type": "code",
   "execution_count": null,
   "metadata": {},
   "outputs": [],
   "source": [
    "import numpy as np\n",
    "import pandas as pd\n",
    "import matplotlib.pyplot as plt"
   ]
  },
  {
   "cell_type": "markdown",
   "metadata": {},
   "source": [
    "# Numerical differentiation for Fundamentals of Non-Ideal Reactors\n",
    "### Residence Time Distribution (RTD) and Cumulative Distribution Function (CDF)\n",
    "Elements of fluid can take different routes through a reactor, leading to varying passage times through the vessel. \n",
    "\n",
    "The distribution of these times for the fluid stream exiting the vessel is known as the exit age distribution \\(E\\), or the residence time distribution (RTD). The function \\(E\\) has units of $[1/\\text{time}]$.\n",
    "\n",
    "Aa step injection experiment was performend on a reactor with $C_0 = 1 [g/l]$. The effluent concentration $C_{out}(t)$ (in $[g/l]$) was measured as a function of time. The experiment's result are collected in a file `cdf_data.csv`.\n",
    "The measurements represent the exact concentrations at the times listed $[s]$ at the reactor outlet.\n",
    "\n",
    "We can define the Cumulative Distribution Function (CDF) or F(t) as:\n",
    "$$\n",
    "F(t) = \\frac{C_{out}(t)}{C_0}\n",
    "$$\n",
    "\n",
    "We want to plot the residence time distribution (RTD). To obtain the $E(t)$ curve from the $C(t)$ curve we can use the definition:\n",
    "\n",
    "$$\n",
    "E(t) = \\frac{dC(t)}{dt}\n",
    "$$"
   ]
  },
  {
   "cell_type": "code",
   "execution_count": null,
   "metadata": {},
   "outputs": [],
   "source": [
    "# Load experimental data\n",
    "try:\n",
    "    loaded_data = pd.read_csv('cdf_data.csv')\n",
    "except:\n",
    "    url = 'https://raw.githubusercontent.com/process-intelligence-research/computational_practicum_lecture_coding/main/q1_lecture_4/cdf_data.csv'\n",
    "    loaded_data = pd.read_csv(url)\n",
    "    print(\"Data loaded from github page\")\n",
    "\n",
    "time = loaded_data['Time'].to_numpy()\n",
    "Cout = loaded_data['Cout'].to_numpy()\n",
    "\n",
    "# Normalize data\n",
    "C0 = 1          # g/l\n",
    "F_t = Cout/C0   # -\n",
    "\n",
    "# Compute the PDF using FORWARD finite differences method (first order forward difference)\n",
    "E_t = np.zeros_like(F_t)\n",
    "for i in range(len(time) - 1):\n",
    "    E_t[i] = (F_t[i + 1] - F_t[i]) / (time[i + 1] - time[i])\n",
    "E_t[-1] = (F_t[-1] - F_t[-2]) / (time[-1] - time[-2]) # Use BACKWARD discretization on the last value to avoid out of index error"
   ]
  },
  {
   "cell_type": "code",
   "execution_count": null,
   "metadata": {},
   "outputs": [],
   "source": [
    "# Plotting the CDF and PDF\n",
    "plt.figure(figsize=(10, 5))\n",
    "\n",
    "plt.subplot(1, 2, 1)\n",
    "plt.plot(time, F_t, 'o-', label='F(t) - CDF')\n",
    "plt.xlabel('Time')\n",
    "plt.ylabel('F(t)')\n",
    "plt.title('Cumulative Distribution Function (CDF)')\n",
    "plt.legend()\n",
    "\n",
    "plt.subplot(1, 2, 2)\n",
    "plt.plot(time, E_t, 'o-', label='E(t) - PDF', color='orange')\n",
    "plt.xlabel('Time')\n",
    "plt.ylabel('E(t)')\n",
    "plt.title('Probability Density Function (PDF)')\n",
    "plt.legend()\n",
    "\n",
    "plt.tight_layout()\n",
    "plt.show()"
   ]
  },
  {
   "cell_type": "markdown",
   "metadata": {},
   "source": [
    "**Python built-in function**"
   ]
  },
  {
   "cell_type": "code",
   "execution_count": null,
   "metadata": {},
   "outputs": [],
   "source": [
    "# Compute the PDF using forward finite difference (with built-in functions)\n",
    "E_t = np.zeros_like(F_t)\n",
    "E_t[:-1] = np.diff(F_t) / np.diff(time)\n",
    "E_t[-1] = (F_t[-1] - F_t[-2]) / (time[-1] - time[-2])"
   ]
  },
  {
   "cell_type": "code",
   "execution_count": null,
   "metadata": {},
   "outputs": [],
   "source": [
    "# Plotting the CDF and PDF (you obtain the same plot as before)\n",
    "plt.figure(figsize=(10, 5))\n",
    "\n",
    "plt.subplot(1, 2, 1)\n",
    "plt.plot(time, F_t, 'o-', label='F(t) - CDF')\n",
    "plt.xlabel('Time')\n",
    "plt.ylabel('F(t)')\n",
    "plt.title('Cumulative Distribution Function (CDF)')\n",
    "plt.legend()\n",
    "\n",
    "plt.subplot(1, 2, 2)\n",
    "plt.plot(time, E_t, 'o-', label='E(t) - PDF', color='orange')\n",
    "plt.xlabel('Time')\n",
    "plt.ylabel('E(t)')\n",
    "plt.title('Probability Density Function (PDF)')\n",
    "plt.legend()\n",
    "\n",
    "plt.tight_layout()\n",
    "plt.show()"
   ]
  }
 ],
 "metadata": {
  "kernelspec": {
   "display_name": "Python 3",
   "language": "python",
   "name": "python3"
  },
  "language_info": {
   "codemirror_mode": {
    "name": "ipython",
    "version": 3
   },
   "file_extension": ".py",
   "mimetype": "text/x-python",
   "name": "python",
   "nbconvert_exporter": "python",
   "pygments_lexer": "ipython3",
   "version": "3.11.4"
  }
 },
 "nbformat": 4,
 "nbformat_minor": 2
}
