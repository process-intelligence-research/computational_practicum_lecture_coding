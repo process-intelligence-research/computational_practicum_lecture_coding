{
 "cells": [
  {
   "cell_type": "code",
   "execution_count": null,
   "metadata": {},
   "outputs": [],
   "source": [
    "from typing import Callable\n",
    "import numpy as np\n",
    "import matplotlib.pyplot as plt"
   ]
  },
  {
   "cell_type": "code",
   "execution_count": null,
   "metadata": {},
   "outputs": [],
   "source": [
    "def integrand(x: float) -> float:\n",
    "    \"\"\"Function returning the value of the integrand function\n",
    "    In this example f(x) = x^2 * exp(x)\n",
    "\n",
    "    Args:\n",
    "        x (float): The dependent variable of f(x)\n",
    "\n",
    "    Returns:\n",
    "        float: Integrand function value\n",
    "    \"\"\"\n",
    "    f = x**2 * np.exp(x)\n",
    "    return f"
   ]
  },
  {
   "cell_type": "code",
   "execution_count": null,
   "metadata": {},
   "outputs": [],
   "source": [
    "# Let's have a look at the function to be integrated\n",
    "x_grid = np.linspace(0,3)\n",
    "fig, ax = plt.subplots()\n",
    "ax.plot(x_grid, integrand(x_grid))\n",
    "ax.set_xlabel(\"x\")\n",
    "ax.set_ylabel(\"f(x)\")\n",
    "ax.grid()"
   ]
  },
  {
   "cell_type": "code",
   "execution_count": null,
   "metadata": {},
   "outputs": [],
   "source": [
    "# Define discretization specs for numerical integration\n",
    "a = 0                                   # left boundary\n",
    "b = 1                                   # right boundary\n",
    "n_points = 30                           # number of grid points"
   ]
  },
  {
   "cell_type": "code",
   "execution_count": null,
   "metadata": {},
   "outputs": [],
   "source": [
    "# Rectangles method for numerical integration (left corner)\n",
    "def rectangles_left(func: Callable, a: float, b: float, N: int):\n",
    "    \"\"\"Function implementing a rectangle method for numerical integration\n",
    "\n",
    "    Args:\n",
    "        func (Callable): A function to be integrated\n",
    "        a (float): Left domain boundary\n",
    "        b (float): Right domain boundary\n",
    "        N (int): Number of points for the domain discretization\n",
    "\n",
    "    Returns:\n",
    "        float: The value of the integral defined in the domain [a,b]\n",
    "    \"\"\"\n",
    "    integral = 0\n",
    "    x_edges = np.linspace(a, b, N)                  # define the discretization grid\n",
    "    h = x_edges[1] - x_edges[0]                     # step size\n",
    "    for i in range(N - 1):\n",
    "        left_corner = x_edges[i]                    # left corner\n",
    "        integral += h * (func(left_corner))\n",
    "    return integral"
   ]
  },
  {
   "cell_type": "code",
   "execution_count": null,
   "metadata": {},
   "outputs": [],
   "source": [
    "# Compute the integral value using rectangles method (right corner)\n",
    "integral_rl = rectangles_left(func=integrand, a=a, b=b, N=n_points) \n",
    "\n",
    "print(f\"The result of the integral defined in [{a},{b}] is {integral_rl}\")"
   ]
  },
  {
   "cell_type": "code",
   "execution_count": null,
   "metadata": {},
   "outputs": [],
   "source": [
    "# Rectangles method for numerical integration (right corner)\n",
    "def rectangles_right(func: Callable, a: float, b: float, N: int):\n",
    "    \"\"\"Function implementing a rectangle method for numerical integration\n",
    "\n",
    "    Args:\n",
    "        func (Callable): A function to be integrated\n",
    "        a (float): Left domain boundary\n",
    "        b (float): Right domain boundary\n",
    "        N (int): Number of points for the domain discretization\n",
    "\n",
    "    Returns:\n",
    "        float: The value of the integral defined in the domain [a,b]\n",
    "    \"\"\"\n",
    "    integral = 0\n",
    "    x_edges = np.linspace(a, b, N)                  # define the discretization grid\n",
    "    h = x_edges[1] - x_edges[0]                     # step size\n",
    "    for i in range(N - 1):\n",
    "        right_corner = x_edges[i+1]                    # left corner\n",
    "        integral += h * (func(right_corner))\n",
    "    return integral"
   ]
  },
  {
   "cell_type": "code",
   "execution_count": null,
   "metadata": {},
   "outputs": [],
   "source": [
    "# Compute the integral value using rectangles method (right corner)\n",
    "integral_rr = rectangles_right(func=integrand, a=a, b=b, N=n_points) \n",
    "\n",
    "print(f\"The result of the integral defined in [{a},{b}] is {integral_rr}\")"
   ]
  },
  {
   "cell_type": "code",
   "execution_count": null,
   "metadata": {},
   "outputs": [],
   "source": [
    "def composite_trapezoid(func: Callable, a: float, b: float, N: int):\n",
    "    \"\"\"Function implementing a trapezoid method for numerical integration\n",
    "\n",
    "    Args:\n",
    "        func (Callable): A function to be integrated\n",
    "        a (float): Left domain boundary\n",
    "        b (float): Right domain boundary\n",
    "        N (int): Number of points for the domain discretization\n",
    "\n",
    "    Returns:\n",
    "        float: The value of the integral defined in the domain [a,b]\n",
    "    \"\"\"\n",
    "    integral = 0\n",
    "    x_edges = np.linspace(a, b, N)\n",
    "    h = x_edges[1] - x_edges[0]         # the step size\n",
    "    for i in range(N - 1):\n",
    "        x1 = x_edges[i]                 # left corner\n",
    "        x2 = x_edges[i + 1]             # right corner\n",
    "        integral += 0.5 * h * (func(x1) + func(x2))\n",
    "    return integral"
   ]
  },
  {
   "cell_type": "code",
   "execution_count": null,
   "metadata": {},
   "outputs": [],
   "source": [
    "# Compute the integral value using composite trapezoid\n",
    "integral_tr = composite_trapezoid(func=integrand, a=a, b=b, N=n_points) \n",
    "\n",
    "print(f\"The result of the integral defined in [{a},{b}] is {integral_tr}\")"
   ]
  },
  {
   "cell_type": "markdown",
   "metadata": {},
   "source": [
    "## Error Analysis"
   ]
  },
  {
   "cell_type": "code",
   "execution_count": null,
   "metadata": {},
   "outputs": [],
   "source": [
    "# Analytical solution in [0, 1]\n",
    "analytical_integral = np.exp(1) - 2"
   ]
  },
  {
   "cell_type": "code",
   "execution_count": null,
   "metadata": {},
   "outputs": [],
   "source": [
    "# Bar chart showing the relative error of the numerical integration compared with the analytical solution\n",
    "fig, ax = plt.subplots()\n",
    "ax.bar([\"Rectangles (left)\", \"Rectangles (right)\", \"Composite trapezoid\"], \n",
    "       [(analytical_integral-integral_rl)/analytical_integral * 100, \n",
    "        (analytical_integral-integral_rr)/analytical_integral * 100, \n",
    "        (analytical_integral-integral_tr)/analytical_integral * 100], \n",
    "        color=['blue', 'green', 'red'])\n",
    "ax.set_title(\"Error analysis\")\n",
    "ax.set_ylabel(\"Relative error [%]\")"
   ]
  }
 ],
 "metadata": {
  "kernelspec": {
   "display_name": "Python 3",
   "language": "python",
   "name": "python3"
  },
  "language_info": {
   "codemirror_mode": {
    "name": "ipython",
    "version": 3
   },
   "file_extension": ".py",
   "mimetype": "text/x-python",
   "name": "python",
   "nbconvert_exporter": "python",
   "pygments_lexer": "ipython3",
   "version": "3.11.4"
  }
 },
 "nbformat": 4,
 "nbformat_minor": 2
}
