{
 "cells": [
  {
   "cell_type": "code",
   "execution_count": 61,
   "metadata": {},
   "outputs": [],
   "source": [
    "from typing import Callable\n",
    "import numpy as np\n",
    "import matplotlib.pyplot as plt"
   ]
  },
  {
   "cell_type": "markdown",
   "metadata": {},
   "source": [
    "## Rectangle method for numerical integration\n",
    "We want to compute the integral of the function $f(x) = x^2e^x$ in the domain [0, 2].\n",
    "\n",
    "We can use the rectangle method as explained in Q1 - Lecture 4. \n",
    "\n",
    "- We plot the function to have an idea about the behaviour (and double check the integral result later on!). \n",
    "- We implement the rectangle (left corner) method\n",
    "- We compute the above mentioned integral using the rectangle method\n",
    "\n",
    "Then we evaluate the accuracy of our computation."
   ]
  },
  {
   "cell_type": "code",
   "execution_count": 62,
   "metadata": {},
   "outputs": [],
   "source": [
    "def integrand(x: float) -> float:\n",
    "    \"\"\"Function returning the value of the integrand function\n",
    "    In this example f(x) = x^2 * exp(x)\n",
    "\n",
    "    Args:\n",
    "        x (float): The dependent variable of f(x)\n",
    "\n",
    "    Returns:\n",
    "        float: Integrand function value\n",
    "    \"\"\"\n",
    "    f = x**2 * np.exp(x)\n",
    "    return f"
   ]
  },
  {
   "cell_type": "code",
   "execution_count": null,
   "metadata": {},
   "outputs": [],
   "source": [
    "# Let's have a look at the function to be integrated\n",
    "x_grid = np.linspace(0,3)\n",
    "fig, ax = plt.subplots()\n",
    "ax.plot(x_grid, integrand(x_grid))\n",
    "ax.set_xlabel(\"x\")\n",
    "ax.set_ylabel(\"f(x)\")\n",
    "ax.grid()"
   ]
  },
  {
   "cell_type": "code",
   "execution_count": 64,
   "metadata": {},
   "outputs": [],
   "source": [
    "# Define discretization specs for numerical integration\n",
    "a = 0                                   # left boundary\n",
    "b = 2                                   # right boundary\n",
    "n_points = 10                           # number of grid points"
   ]
  },
  {
   "cell_type": "code",
   "execution_count": 65,
   "metadata": {},
   "outputs": [],
   "source": [
    "# Rectangles method for numerical integration (left corner)\n",
    "def rectangles_left(func: Callable, a: float, b: float, N: int):\n",
    "    \"\"\"Function implementing a rectangle method for numerical integration\n",
    "\n",
    "    Args:\n",
    "        func (Callable): A function to be integrated\n",
    "        a (float): Left domain boundary\n",
    "        b (float): Right domain boundary\n",
    "        N (int): Number of points for the domain discretization\n",
    "\n",
    "    Returns:\n",
    "        float: The value of the integral defined in the domain [a,b]\n",
    "    \"\"\"\n",
    "    integral = 0\n",
    "    x_edges = np.linspace(a, b, N)                  # define the discretization grid\n",
    "    h = x_edges[1] - x_edges[0]                     # step size\n",
    "    for i in range(N - 1):    \n",
    "        # range(N - 1) function generates numbers from 0 to N - 2, \n",
    "        # thus we effectively iterate over N-1 points, starting from 0 and until N-2 (rectangle left method)                       \n",
    "        left_corner = x_edges[i]                    # left corner\n",
    "        integral += h * (func(left_corner))\n",
    "    return integral"
   ]
  },
  {
   "cell_type": "code",
   "execution_count": null,
   "metadata": {},
   "outputs": [],
   "source": [
    "# Compute the integral value using rectangles method (right corner)\n",
    "integral_rl = rectangles_left(func=integrand, a=a, b=b, N=n_points) \n",
    "print(f\"The result of the integral defined in [{a},{b}] is {integral_rl}\")"
   ]
  },
  {
   "cell_type": "markdown",
   "metadata": {},
   "source": [
    "### Effect of the interval size\n",
    "**Is the computed integral enough accurate?**\n",
    "\n",
    "Here below we run the rectangle method by considering different discretization grids, comprising discretization points between 2 and 250.\n",
    "\n",
    "The result of the numerical integration is very sensible to the discretization grid. A sharp change in the values is present while considering a small amount of discretization grid (poor performance). By increasing the grid resolution (i.e., larger number of discretization points), the integral value reaches a plateau close to the analytical solution I = 12.778."
   ]
  },
  {
   "cell_type": "code",
   "execution_count": null,
   "metadata": {},
   "outputs": [],
   "source": [
    "integrals = []\n",
    "grids = range(2, 250)\n",
    "for n_grid_points in grids:\n",
    "    integral = rectangles_left(func=integrand, a=a, b=b, N=n_grid_points) \n",
    "    integrals.append(integral)\n",
    "\n",
    "\n",
    "fig, ax = plt.subplots()\n",
    "ax.plot(grids, integrals, label='Numerical solution')\n",
    "ax.plot(n_points, integral_rl, label='Our numerical solution', marker='o')\n",
    "ax.axhline(12.778, color='r', label = 'Analytical Solution')\n",
    "ax.set_title(\"Integral result with different grid resolution\")\n",
    "ax.set_xlabel(\"# discretization points\")\n",
    "ax.set_ylabel(\"Numerical integral result\")\n",
    "ax.legend()\n",
    "ax.grid()\n"
   ]
  },
  {
   "cell_type": "code",
   "execution_count": null,
   "metadata": {},
   "outputs": [],
   "source": []
  }
 ],
 "metadata": {
  "kernelspec": {
   "display_name": "Python 3",
   "language": "python",
   "name": "python3"
  },
  "language_info": {
   "codemirror_mode": {
    "name": "ipython",
    "version": 3
   },
   "file_extension": ".py",
   "mimetype": "text/x-python",
   "name": "python",
   "nbconvert_exporter": "python",
   "pygments_lexer": "ipython3",
   "version": "3.11.4"
  }
 },
 "nbformat": 4,
 "nbformat_minor": 2
}
