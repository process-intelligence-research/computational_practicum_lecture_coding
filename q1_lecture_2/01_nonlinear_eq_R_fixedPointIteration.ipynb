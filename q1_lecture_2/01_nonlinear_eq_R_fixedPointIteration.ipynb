{
 "cells": [
  {
   "cell_type": "code",
   "execution_count": 1,
   "metadata": {},
   "outputs": [],
   "source": [
    "from typing import Callable, List, Tuple, Union\n",
    "import matplotlib.pyplot as plt\n",
    "import numpy as np\n",
    "import copy"
   ]
  },
  {
   "cell_type": "markdown",
   "metadata": {},
   "source": [
    "## Fixed-point method"
   ]
  },
  {
   "cell_type": "markdown",
   "metadata": {},
   "source": [
    "We want to solve the nonlinear equation presented in Lecture 2:\n",
    "$$\n",
    "x^2 - 3x = 1\n",
    "$$\n",
    "\n",
    "The first step is to reformulate as $g(x) = x$:\n",
    "$$\n",
    "\\frac{x^2 - 1}{3} = x\n",
    "$$\n",
    "\n",
    "where $g(x) = \\frac{x^2 - 1}{3}$.\n",
    "\n",
    "We can now find the root of the equation by using the Fixed Point Iterative Method:\n",
    "- Implement the function g(x)\n",
    "- Implement the fixed point iterative method in a Python function\n",
    "- Call the function to solve the given nonlinear equation\n"
   ]
  },
  {
   "cell_type": "code",
   "execution_count": 2,
   "metadata": {},
   "outputs": [],
   "source": [
    "def g(x:float) -> float:\n",
    "    \"\"\"Function returning the value of g(x)\n",
    "\n",
    "    Args:\n",
    "        x (float): the x variable\n",
    "\n",
    "    Returns:\n",
    "        float: the value of g evaluated at a given x\n",
    "    \"\"\"\n",
    "    return (x**2 - 1)/3"
   ]
  },
  {
   "cell_type": "code",
   "execution_count": 3,
   "metadata": {},
   "outputs": [],
   "source": [
    "def fixed_point_method(func: Callable, \n",
    "                       x_0: float, \n",
    "                       max_Iter: int, \n",
    "                       abs_est_error: float) -> float:\n",
    "    \"\"\"A function performing fixed point method for solving non-linear equations.\n",
    "\n",
    "    Args:\n",
    "        func (Callable): A function giving the g(x) value of the non-linear equation that you want to solve.\n",
    "        x_0 (float): First guess.\n",
    "        max_Iter (int): Max number of iteration allowed\n",
    "        abs_est_error (float): The accepted absolute estimated error, defined as abs(x_new-x_old)\n",
    "\n",
    "    Returns:\n",
    "        float: The root of the non-linear equation\n",
    "    \"\"\"\n",
    "\n",
    "    iter = 0\n",
    "    x_i = x_0\n",
    "    while iter < max_Iter:\n",
    "        try:\n",
    "            g = func(x_i)\n",
    "        except: \n",
    "            print('Error: Overflow encountered. The method diverged.')\n",
    "            return None\n",
    "        x_new = g\n",
    "        abs_error_i = np.abs(x_new - x_i)\n",
    "        if abs_error_i <= abs_est_error:\n",
    "            print(f'Root found: {x_new}')\n",
    "            return x_new\n",
    "        else:\n",
    "            x_i = copy.deepcopy(x_new)\n",
    "            iter += 1\n",
    "\n",
    "    if iter == max_Iter: \n",
    "        print('Reached maximum number of iterations: the method does not converge')\n",
    "    return x_new"
   ]
  },
  {
   "cell_type": "markdown",
   "metadata": {},
   "source": [
    "Try to guess the solution as $x_0 = 0$, as in Lecture 2."
   ]
  },
  {
   "cell_type": "code",
   "execution_count": null,
   "metadata": {},
   "outputs": [],
   "source": [
    "root = fixed_point_method(g, x_0=0, max_Iter=1000, abs_est_error=1e-9)"
   ]
  },
  {
   "cell_type": "markdown",
   "metadata": {},
   "source": [
    "Try what happens if you try to change the initial guess to $x_0 = 3.5$, as in Lecture 2."
   ]
  },
  {
   "cell_type": "code",
   "execution_count": null,
   "metadata": {},
   "outputs": [],
   "source": [
    "root = fixed_point_method(g, x_0=3.5, max_Iter=1000, abs_est_error=1e-6)"
   ]
  },
  {
   "cell_type": "markdown",
   "metadata": {},
   "source": [
    "Why is this happening?"
   ]
  },
  {
   "cell_type": "markdown",
   "metadata": {},
   "source": [
    "## Python built-in function"
   ]
  },
  {
   "cell_type": "markdown",
   "metadata": {},
   "source": [
    "We want to solve the nonlinear equation presented in Lecture 2:\n",
    "$$\n",
    "x^2 - 3x = 1\n",
    "$$"
   ]
  },
  {
   "cell_type": "markdown",
   "metadata": {},
   "source": [
    "You can also solve nonlinear equations using Python built-in functions. Typically, they will implement more advanced and robust numerical methods ([MINPACK](https://en.wikipedia.org/wiki/MINPACK))."
   ]
  },
  {
   "cell_type": "code",
   "execution_count": 6,
   "metadata": {},
   "outputs": [],
   "source": [
    "from scipy.optimize import fsolve"
   ]
  },
  {
   "cell_type": "code",
   "execution_count": 7,
   "metadata": {},
   "outputs": [],
   "source": [
    "def nonlinear_eq(x: float) -> float:\n",
    "    \"\"\"The nonlinear equation used as example in the Lecture 2\n",
    "\n",
    "    Args:\n",
    "        x (float): the independent variable\n",
    "\n",
    "    Returns:\n",
    "        float: the value of the function\n",
    "    \"\"\"\n",
    "    f = x**2 - 3*x - 1\n",
    "    return f"
   ]
  },
  {
   "cell_type": "markdown",
   "metadata": {},
   "source": [
    "Try to guess the solution as $x_0 = 0$, as before."
   ]
  },
  {
   "cell_type": "code",
   "execution_count": null,
   "metadata": {},
   "outputs": [],
   "source": [
    "sol = fsolve(nonlinear_eq, 0)\n",
    "print(sol)"
   ]
  },
  {
   "cell_type": "markdown",
   "metadata": {},
   "source": [
    "What happens now if you choose $x_0 = 3.5$"
   ]
  },
  {
   "cell_type": "code",
   "execution_count": null,
   "metadata": {},
   "outputs": [],
   "source": [
    "sol = fsolve(nonlinear_eq, 3.5)\n",
    "print(sol)"
   ]
  },
  {
   "cell_type": "markdown",
   "metadata": {},
   "source": [
    "What is now the outcome of the solver?"
   ]
  }
 ],
 "metadata": {
  "kernelspec": {
   "display_name": "Python 3",
   "language": "python",
   "name": "python3"
  },
  "language_info": {
   "codemirror_mode": {
    "name": "ipython",
    "version": 3
   },
   "file_extension": ".py",
   "mimetype": "text/x-python",
   "name": "python",
   "nbconvert_exporter": "python",
   "pygments_lexer": "ipython3",
   "version": "3.12.3"
  }
 },
 "nbformat": 4,
 "nbformat_minor": 2
}
