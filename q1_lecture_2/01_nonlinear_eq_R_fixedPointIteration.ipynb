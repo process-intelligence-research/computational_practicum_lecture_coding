{
 "cells": [
  {
   "cell_type": "code",
   "execution_count": 11,
   "metadata": {},
   "outputs": [],
   "source": [
    "from typing import Callable, List, Tuple, Union\n",
    "import matplotlib.pyplot as plt\n",
    "import numpy as np"
   ]
  },
  {
   "cell_type": "markdown",
   "metadata": {},
   "source": [
    "## Fixed-point method"
   ]
  },
  {
   "cell_type": "markdown",
   "metadata": {},
   "source": [
    "We want to solve the nonlinear equation presented in Lecture 2 (Slide 37):\n",
    "$$\n",
    "x^2 - 3x = 1\n",
    "$$\n",
    "\n",
    "The first step is to reformulate as $g(x) = x$:\n",
    "$$\n",
    "\\frac{x^2 - 1}{3} = x\n",
    "$$\n",
    "\n",
    "where $g(x) = \\frac{x^2 - 1}{3}$.\n",
    "\n",
    "We can now find the root of the equation by using the Fixed Point Iterative Method:\n",
    "- Implement the function g(x)\n",
    "- Implement the fixed point iterative method in a Python function\n",
    "- Call the function to solve the given nonlinear equation\n"
   ]
  },
  {
   "cell_type": "code",
   "execution_count": 12,
   "metadata": {},
   "outputs": [],
   "source": [
    "def g(x:float) -> float:\n",
    "    \"\"\"Function returning the value of g(x)\n",
    "\n",
    "    Args:\n",
    "        x (float): the x variable\n",
    "\n",
    "    Returns:\n",
    "        float: the value of g evaluated at a given x\n",
    "    \"\"\"\n",
    "    return (x**2 - 1)/3"
   ]
  },
  {
   "cell_type": "code",
   "execution_count": 13,
   "metadata": {},
   "outputs": [],
   "source": [
    "def fixed_point_method(func: Callable, \n",
    "                       x_0: float, \n",
    "                       max_Iter: int, \n",
    "                       est_rel_Error: float):\n",
    "    \"\"\"A function performing fixed point method for solving non-linear equations.\n",
    "\n",
    "    Args:\n",
    "        func (Callable): A function giving the g(x) value of the non-linear equation that you want to solve.\n",
    "        x_0 (float): First guess.\n",
    "        max_Iter (int): Max number of iteration allowed\n",
    "        est_rel_Error (float): The accepted estimated relative error, defined as abs(x_new-x_old)/abs(x_old)\n",
    "\n",
    "    Returns:\n",
    "        float: The root of the non-linear equation\n",
    "    \"\"\"\n",
    "    # BEGIN SOLUTION\n",
    "    iter = 0\n",
    "    while iter < max_Iter:\n",
    "        try:\n",
    "            g = func(x_0)\n",
    "        except: \n",
    "            print('Error: Overflow encountered. The method diverged.')\n",
    "            break\n",
    "        x_new = g\n",
    "        est_rel_error_i = np.abs(x_new - x_0) / np.abs(x_0 + 1e-9)\n",
    "        if est_rel_error_i <= est_rel_Error:\n",
    "            print(f'Root found: {x_new}')\n",
    "            return x_new\n",
    "        else:\n",
    "            x_0 = x_new\n",
    "            iter += 1\n",
    "    # END SOLUTION\n",
    "    if iter == max_Iter: \n",
    "        print('Reached maximum number of iterations: the method does not converge')\n",
    "    return x_new"
   ]
  },
  {
   "cell_type": "markdown",
   "metadata": {},
   "source": [
    "Try to guess the solution as $x_0 = 0$, as in Lecture 2 (Slide 38)"
   ]
  },
  {
   "cell_type": "code",
   "execution_count": 16,
   "metadata": {},
   "outputs": [
    {
     "name": "stdout",
     "output_type": "stream",
     "text": [
      "Root found: -0.3027756200363254\n"
     ]
    }
   ],
   "source": [
    "root = fixed_point_method(g, x_0=0, max_Iter=1000, est_rel_Error=1e-6)"
   ]
  },
  {
   "cell_type": "markdown",
   "metadata": {},
   "source": [
    "Try what happens if you try to change the initial guess to $x_0 = 3.5$, as in Lecture 2 (Slide 39)"
   ]
  },
  {
   "cell_type": "code",
   "execution_count": 17,
   "metadata": {},
   "outputs": [
    {
     "name": "stdout",
     "output_type": "stream",
     "text": [
      "Error: Overflow encountered. The method diverged.\n"
     ]
    }
   ],
   "source": [
    "root = fixed_point_method(g, x_0=3.5, max_Iter=1000, est_rel_Error=1e-6)"
   ]
  },
  {
   "cell_type": "markdown",
   "metadata": {},
   "source": [
    "Why is this happening?"
   ]
  }
 ],
 "metadata": {
  "kernelspec": {
   "display_name": "Python 3",
   "language": "python",
   "name": "python3"
  },
  "language_info": {
   "codemirror_mode": {
    "name": "ipython",
    "version": 3
   },
   "file_extension": ".py",
   "mimetype": "text/x-python",
   "name": "python",
   "nbconvert_exporter": "python",
   "pygments_lexer": "ipython3",
   "version": "3.11.4"
  }
 },
 "nbformat": 4,
 "nbformat_minor": 2
}
