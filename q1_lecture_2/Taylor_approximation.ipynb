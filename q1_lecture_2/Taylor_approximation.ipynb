{
 "cells": [
  {
   "cell_type": "code",
   "execution_count": null,
   "metadata": {},
   "outputs": [],
   "source": [
    "import numpy as np\n",
    "import matplotlib.pyplot as plt\n",
    "from scipy.special import factorial\n",
    "from typing import Callable\n",
    "\n",
    "\n",
    "z = np.linspace(0,10,100)\n",
    "a=5\n",
    "\n",
    "exp_fac = 0.5 \n",
    "preexp_fac = 2\n",
    "\n",
    "f = preexp_fac*np.exp(exp_fac*z)\n",
    "\n",
    "def Taylor_f(degree, z, a) -> Callable:\n",
    "    Tf : Callable = 0\n",
    "    for i in range(degree+1):\n",
    "        der_i = preexp_fac*exp_fac**i*np.exp(exp_fac*a)\n",
    "        Tf += der_i/factorial(i)*(z-a)**(i)\n",
    "    return Tf\n",
    "\n",
    "fig, ax = plt.subplots()\n",
    "\n",
    "degrees = [1,2,7]\n",
    "\n",
    "\n",
    "ax.axvline(x=a, ymin=-50, ymax=50, linewidth = 1, color = \"gray\", linestyle= \"dotted\")\n",
    "\n",
    "ax.plot(z, f,'g', label =\"true\", linewidth = 2,linestyle=\"dashed\")\n",
    "ax.set_xlabel('$z$')  # Add an x-label to the Axes.\n",
    "ax.set_ylabel('$f(z)$')  # Add a y-label to the Axes.\n",
    "ax.set_title(\"True function of $f(z)$ and Taylor polynomials @ $a$=%0.2fm\"%a)  # Add a title to the Axes.\n",
    "\n",
    "ax.plot(z, Taylor_f(degrees[0], z, a), 'b--', linewidth = 1, label =\"$%i^{st}$ order Taylor\"%degrees[0])\n",
    "ax.plot(z, Taylor_f(degrees[1], z, a), 'm',  linewidth = 1,linestyle = 'dotted',label =\"$%i^{nd}$ order Taylor\"%degrees[1])\n",
    "ax.plot(z, Taylor_f(degrees[2], z, a), 'r',  linewidth = 1,label =\"$%i^{th}$ order Taylor\"%degrees[2])\n",
    "\n",
    "\n",
    "ax.legend()  # Add a legend.\n",
    "#ax.set_xlim([-10,13])\n",
    "ax.set_ylim([-50,300])\n",
    "plt.show()\n"
   ]
  }
 ],
 "metadata": {
  "kernelspec": {
   "display_name": ".venv",
   "language": "python",
   "name": "python3"
  },
  "language_info": {
   "codemirror_mode": {
    "name": "ipython",
    "version": 3
   },
   "file_extension": ".py",
   "mimetype": "text/x-python",
   "name": "python",
   "nbconvert_exporter": "python",
   "pygments_lexer": "ipython3",
   "version": "3.12.3"
  }
 },
 "nbformat": 4,
 "nbformat_minor": 2
}
