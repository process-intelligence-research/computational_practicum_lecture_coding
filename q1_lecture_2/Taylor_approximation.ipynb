{
 "cells": [
  {
   "cell_type": "code",
   "execution_count": null,
   "metadata": {},
   "outputs": [],
   "source": [
    "import random\n",
    "import numpy as np\n",
    "import matplotlib.pyplot as plt\n",
    "from scipy.special import factorial\n",
    "from typing import Union\n"
   ]
  },
  {
   "cell_type": "markdown",
   "metadata": {},
   "source": [
    "We would like to approximate the function $f(z) = k \\cdot \\exp(q \\cdot z)$ at a position $a$. To do this approximation, we would like to use a Taylor polynomial. In the following, we will refer to $k$ as the preexponential factor, and to $q$ as the exponential factor. "
   ]
  },
  {
   "cell_type": "markdown",
   "metadata": {},
   "source": [
    "Let's start by defining a function `true_function` that returns the true function values of $f(z)$."
   ]
  },
  {
   "cell_type": "code",
   "execution_count": null,
   "metadata": {},
   "outputs": [],
   "source": [
    "def true_function(z: Union[float, np.ndarray], exp_fac: float, preexp_fac: float) -> np.ndarray:\n",
    "    \"\"\"\n",
    "    This function returns the function values of the true function \n",
    "    f(z)=preexp_fac*exp(exp_fac*z)\n",
    "    for a given domain z.\n",
    "    Args:\n",
    "        z (np.ndarray): input domain\n",
    "        exp_fac (float): exponential factor\n",
    "        preexp_fac (float): preexponential factor\n",
    "\n",
    "    Returns:\n",
    "        f_values (np.ndarray): function values\n",
    "    \"\"\"\n",
    "    f_values = preexp_fac*np.exp(exp_fac*z)\n",
    "\n",
    "    if not isinstance(z, np.ndarray):\n",
    "        f_values = np.array(f_values)\n",
    "\n",
    "    return f_values"
   ]
  },
  {
   "cell_type": "markdown",
   "metadata": {},
   "source": [
    "Now let's define a function `taylor_f` that approximates the true function $f(z)$. We would like to vary the domain $z$, the position of expansion $a$, and the degree of the Taylor polynomial."
   ]
  },
  {
   "cell_type": "code",
   "execution_count": null,
   "metadata": {},
   "outputs": [],
   "source": [
    "def taylor_f(degree:int , z: np.ndarray, a:float, exp_fac: float, preexp_fac: float) -> np.ndarray:\n",
    "    \"\"\"\n",
    "    This function returns the values of the Taylor approximation of the function \n",
    "    f(z)=preexp_fac*exp(exp_fac*z)\n",
    "    given a degree of expansion.\n",
    "    Args:\n",
    "        degree (int): degree of expantion\n",
    "        z (np.ndarray): input domain\n",
    "        a (float): position of expansion\n",
    "        exp_fac (float): exponential factor\n",
    "        preexp_fac (float): preexponential factor\n",
    "\n",
    "    Returns:\n",
    "        Tf (np.ndarray): function values\n",
    "    \"\"\"\n",
    "    Tf= 0\n",
    "    for i in range(degree+1):\n",
    "        der_i = exp_fac**i*true_function(a, exp_fac, preexp_fac) #This is the ANALYTICAL derivatice!\n",
    "        Tf += der_i/factorial(i)*(z-a)**(i)\n",
    "    return Tf"
   ]
  },
  {
   "cell_type": "markdown",
   "metadata": {},
   "source": [
    "Now we are ready to plot!"
   ]
  },
  {
   "cell_type": "code",
   "execution_count": null,
   "metadata": {},
   "outputs": [],
   "source": [
    "def plotting(z: np.ndarray, degrees: list[int], a: float, preexp_fac: float, exp_fac: float) -> None:\n",
    "    \"\"\"\n",
    "    This function is used for plotting the original function f(z)=preexp_fac*exp(exp_fac*z)\n",
    "    and the corresponding Taylor approximations of given degrees at a given point of expansion.\n",
    "\n",
    "    Args:\n",
    "        z (np.ndarray): input domain\n",
    "        degrees (list[int]): degrees of Taylor expansion\n",
    "        a (float): point of expansion for Taylor series\n",
    "        preexp_fac (float): preexponential factor for function f(z)=preexp_fac*exp(exp_fac*z)\n",
    "        exp_fac (float): exponential factor of function f(z)=preexp_fac*exp(exp_fac*z)\n",
    "\n",
    "    \"\"\"\n",
    "\n",
    "    _, ax = plt.subplots()\n",
    "\n",
    "    linestyles = ['-', '--', '-.', ':']\n",
    "    colors = ['b', 'g', 'r', 'c', 'm', 'y', 'k']\n",
    "\n",
    "    # add vertical line at position of expansion \n",
    "    ax.axvline(x=a, ymin=-50, ymax=50, linewidth = 1, color = \"gray\", linestyle= \"dotted\")\n",
    "\n",
    "    # Plot the true function\n",
    "    ax.plot(z, true_function(z, exp_fac, preexp_fac),'g', label =\"true\", linewidth = 2,linestyle=\"dashed\")\n",
    "    ax.set_xlabel('$z$')  # Add an x-label to the Axes.\n",
    "    ax.set_ylabel('$f(z)$')  # Add a y-label to the Axes.\n",
    "    ax.set_title(\"True function $f(z)$ and Taylor polynomials @ $a$=%0.2f\"%a)  # Add a title to the Axes.\n",
    "\n",
    "    linestyle_unique = random.sample(linestyles, k=len(degrees))\n",
    "    color_unique = random.sample(colors, k=len(degrees))\n",
    "\n",
    "    if not isinstance(z, np.ndarray):\n",
    "        return TypeError('Domain must be of type np.ndarray.')\n",
    "    if len(z)<= 1:\n",
    "        return ValueError('Domain must contain more than one value') \n",
    "\n",
    "    # Plot the Taylor approximations\n",
    "    for i, d in enumerate(degrees):\n",
    "        \n",
    "        ax.plot(z, taylor_f(d, z, a, exp_fac, preexp_fac), linestyle = linestyle_unique[i], color = color_unique[i], linewidth = 1, label =\"$%i$-order Taylor\"%d)\n",
    "\n",
    "    ax.legend()  # Add a legend.\n",
    "    ax.set_ylim([-50,300])\n",
    "    plt.show()\n"
   ]
  },
  {
   "cell_type": "markdown",
   "metadata": {},
   "source": [
    "Let's check out some simple examples."
   ]
  },
  {
   "cell_type": "code",
   "execution_count": null,
   "metadata": {},
   "outputs": [],
   "source": [
    "# user specifications\n",
    "exp_fac = 0.5 \n",
    "preexp_fac = 2\n",
    "a = 0\n",
    "degrees = [0,1,2]\n",
    "z = np.linspace(-100,100,100)\n",
    "plotting(z, degrees, a, preexp_fac, exp_fac)"
   ]
  },
  {
   "cell_type": "code",
   "execution_count": null,
   "metadata": {},
   "outputs": [],
   "source": [
    "exp_fac = 0.5 \n",
    "preexp_fac = 1\n",
    "a = 5\n",
    "degrees = [7,14,41]\n",
    "z = np.linspace(-10,30,100)\n",
    "plotting(z, degrees, a, preexp_fac, exp_fac)"
   ]
  }
 ],
 "metadata": {
  "kernelspec": {
   "display_name": ".venv",
   "language": "python",
   "name": "python3"
  },
  "language_info": {
   "codemirror_mode": {
    "name": "ipython",
    "version": 3
   },
   "file_extension": ".py",
   "mimetype": "text/x-python",
   "name": "python",
   "nbconvert_exporter": "python",
   "pygments_lexer": "ipython3",
   "version": "3.12.3"
  }
 },
 "nbformat": 4,
 "nbformat_minor": 2
}
