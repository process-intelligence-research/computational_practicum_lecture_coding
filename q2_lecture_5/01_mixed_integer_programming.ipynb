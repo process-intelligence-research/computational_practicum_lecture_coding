{
 "cells": [
  {
   "cell_type": "markdown",
   "metadata": {},
   "source": [
    "In this live coding exercise, we will implement the formulation we derived for the given problem statement:\\\n",
    "Design a process with minimum cost to produce 10 kg/h of B from feedstock A (maximum availability = 15 kg/h). <br>\n",
    "There are three reactors available each with different yields and costs. <br>\n",
    "The details are:\n",
    "| Reactor   | Yield | Fixed cost ($/h) | Variable cost ($/kg) |\n",
    "|-----------|-------|------------------|-----------------------|\n",
    "| Reactor 1 | 0.80  | 80               | 35                    |\n",
    "| Reactor 2 | 0.667 | 54               | 30                    |\n",
    "| Reactor 3 | 0.555 | 27               | 25                    |\n"
   ]
  },
  {
   "cell_type": "markdown",
   "metadata": {},
   "source": [
    "We derived the following formulation in the lecture:\n",
    "\\begin{align*}\n",
    "\\min_{\\mathbf{x,y}} & \\ 80y_1 + 35x_1 + 54y_2 + 30x_2 + 27y_3 + 25x_3 \\\\\n",
    "\\text{s.t.} & \\ 0.8x_1 + 0.667x_2 + 0.555x_3 = 10 \\\\\n",
    "& \\ \\sum_{i=1}^3 x_i \\leq 15 \\\\\n",
    "& \\ x_i - 15y_i \\leq 0, \\, \\forall \\, i \\, \\in \\, \\{1,2,3\\} \\\\\n",
    "& \\ \\mathbf{x} \\geq 0, \\mathbf{y} \\in \\{0,1\\}\n",
    "\\end{align*}"
   ]
  },
  {
   "cell_type": "markdown",
   "metadata": {},
   "source": [
    "Now we will implement this formulation to solve this mixed-integer linear programming problem using SciPy."
   ]
  },
  {
   "cell_type": "markdown",
   "metadata": {},
   "source": [
    "Let us import the relevant libraries first."
   ]
  },
  {
   "cell_type": "code",
   "execution_count": 1,
   "metadata": {},
   "outputs": [],
   "source": [
    "import numpy as np\n",
    "from scipy.optimize import milp, Bounds, LinearConstraint"
   ]
  },
  {
   "cell_type": "markdown",
   "metadata": {},
   "source": [
    "Now we will define the objective function based on the variables in our problem formulation."
   ]
  },
  {
   "cell_type": "code",
   "execution_count": 2,
   "metadata": {},
   "outputs": [],
   "source": [
    "# Coefficients for the objective function\n",
    "c = np.array([35, 30, 25, 80, 54, 27])"
   ]
  },
  {
   "cell_type": "markdown",
   "metadata": {},
   "source": [
    "Now we will define the matrix of coefficients of all the inequality constraints in our formulation"
   ]
  },
  {
   "cell_type": "code",
   "execution_count": 3,
   "metadata": {},
   "outputs": [],
   "source": [
    "# Define the inequality constraints (Ax <= b)\n",
    "A_ub = np.array([\n",
    "    [1, 1, 1, 0, 0, 0],       # x1 + x2 + x3 <= 15\n",
    "    [1, 0, 0, -15, 0, 0],     # x1 - 15y1 <= 0\n",
    "    [0, 1, 0, 0, -15, 0],     # x2 - 15y2 <= 0\n",
    "    [0, 0, 1, 0, 0, -15]      # x3 - 15y3 <= 0\n",
    "])\n",
    "b_ub = np.array([15, 0, 0, 0])"
   ]
  },
  {
   "cell_type": "markdown",
   "metadata": {},
   "source": [
    "Now we will define the matrix of coefficients of all the equality constraints in our formulation"
   ]
  },
  {
   "cell_type": "code",
   "execution_count": 4,
   "metadata": {},
   "outputs": [],
   "source": [
    "# Define the equality constraints (Ax = b)\n",
    "A_eq = np.array([\n",
    "    [0.8, 0.667, 0.555, 0, 0, 0]   # 0.8x1 + 0.667x2 + 0.555x3 = 10\n",
    "])\n",
    "b_eq = np.array([10])"
   ]
  },
  {
   "cell_type": "markdown",
   "metadata": {},
   "source": [
    "Now we will specify the bounds on alll the variables in the formulation"
   ]
  },
  {
   "cell_type": "code",
   "execution_count": 5,
   "metadata": {},
   "outputs": [],
   "source": [
    "# Define the bounds for the variables\n",
    "x_bounds = [(0, None)] * 3    # x1, x2, x3 >= 0\n",
    "y_bounds = [(0, 1)] * 3       # y1, y2, y3 are binary (0 or 1)\n",
    "bounds = Bounds([0, 0, 0, 0, 0, 0], [np.inf, np.inf, np.inf, 1, 1, 1])"
   ]
  },
  {
   "cell_type": "markdown",
   "metadata": {},
   "source": [
    "Since $y$ variables are binary in nature, we need to ensure this in our formulation. We do this by defining a numpy array which tells us whether the variable is discrete or not?"
   ]
  },
  {
   "cell_type": "code",
   "execution_count": 6,
   "metadata": {},
   "outputs": [],
   "source": [
    "# Define the integrality constraints\n",
    "integrality = np.array([0, 0, 0, 1, 1, 1])"
   ]
  },
  {
   "cell_type": "markdown",
   "metadata": {},
   "source": [
    "Now we will solve the formulation using the mixed-integer linear programming functionality of SciPy"
   ]
  },
  {
   "cell_type": "code",
   "execution_count": 7,
   "metadata": {},
   "outputs": [],
   "source": [
    "# Solve the MILP problem using scipy.optimize.milp\n",
    "result = milp(\n",
    "    c=c,\n",
    "    constraints=[\n",
    "        LinearConstraint(A_ub, -np.inf, b_ub),\n",
    "        LinearConstraint(A_eq, b_eq, b_eq)\n",
    "    ],\n",
    "    bounds=bounds,\n",
    "    integrality=integrality\n",
    ")"
   ]
  },
  {
   "cell_type": "markdown",
   "metadata": {},
   "source": [
    "Display the results."
   ]
  },
  {
   "cell_type": "code",
   "execution_count": 8,
   "metadata": {},
   "outputs": [
    {
     "name": "stdout",
     "output_type": "stream",
     "text": [
      "Status: Optimization terminated successfully. (HiGHS Status 7: Optimal)\n",
      "Objective value: 503.7751124437781\n",
      "Variable values: [ 0.         14.99250375  0.         -0.          1.         -0.        ]\n"
     ]
    }
   ],
   "source": [
    "# Check the result and print the output\n",
    "if result.success:\n",
    "    print(\"Status:\", result.message)\n",
    "    print(\"Objective value:\", result.fun)\n",
    "    print(\"Variable values:\", result.x)\n",
    "else:\n",
    "    print(\"Optimization failed.\")\n",
    "    print(\"Status:\", result.message)"
   ]
  },
  {
   "cell_type": "markdown",
   "metadata": {},
   "source": [
    "Inspecting the solution in more detail."
   ]
  },
  {
   "cell_type": "code",
   "execution_count": 9,
   "metadata": {},
   "outputs": [
    {
     "data": {
      "text/plain": [
       "        message: Optimization terminated successfully. (HiGHS Status 7: Optimal)\n",
       "        success: True\n",
       "         status: 0\n",
       "            fun: 503.7751124437781\n",
       "              x: [ 0.000e+00  1.499e+01  0.000e+00 -0.000e+00  1.000e+00\n",
       "                  -0.000e+00]\n",
       " mip_node_count: 1\n",
       " mip_dual_bound: 503.7751124437781\n",
       "        mip_gap: 0.0"
      ]
     },
     "execution_count": 9,
     "metadata": {},
     "output_type": "execute_result"
    }
   ],
   "source": [
    "result"
   ]
  }
 ],
 "metadata": {
  "kernelspec": {
   "display_name": ".venv",
   "language": "python",
   "name": "python3"
  },
  "language_info": {
   "codemirror_mode": {
    "name": "ipython",
    "version": 3
   },
   "file_extension": ".py",
   "mimetype": "text/x-python",
   "name": "python",
   "nbconvert_exporter": "python",
   "pygments_lexer": "ipython3",
   "version": "3.12.0"
  }
 },
 "nbformat": 4,
 "nbformat_minor": 2
}
