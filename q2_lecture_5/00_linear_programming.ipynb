{
 "cells": [
  {
   "cell_type": "markdown",
   "id": "8b972b87",
   "metadata": {},
   "source": [
    "In this live coding exercise, we will implement the formulation we derived for the given problem statement:\\\n",
    "Feed to three units is split into three streams: 𝐹_𝐴, 𝐹_𝐵 and 𝐹_𝐶. <br>\n",
    "Two products are produced: 𝑃_1 and 𝑃_2, the yield in weight percent by unit and the value of feed and product streams are given below:\n",
    "| Yield (wt %) | Unit A | Unit B | Unit C |\n",
    "|--------------|--------|--------|--------|\n",
    "| P₁           | 40     | 30     | 50     |\n",
    "| P₂           | 60     | 70     | 50     |\n",
    "\n",
    "\n",
    "| Stream | Value ($/kg) |\n",
    "|--------|--------------|\n",
    "| F      | 0.40         |\n",
    "| P₁     | 0.60         |\n",
    "| P₂     | 0.30         |\n",
    "\n",
    "\n",
    "We have some capacity limitations:\\\n",
    "    1. The plant can handle a maximum feed 𝐹 of 10,000 kg/day\\\n",
    "    2. Each unit (A, B and C) cannot handle more than 5,000 kg/day\\\n",
    "    3. The maximum demand of 𝑃_1 and 𝑃_2 are 4,000 kg/day and 5,000 kg/day, respectively and anything extra that is produced is likely to remain unsold\n",
    "\n",
    "Determine the optimal values of 𝐹_𝐴, 𝐹_𝐵 and 𝐹_𝐶 that maximize the daily profit of the plant?\n"
   ]
  },
  {
   "cell_type": "markdown",
   "id": "2b810628",
   "metadata": {},
   "source": [
    "We derived the following formulation in the lecture:\n",
    "\\begin{align*}\n",
    "\\max & \\ 0.6 P_1 + 0.3 P_2 - 0.4F \\\\\n",
    "\\text{s.t.} & \\ F = F_A + F_B + F_C \\\\\n",
    "& \\ P_1 = 0.4F_A + 0.3F_B + 0.5F_C \\\\\n",
    "& \\ P_2 = 0.6F_A + 0.7F_B + 0.5F_C \\\\\n",
    "& \\ F \\leq 10000 \\\\\n",
    "& \\ F_A \\leq 5000 \\\\\n",
    "& \\ F_B \\leq 5000 \\\\\n",
    "& \\ F_C \\leq 5000 \\\\\n",
    "& \\ P_1 \\leq 4000 \\\\\n",
    "& \\ P_2 \\leq 7000 \\\\\n",
    "& \\ F,F_A,F_B,F_C,P_1,P_2 \\geq 0\n",
    "\\end{align*}"
   ]
  },
  {
   "cell_type": "markdown",
   "id": "6c17e733",
   "metadata": {},
   "source": [
    "Now we will implement this formulation to solve this linear programming problem using SciPy."
   ]
  },
  {
   "cell_type": "markdown",
   "id": "7354c74a",
   "metadata": {},
   "source": [
    "Let us import the relevant libraries first."
   ]
  },
  {
   "cell_type": "code",
   "execution_count": 1,
   "id": "dbb13858",
   "metadata": {},
   "outputs": [],
   "source": [
    "import numpy as np\n",
    "from scipy.optimize import linprog"
   ]
  },
  {
   "cell_type": "markdown",
   "id": "636e00ce",
   "metadata": {},
   "source": [
    "Now we will define the objective function based on the variables in our problem formulation."
   ]
  },
  {
   "cell_type": "code",
   "execution_count": 2,
   "id": "e85746ba",
   "metadata": {},
   "outputs": [],
   "source": [
    "# Defining the vector of variables x\n",
    "# x := [F, F_A, F_B, F_C, P1, P2]\n",
    "# Coefficients of the objective function (maximize 0.6*P1 + 0.3*P2 - 0.4*F)\n",
    "# Note: linprog does minimization, so we need to negate the coefficients\n",
    "c = np.array([0.4, 0, 0, 0, -0.6, -0.3])  # Negated coefficients of F, P1, P2"
   ]
  },
  {
   "cell_type": "markdown",
   "id": "101ba19a",
   "metadata": {},
   "source": [
    "Now we will define the matrix of coefficients of all the inequality constraints in our formulation"
   ]
  },
  {
   "cell_type": "code",
   "execution_count": 4,
   "id": "b1c11280",
   "metadata": {},
   "outputs": [],
   "source": [
    "# Coefficients of the inequality constraints (Ax <= b)\n",
    "A_ub = np.array([\n",
    "    [1, 0, 0, 0, 0, 0],   # F <= 10000\n",
    "    [0, 1, 0, 0, 0, 0],   # F_A <= 5000\n",
    "    [0, 0, 1, 0, 0, 0],   # F_B <= 5000\n",
    "    [0, 0, 0, 1, 0, 0],   # F_C <= 5000\n",
    "    [0, 0, 0, 0, 1, 0],   # P1 <= 4000\n",
    "    [0, 0, 0, 0, 0, 1],   # P2 <= 7000\n",
    "])\n",
    "\n",
    "b_ub = np.array([\n",
    "    10000, # F <= 10000\n",
    "    5000,  # F_A <= 5000\n",
    "    5000,  # F_B <= 5000\n",
    "    5000,  # F_C <= 5000\n",
    "    5000,  # P1 <= 4000\n",
    "    7000,  # P2 <= 7000\n",
    "])"
   ]
  },
  {
   "cell_type": "markdown",
   "id": "e7387c0a",
   "metadata": {},
   "source": [
    "Now we will define the matrix of coefficients of all the equality constraints in our formulation"
   ]
  },
  {
   "cell_type": "code",
   "execution_count": 5,
   "id": "b4c1a43a",
   "metadata": {},
   "outputs": [],
   "source": [
    "# Coefficients of the equality constraints (A_eq x = b_eq)\n",
    "A_eq = np.array([\n",
    "    [1, -1, -1, -1, 0, 0],  # F = F_A + F_B + F_C\n",
    "    [0, -0.4, -0.3, -0.5, 1, 0],  # P1 = 0.4*F_A + 0.3*F_B + 0.5*F_C\n",
    "    [0, -0.6, -0.7, -0.5, 0, 1],  # P2 = 0.6*F_A + 0.7*F_B + 0.5*F_C\n",
    "])\n",
    "\n",
    "b_eq = np.array([0, 0, 0])  # Right-hand side of equality constraints"
   ]
  },
  {
   "cell_type": "markdown",
   "id": "3dae4e98",
   "metadata": {},
   "source": [
    "Now we will specify the bounds on alll the variables in the formulation"
   ]
  },
  {
   "cell_type": "code",
   "execution_count": 6,
   "id": "6f2f3c7a",
   "metadata": {},
   "outputs": [],
   "source": [
    "# Bounds for each variable (F, F_A, F_B, F_C, P1, P2)\n",
    "x_bounds = (0, None)  # all variables are >= 0\n",
    "bounds = [x_bounds] * 6"
   ]
  },
  {
   "cell_type": "markdown",
   "id": "19f4c568",
   "metadata": {},
   "source": [
    "Now we will solve the formulation using the linear programming functionality of SciPy"
   ]
  },
  {
   "cell_type": "code",
   "execution_count": 7,
   "id": "02440c8a",
   "metadata": {},
   "outputs": [],
   "source": [
    "# Solve the linear program\n",
    "result = linprog(c, A_ub=A_ub, b_ub=b_ub, A_eq=A_eq, b_eq=b_eq, bounds=bounds, method='highs')"
   ]
  },
  {
   "cell_type": "markdown",
   "id": "434047bf",
   "metadata": {},
   "source": [
    "Display the results."
   ]
  },
  {
   "cell_type": "code",
   "execution_count": 8,
   "id": "31268512",
   "metadata": {},
   "outputs": [
    {
     "name": "stdout",
     "output_type": "stream",
     "text": [
      "Optimal value: 350.0\n",
      "Optimal solution:\n",
      "F = 10000.0\n",
      "F_A = 5000.0\n",
      "F_B = 0.0\n",
      "F_C = 5000.0\n",
      "P1 = 4500.0\n",
      "P2 = 5500.0\n"
     ]
    }
   ],
   "source": [
    "# Display the results\n",
    "print(\"Optimal value:\", -result.fun)  # negate the result to get the maximized value\n",
    "print(\"Optimal solution:\")\n",
    "print(\"F =\", result.x[0])\n",
    "print(\"F_A =\", result.x[1])\n",
    "print(\"F_B =\", result.x[2])\n",
    "print(\"F_C =\", result.x[3])\n",
    "print(\"P1 =\", result.x[4])\n",
    "print(\"P2 =\", result.x[5])"
   ]
  },
  {
   "cell_type": "markdown",
   "id": "3677ca11",
   "metadata": {},
   "source": [
    "Inspecting the solution in more detail."
   ]
  },
  {
   "cell_type": "code",
   "execution_count": 9,
   "id": "348afec1",
   "metadata": {},
   "outputs": [
    {
     "data": {
      "text/plain": [
       "        message: Optimization terminated successfully. (HiGHS Status 7: Optimal)\n",
       "        success: True\n",
       "         status: 0\n",
       "            fun: -350.0\n",
       "              x: [ 1.000e+04  5.000e+03  0.000e+00  5.000e+03  4.500e+03\n",
       "                   5.500e+03]\n",
       "            nit: 0\n",
       "          lower:  residual: [ 1.000e+04  5.000e+03  0.000e+00  5.000e+03\n",
       "                              4.500e+03  5.500e+03]\n",
       "                 marginals: [ 0.000e+00  0.000e+00  1.000e-02  0.000e+00\n",
       "                              0.000e+00  0.000e+00]\n",
       "          upper:  residual: [       inf        inf        inf        inf\n",
       "                                    inf        inf]\n",
       "                 marginals: [ 0.000e+00  0.000e+00  0.000e+00  0.000e+00\n",
       "                              0.000e+00  0.000e+00]\n",
       "          eqlin:  residual: [ 0.000e+00  0.000e+00  0.000e+00]\n",
       "                 marginals: [ 4.000e-01 -6.000e-01 -3.000e-01]\n",
       "        ineqlin:  residual: [ 0.000e+00  0.000e+00  5.000e+03  0.000e+00\n",
       "                              5.000e+02  1.500e+03]\n",
       "                 marginals: [-0.000e+00 -2.000e-02 -0.000e+00 -5.000e-02\n",
       "                             -0.000e+00 -0.000e+00]\n",
       " mip_node_count: 0\n",
       " mip_dual_bound: 0.0\n",
       "        mip_gap: 0.0"
      ]
     },
     "execution_count": 9,
     "metadata": {},
     "output_type": "execute_result"
    }
   ],
   "source": [
    "result"
   ]
  }
 ],
 "metadata": {
  "kernelspec": {
   "display_name": ".venv",
   "language": "python",
   "name": "python3"
  },
  "language_info": {
   "codemirror_mode": {
    "name": "ipython",
    "version": 3
   },
   "file_extension": ".py",
   "mimetype": "text/x-python",
   "name": "python",
   "nbconvert_exporter": "python",
   "pygments_lexer": "ipython3",
   "version": "3.12.0"
  }
 },
 "nbformat": 4,
 "nbformat_minor": 5
}
