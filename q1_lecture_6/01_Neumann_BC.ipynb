{
 "cells": [
  {
   "cell_type": "markdown",
   "metadata": {},
   "source": [
    "Import packages."
   ]
  },
  {
   "cell_type": "code",
   "execution_count": 1,
   "metadata": {},
   "outputs": [],
   "source": [
    "import numpy as np\n",
    "import matplotlib.pyplot as plt\n",
    "import pandas as pd"
   ]
  },
  {
   "cell_type": "markdown",
   "metadata": {},
   "source": [
    "# Boundary value problem (BVP) with Neumann Boundary Condition"
   ]
  },
  {
   "cell_type": "markdown",
   "metadata": {},
   "source": [
    "In this tutorial, we solve a BVP with a Neumann boundary condition using both a backward-difference scheme and a ghost-point central-difference scheme, to compare their accuracy.\n",
    "\n",
    "We use the following example problem from lecture 6: \n",
    "\n",
    "Consider a rod of length $L$ and thermal conductivity $k$. Suppose the rod has a constant volumetric heat source $Q$. The temperature distribution in the rod is governed by the steady-state heat equation:\n",
    "\n",
    "$ -k\\frac{d^2T}{dx^2} = Q $\n",
    "\n",
    "or equivalently\n",
    "\n",
    "$ \\frac{d^2T}{dx^2} = -\\frac{Q}{k} \\equiv - S, \\quad S >0 $\n",
    "\n",
    "The right side of the rod is insulated, therefore, the heat flux is zero:\n",
    "\n",
    "$\\left.\\frac{dT}{dx}\\right|_{x=L} = 0$ (Neumann BC)\n",
    "\n",
    "The left side of the rod is in contact with a heat source, maintaining a constant temperature:\n",
    "\n",
    "$ T(x=0) = T_{start} $ (Dirichlet BC)\n",
    "\n",
    "We will let :\n",
    "\n",
    "$ L = 0.5 $ m\n",
    "\n",
    "$ S = 2 \\times 10^{4}$ K/m $^2$\n",
    "\n",
    "$ T_{start} = 373 $ K (i.e. 100 $^\\circ \\text{C}$)\n",
    "\n",
    "We discretize the heat equation using the central‐difference scheme.\n",
    "\n",
    "$ T_{i-1} - 2T_i + T_{i-1} = -S h^{2}, \\quad \\forall i \\in [1,N-2]$ and $T_0 =  T_{start}$\n",
    "\n"
   ]
  },
  {
   "cell_type": "markdown",
   "metadata": {},
   "source": [
    "#### 1. Neumann boundary condition discretization with backward difference scheme\n",
    "\n",
    "$\\left.\\frac{dT}{dx}\\right|_{x=L} = \\frac{T_{N-1}-T_{N-2}}{h} = 0$\n",
    "\n",
    "This simplifies to $T_{N-1} = T_{N-2}$\n",
    "\n",
    "We build the system matrix using option 2 presented in lecture 6 where we solve a reduced system for only the interior points.\n",
    "\n",
    "$ -2T_1 + T_2 = -T_{start}-Sh^2$\n",
    "\n",
    "$T_{i-1} -2T_i+T_{i+1}= -Sh^2, \\quad \\forall i \\in [2, N-3]$\n",
    "\n",
    "$ T_{N-3} - T_{N-2} = -Sh^2 $\n"
   ]
  },
  {
   "cell_type": "markdown",
   "metadata": {},
   "source": [
    "Define parameters."
   ]
  },
  {
   "cell_type": "code",
   "execution_count": 2,
   "metadata": {},
   "outputs": [],
   "source": [
    "L = 0.5 #m\n",
    "Tstart = 373 # K\n",
    "S = 2e4 #K/m2"
   ]
  },
  {
   "cell_type": "markdown",
   "metadata": {},
   "source": [
    "Construct function to define and solve the system of equations."
   ]
  },
  {
   "cell_type": "code",
   "execution_count": 3,
   "metadata": {},
   "outputs": [],
   "source": [
    "def solveT_backward_diff(nsteps, L, Tstart):\n",
    "\n",
    "    \"\"\"\n",
    "    Solve the 1D steady-state heat equation with constant volumetric source\n",
    "    and an insulated (Neumann) boundary at the right end using backward difference.\n",
    "\n",
    "    Parameters:\n",
    "        nsteps (int):   Number of grid points along the rod\n",
    "        L (float):      Total length of the rod\n",
    "        Tstart (float): Temperature at the left boundary (Dirichlet condition)\n",
    "\n",
    "    Returns:\n",
    "        x (ndarray): Grid coordinates (0 to L)\n",
    "        T (ndarray): Temperature at each grid point\n",
    "    \"\"\"\n",
    "\n",
    "    # Generate spatial grid and compute step size.\n",
    "    x = np.linspace(0, L, nsteps)\n",
    "    h = x[1] - x[0]\n",
    "\n",
    "    # Set up linear system A * T = b for interior nodes only.\n",
    "    # A is of size (nsteps-2) x (nsteps-2) corresponding to nodes 1..nsteps-2.\n",
    "    A = np.zeros((len(x)-2, len(x)-2))\n",
    "\n",
    "    # Fill main diagonal with -2 .\n",
    "    A -= 2 * np.eye(len(A))\n",
    "\n",
    "    # Fill sub- and super-diagonals with +1 for the second derivative stencil.\n",
    "    #   i-1 term\n",
    "    A += np.tri(len(A), k=-1) - np.tri(len(A), k=-2)\n",
    "    #   i+1 term\n",
    "    A += np.tri(len(A), k=1)  - np.tri(len(A), k=0)\n",
    "\n",
    "    # Modify the last row for backward difference Neumann BC:\n",
    "    # Enforce (T_{N-1} - T_{N-2}) / h = 0 -> T_{N-1} = T_{N-2}\n",
    "    # This yields the coefficient -1 on T_{N-2}.\n",
    "    A[-1, -1] = -1\n",
    "\n",
    "    # Construct right-hand side vector b.\n",
    "    b = np.ones(len(x)-2) * (-S * h**2)\n",
    "    b[0] = -Tstart - S * h**2\n",
    "\n",
    "    # Initialize full solution array.\n",
    "    T = np.zeros(len(x))\n",
    "    T[0] = Tstart\n",
    "\n",
    "    # Solve for interior temperatures.\n",
    "    T[1:-1] = np.linalg.solve(A, b)\n",
    "\n",
    "    # Enforce insulated boundary at right end via backward difference.\n",
    "    T[-1] = T[-2]\n",
    "\n",
    "    return x, T\n",
    "\n"
   ]
  },
  {
   "cell_type": "markdown",
   "metadata": {},
   "source": [
    "Numerical solution."
   ]
  },
  {
   "cell_type": "code",
   "execution_count": 4,
   "metadata": {},
   "outputs": [],
   "source": [
    "nsteps = 31 # number of steps to use for discretization\n",
    "x, T =  solveT_backward_diff(nsteps,L,Tstart)"
   ]
  },
  {
   "cell_type": "markdown",
   "metadata": {},
   "source": [
    "Analytical solution."
   ]
  },
  {
   "cell_type": "code",
   "execution_count": 5,
   "metadata": {},
   "outputs": [],
   "source": [
    "T_ana = np.zeros(len(T))\n",
    "T_ana = Tstart + S*(L*x-0.5*x**2)"
   ]
  },
  {
   "cell_type": "markdown",
   "metadata": {},
   "source": [
    "Plot results"
   ]
  },
  {
   "cell_type": "code",
   "execution_count": 6,
   "metadata": {},
   "outputs": [
    {
     "data": {
      "image/png": "[encoded data removed]",
      "text/plain": [
       "<Figure size 640x480 with 1 Axes>"
      ]
     },
     "metadata": {},
     "output_type": "display_data"
    }
   ],
   "source": [
    "fig  = plt.figure()\n",
    "plt.plot(x, T, label='numerical')\n",
    "plt.plot(x,T_ana,linestyle='dashdot',label = 'analytical')\n",
    "plt.xlabel(\"position $x$ [m]\")\n",
    "plt.ylabel(\"temperature $T$ [K]\")\n",
    "plt.title(\"BVP - Backward Difference Neumann\")\n",
    "plt.legend()\n",
    "plt.grid()\n",
    "plt.show()\n"
   ]
  },
  {
   "cell_type": "markdown",
   "metadata": {},
   "source": [
    "Grid refinement study."
   ]
  },
  {
   "cell_type": "code",
   "execution_count": 7,
   "metadata": {},
   "outputs": [
    {
     "name": "stdout",
     "output_type": "stream",
     "text": [
      "Grid refinement study results:\n",
      "-------------------------------\n",
      "             h    error  order\n",
      "nsteps                        \n",
      "11      0.0500  250.000    NaN\n",
      "21      0.0250  125.000    1.0\n",
      "41      0.0125   62.500    1.0\n",
      "81      0.0062   31.250    1.0\n",
      "161     0.0031   15.625    1.0\n"
     ]
    }
   ],
   "source": [
    "results = []\n",
    "for nsteps in [11, 21, 41, 81, 161]:\n",
    "\n",
    "    # Compute numerical solution.\n",
    "    x,T_num  = solveT_backward_diff(nsteps,L,Tstart)\n",
    "    h = L / (nsteps-1)\n",
    "\n",
    "    # Compute nalytical solution.\n",
    "    T_ana = Tstart + S*(L*x-0.5*x**2)\n",
    "\n",
    "    # Absolute error between numerical and analytical solution.\n",
    "    error = np.max(np.abs(T_num - T_ana))\n",
    "\n",
    "    results.append((nsteps, h, error))\n",
    "\n",
    "# Compute observed order of convergence.\n",
    "print('Grid refinement study results:')\n",
    "print('-------------------------------')\n",
    "df = pd.DataFrame(results, columns=['nsteps', 'h', 'error'])\n",
    "df['order'] = np.round(np.log(df['error'] / df['error'].shift(1)) / np.log(df['h'] / df['h'].shift(1)))\n",
    "df = df.round(4).set_index('nsteps')\n",
    "print(df)"
   ]
  },
  {
   "cell_type": "markdown",
   "metadata": {},
   "source": [
    "#### 2. Neumann boundary condition discretization with central difference scheme\n",
    "\n",
    "We introduce a ghost point $(x_N,T_N)$ such that we can use the central difference scheme.\n",
    "\n",
    "$\\left.\\frac{dT}{dx}\\right|_{x=L} = \\frac{T_{N}-T_{N-2}}{2h} = 0$\n",
    "\n",
    "This simplifies to $T_{N} = T_{N-2}$\n",
    "\n",
    "We build the system matrix using option 2 presented in lecture 6 where we solve a reduced system for only the interior nodes.\n",
    "\n",
    "$ -2T_1 + T_2 = -T_{start}-Sh^2$\n",
    "\n",
    "$T_{i-1} -2T_i+T_{i+1}= -Sh^2, \\quad \\forall i \\in [2, N-3]$\n",
    "\n",
    "$ 2T_{N-2} - 2T_{N-1} = -Sh^2 $\n"
   ]
  },
  {
   "cell_type": "markdown",
   "metadata": {},
   "source": [
    "Define function to define and solve the system of equations"
   ]
  },
  {
   "cell_type": "code",
   "execution_count": 8,
   "metadata": {},
   "outputs": [],
   "source": [
    "def solveT_central_diff(nsteps,L,Tstart):\n",
    "\n",
    "    \"\"\"\n",
    "    Solve the 1D steady-state heat equation with constant volumetric source\n",
    "    and an insulated (Neumann) boundary at the right end using central difference (ghost-node) for second-order accuracy.\n",
    "\n",
    "    Parameters:\n",
    "        nsteps (int):   Number of grid points along the rod\n",
    "        L (float):      Total length of the rod\n",
    "        Tstart (float): Temperature at the left boundary (Dirichlet condition)\n",
    "\n",
    "    Returns:\n",
    "        x (ndarray): Grid coordinates (0 to L)\n",
    "        T (ndarray): Temperature at each grid point\n",
    "    \"\"\"\n",
    "\n",
    "    # Generate spatial grid and compute step size.\n",
    "    x = np.linspace(0, L, nsteps)\n",
    "    h = x[1] - x[0] \n",
    "\n",
    "    # Set up linear system A * T = b for interior nodes only\n",
    "    # A is of size (nsteps-1) x (nsteps-1) corresponding to nodes 1..nsteps-1.\n",
    "    A = np.zeros((len(x)-1,len(x)-1))\n",
    "\n",
    "    # Fill main diagonal with -2 \n",
    "    A -= 2*np.eye(len(A))\n",
    "    \n",
    "    # Fill sub- and super-diagonals with +1 for the second derivative stencil.\n",
    "    #   i-1 term\n",
    "    A += np.tri((len(A)),k=-1)-np.tri((len(A)),k=-2)\n",
    "    #   i+1 term\n",
    "    A += np.tri((len(A)),k=1)-np.tri((len(A)),k=0)\n",
    "\n",
    "    # Modify the last row for backward difference Neumann BC:\n",
    "    # Enforce (T_{N} - T_{N-2}) / 2h = 0 -> T_{N} = T_{N-2}\n",
    "    # This yields the coefficient 2 on T_{N-2}.\n",
    "    A[-1,-2] = 2\n",
    "\n",
    "    # Construct right-hand side vector b.\n",
    "    b = np.ones(len(x)-1)*(-S*h**2)\n",
    "    b[0] = - Tstart - S*h**2\n",
    "\n",
    "    # Initialize full solution array.\n",
    "    T = np.zeros(len(x))\n",
    "    T[0] = Tstart # boundary value\n",
    "\n",
    "    # Solve for interior temperatures.\n",
    "    T[1:] = np.linalg.solve(A,b)\n",
    "\n",
    "    return x, T "
   ]
  },
  {
   "cell_type": "markdown",
   "metadata": {},
   "source": [
    "Numerical solution."
   ]
  },
  {
   "cell_type": "code",
   "execution_count": 9,
   "metadata": {},
   "outputs": [],
   "source": [
    "nsteps = 31 # number of steps to use for discretization\n",
    "x, T =  solveT_central_diff(nsteps,L,Tstart)"
   ]
  },
  {
   "cell_type": "markdown",
   "metadata": {},
   "source": [
    "Analytical solution."
   ]
  },
  {
   "cell_type": "code",
   "execution_count": 10,
   "metadata": {},
   "outputs": [],
   "source": [
    "T_ana = np.zeros(len(T))\n",
    "T_ana = Tstart + S*(L*x-0.5*x**2)"
   ]
  },
  {
   "cell_type": "markdown",
   "metadata": {},
   "source": [
    "Plot results."
   ]
  },
  {
   "cell_type": "code",
   "execution_count": 11,
   "metadata": {},
   "outputs": [
    {
     "data": {
      "image/png": "[encoded data removed]",
      "text/plain": [
       "<Figure size 640x480 with 1 Axes>"
      ]
     },
     "metadata": {},
     "output_type": "display_data"
    }
   ],
   "source": [
    "fig  = plt.figure()\n",
    "plt.plot(x, T, label='numerical')\n",
    "plt.plot(x,T_ana,linestyle='dashdot',label = 'analytical')\n",
    "plt.xlabel(\"position $x$ [m]\")\n",
    "plt.ylabel(\"temperature $T$ [K]\")\n",
    "plt.title(\"BVP - Central Difference Neumann\")\n",
    "plt.legend()\n",
    "plt.grid()\n",
    "plt.show()"
   ]
  },
  {
   "cell_type": "markdown",
   "metadata": {},
   "source": [
    "Grid refinement study."
   ]
  },
  {
   "cell_type": "code",
   "execution_count": 12,
   "metadata": {},
   "outputs": [
    {
     "name": "stdout",
     "output_type": "stream",
     "text": [
      "Grid refinement study results:\n",
      "-------------------------------\n",
      "   nsteps       h  error\n",
      "0      11  0.0500    0.0\n",
      "1      21  0.0250    0.0\n",
      "2      41  0.0125    0.0\n",
      "3      81  0.0062    0.0\n",
      "4     161  0.0031    0.0\n"
     ]
    }
   ],
   "source": [
    "results = []\n",
    "for nsteps in [11, 21, 41, 81, 161]:\n",
    "\n",
    "    # Compute numerical solution.\n",
    "    x,T_num  = solveT_central_diff(nsteps,L,Tstart)\n",
    "    h = L / (nsteps-1)\n",
    "\n",
    "    # Compute analytical solution.\n",
    "    T_ana = Tstart + S*(L*x-0.5*x**2)\n",
    "\n",
    "    # Absolute error between numerical and analytical solution.\n",
    "    error = np.max(np.abs(T_num - T_ana))\n",
    "\n",
    "    results.append((nsteps, h, error))\n",
    "\n",
    "# Compute observed order of convergence.\n",
    "print('Grid refinement study results:')\n",
    "print('-------------------------------')\n",
    "df = pd.DataFrame(results, columns=['nsteps','h','error'])\n",
    "df[['h','error']] = df[['h','error']].round(4)\n",
    "print(df)"
   ]
  },
  {
   "cell_type": "markdown",
   "metadata": {},
   "source": [
    "Because the exact solution for $T$ is a quadratic in $x$ and a second-order finite-difference stencil reproduces any quadratic exactly, the numerical and analytic solutions coincide, resulting in zero error, independent of the grid resolution.\n"
   ]
  },
  {
   "cell_type": "markdown",
   "metadata": {},
   "source": []
  }
 ],
 "metadata": {
  "kernelspec": {
   "display_name": "QCFD",
   "language": "python",
   "name": "python3"
  },
  "language_info": {
   "codemirror_mode": {
    "name": "ipython",
    "version": 3
   },
   "file_extension": ".py",
   "mimetype": "text/x-python",
   "name": "python",
   "nbconvert_exporter": "python",
   "pygments_lexer": "ipython3",
   "version": "3.11.10"
  }
 },
 "nbformat": 4,
 "nbformat_minor": 2
}
