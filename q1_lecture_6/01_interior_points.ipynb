{
 "cells": [
  {
   "cell_type": "markdown",
   "id": "31398071",
   "metadata": {},
   "source": [
    "Import packages."
   ]
  },
  {
   "cell_type": "code",
   "execution_count": 22,
   "id": "4b4fce83",
   "metadata": {},
   "outputs": [],
   "source": [
    "import numpy as np\n",
    "import matplotlib.pyplot as plt"
   ]
  },
  {
   "cell_type": "markdown",
   "id": "f42b4786",
   "metadata": {},
   "source": [
    "# Finite differences for boundary value problems (BVP)"
   ]
  },
  {
   "cell_type": "markdown",
   "id": "2ba39522",
   "metadata": {},
   "source": [
    "We model a Newtonian fluid with viscosity $\\mu$ undergoing laminar pressure-driven flow between two parallel and infinite plates. One plate moves with $v_{up}$ and the distance between the plates is $B$.\n",
    "\n",
    "$\\mu \\frac{d^2v}{dy^2}=\\frac{\\Delta P}{\\Delta x}$\n",
    "\n",
    "The known boundary conditions are given as follows.\n",
    "\n",
    "$v(0)=0,\\;v(B)=v_{up}$\n",
    "\n",
    "We discretize the ODE using the central difference scheme.\n",
    "\n",
    "$v_0=0$\n",
    "\n",
    "$v_{i-1}+(-2)v_i+v_{i+1}=\\frac{h^2}{\\mu}\\frac{\\Delta P}{\\Delta x}$\n",
    "\n",
    "$v_{N-1}=v_{up}$"
   ]
  },
  {
   "cell_type": "markdown",
   "id": "e9f5e006",
   "metadata": {},
   "source": [
    "Define parameters."
   ]
  },
  {
   "cell_type": "code",
   "execution_count": 23,
   "id": "36efa80b",
   "metadata": {},
   "outputs": [],
   "source": [
    "B = 5e-3  # m\n",
    "v_up = 1/6*1e-4  # m/s\n",
    "dPdx = -0.03  # Pa/m\n",
    "mu = 1e-3  # -"
   ]
  },
  {
   "cell_type": "markdown",
   "id": "1a3bece8",
   "metadata": {},
   "source": [
    "Define grid."
   ]
  },
  {
   "cell_type": "code",
   "execution_count": 24,
   "id": "5a2ff539",
   "metadata": {},
   "outputs": [],
   "source": [
    "y = np.linspace(0,B,101)\n",
    "h = y[1]-y[0]"
   ]
  },
  {
   "cell_type": "markdown",
   "id": "127b09c8",
   "metadata": {},
   "source": [
    "Define left hand-side matrix $A$."
   ]
  },
  {
   "cell_type": "code",
   "execution_count": null,
   "id": "c1fb4778",
   "metadata": {},
   "outputs": [],
   "source": [
    "A = np.zeros((len(y)-2,len(y)-2))\n",
    "# set diagonal to -2\n",
    "A -= 2*np.eye(len(A))\n",
    "# set i-1 to 1\n",
    "A += np.tri((len(A)),k=-1)-np.tri((len(A)),k=-2)\n",
    "# set i+1 to 1\n",
    "A += np.tri((len(A)),k=1)-np.tri((len(A)),k=0)\n",
    "# print A\n",
    "A"
   ]
  },
  {
   "cell_type": "markdown",
   "id": "708a385b",
   "metadata": {},
   "source": [
    "Define right hand-side vector $b$."
   ]
  },
  {
   "cell_type": "code",
   "execution_count": 26,
   "id": "e64a807c",
   "metadata": {},
   "outputs": [],
   "source": [
    "# define constant\n",
    "c = h**2/mu*dPdx\n",
    "# define b\n",
    "b = np.ones(len(y)-2)*c\n",
    "b[-1] = c-v_up"
   ]
  },
  {
   "cell_type": "markdown",
   "id": "3e907fa5",
   "metadata": {},
   "source": [
    "Solve linear equation system."
   ]
  },
  {
   "cell_type": "code",
   "execution_count": 27,
   "id": "fe9d3aa7",
   "metadata": {},
   "outputs": [],
   "source": [
    "v = np.zeros(len(y))\n",
    "# boundary condition\n",
    "v[0] = 0\n",
    "# interior points\n",
    "v[1:-1] = np.linalg.solve(A,b)\n",
    "# boundary condition\n",
    "v[-1] = v_up"
   ]
  },
  {
   "cell_type": "markdown",
   "id": "3e90fa45",
   "metadata": {},
   "source": [
    "Plot the results."
   ]
  },
  {
   "cell_type": "code",
   "execution_count": null,
   "id": "6525e978",
   "metadata": {},
   "outputs": [],
   "source": [
    "fig, ax = plt.subplots()\n",
    "ax.plot(y, v)\n",
    "ax.set_xlabel(\"position $y$ /m\")\n",
    "ax.set_ylabel(\"velocity $v$ /m/s\")\n",
    "ax.set_title(\"BVP - laminar flow\")\n",
    "ax.legend()\n",
    "ax.grid()\n",
    "fig.show()"
   ]
  }
 ],
 "metadata": {
  "kernelspec": {
   "display_name": ".venv",
   "language": "python",
   "name": "python3"
  },
  "language_info": {
   "codemirror_mode": {
    "name": "ipython",
    "version": 3
   },
   "file_extension": ".py",
   "mimetype": "text/x-python",
   "name": "python",
   "nbconvert_exporter": "python",
   "pygments_lexer": "ipython3",
   "version": "3.10.12"
  }
 },
 "nbformat": 4,
 "nbformat_minor": 5
}
