{
 "cells": [
  {
   "cell_type": "markdown",
   "id": "31398071",
   "metadata": {},
   "source": [
    "Import packages."
   ]
  },
  {
   "cell_type": "code",
   "execution_count": 1,
   "id": "4b4fce83",
   "metadata": {},
   "outputs": [],
   "source": [
    "import numpy as np\n",
    "import matplotlib.pyplot as plt"
   ]
  },
  {
   "cell_type": "markdown",
   "id": "f42b4786",
   "metadata": {},
   "source": [
    "# Finite differences for boundary value problems (BVP)"
   ]
  },
  {
   "cell_type": "markdown",
   "id": "2ba39522",
   "metadata": {},
   "source": [
    "\n",
    "#### Problem Description\n",
    "We model a Newtonian fluid with viscosity $\\mu$ undergoing laminar pressure-driven flow between two parallel and infinite plates. \n",
    "\n",
    "The plate on the right moves with velocity $v_{up}$ and the distance between the plates is $B$.\n",
    "\n",
    "Governing equation is given by\n",
    "\n",
    "$\\mu \\frac{d^2v}{dy^2}=\\frac{\\Delta P}{\\Delta x}$\n",
    "\n",
    "For this example we let:\n",
    "\n",
    "$ B= 5 \\times 10^{-3} $ m\n",
    "\n",
    "$v_{up} = 1.7 \\times 10^{-5} $ m/s\n",
    "\n",
    "$ \\frac{\\Delta P}{\\Delta x} = -0.03 $ Pa/m\n",
    "\n",
    "$\\mu = 1 \\times 10^{-3} $ Pa/s\n",
    "\n",
    "The known boundary conditions are given as follows.\n",
    "\n",
    "$v(0)=0,\\;v(B)=v_{up}$\n",
    "\n",
    "#### Discretization\n",
    "\n",
    "We discretize the ODE using the central difference scheme.\n",
    "\n",
    "$v_0=0$\n",
    "\n",
    "$v_{i-1} -2v_i+v_{i+1}= c$\n",
    "\n",
    "$v_{N-1}=v_{up}$\n",
    "\n",
    "where $c = \\frac{h^2}{\\mu}\\frac{\\Delta P}{\\Delta x} $\n",
    "\n",
    "#### System Matrix\n",
    "\n",
    "We build the system matrix using option 2 presented in lecture 6 where we solve a reduced system for only the interior nodes.\n",
    "\n",
    "$ -2v_1 + v_2 = c$\n",
    "\n",
    "$v_{i-1} -2v_i+v_{i+1}= c, \\quad \\forall i \\in [2, N-3]$\n",
    "\n",
    "$ v_{N-3} - 2v_{N-2} = c - v_{up} $"
   ]
  },
  {
   "cell_type": "markdown",
   "id": "e9f5e006",
   "metadata": {},
   "source": [
    "Define parameters."
   ]
  },
  {
   "cell_type": "code",
   "execution_count": 2,
   "id": "36efa80b",
   "metadata": {},
   "outputs": [],
   "source": [
    "B = 5e-3  # m\n",
    "v_up = 1.7*1e-5  # m/s\n",
    "dPdx = -0.03  # Pa/m\n",
    "mu = 1e-3  # Pa /s"
   ]
  },
  {
   "cell_type": "markdown",
   "id": "1a3bece8",
   "metadata": {},
   "source": [
    "Define grid."
   ]
  },
  {
   "cell_type": "code",
   "execution_count": 3,
   "id": "5a2ff539",
   "metadata": {},
   "outputs": [],
   "source": [
    "y = np.linspace(0,B,101)\n",
    "h = y[1]-y[0]"
   ]
  },
  {
   "cell_type": "markdown",
   "id": "127b09c8",
   "metadata": {},
   "source": [
    "Define left hand-side matrix $A$."
   ]
  },
  {
   "cell_type": "code",
   "execution_count": 4,
   "id": "c1fb4778",
   "metadata": {},
   "outputs": [
    {
     "data": {
      "text/plain": [
       "array([[-2.,  1.,  0., ...,  0.,  0.,  0.],\n",
       "       [ 1., -2.,  1., ...,  0.,  0.,  0.],\n",
       "       [ 0.,  1., -2., ...,  0.,  0.,  0.],\n",
       "       ...,\n",
       "       [ 0.,  0.,  0., ..., -2.,  1.,  0.],\n",
       "       [ 0.,  0.,  0., ...,  1., -2.,  1.],\n",
       "       [ 0.,  0.,  0., ...,  0.,  1., -2.]])"
      ]
     },
     "execution_count": 4,
     "metadata": {},
     "output_type": "execute_result"
    }
   ],
   "source": [
    "A = np.zeros((len(y)-2,len(y)-2))\n",
    "# set diagonal to -2\n",
    "A -= 2*np.eye(len(A))\n",
    "# set i-1 to 1\n",
    "A += np.tri((len(A)),k=-1)-np.tri((len(A)),k=-2)\n",
    "# set i+1 to 1\n",
    "A += np.tri((len(A)),k=1)-np.tri((len(A)),k=0)\n",
    "# print A\n",
    "A"
   ]
  },
  {
   "cell_type": "markdown",
   "id": "708a385b",
   "metadata": {},
   "source": [
    "Define right hand-side vector $b$."
   ]
  },
  {
   "cell_type": "code",
   "execution_count": 5,
   "id": "e64a807c",
   "metadata": {},
   "outputs": [],
   "source": [
    "# define constant\n",
    "c = h**2/mu*dPdx\n",
    "\n",
    "# define b\n",
    "b = np.ones(len(y)-2)*c\n",
    "b[-1] = c-v_up"
   ]
  },
  {
   "cell_type": "markdown",
   "id": "3e907fa5",
   "metadata": {},
   "source": [
    "Solve linear equation system."
   ]
  },
  {
   "cell_type": "code",
   "execution_count": 6,
   "id": "fe9d3aa7",
   "metadata": {},
   "outputs": [],
   "source": [
    "v = np.zeros(len(y))\n",
    "\n",
    "# boundary value\n",
    "v[0] = 0\n",
    "\n",
    "# interior points\n",
    "v[1:-1] = np.linalg.solve(A,b)\n",
    "\n",
    "# boundary value\n",
    "v[-1] = v_up"
   ]
  },
  {
   "cell_type": "markdown",
   "id": "d6d0274d",
   "metadata": {},
   "source": [
    "Analytical solution."
   ]
  },
  {
   "cell_type": "code",
   "execution_count": 11,
   "id": "9d4eba90",
   "metadata": {},
   "outputs": [],
   "source": [
    "v_ana = 1/2/mu*(-dPdx)*y*(B-y) + v_up/B*y"
   ]
  },
  {
   "cell_type": "markdown",
   "id": "3e90fa45",
   "metadata": {},
   "source": [
    "Plot the results."
   ]
  },
  {
   "cell_type": "code",
   "execution_count": 17,
   "id": "6525e978",
   "metadata": {},
   "outputs": [
    {
     "data": {
      "image/png": "[encoded data removed]",
      "text/plain": [
       "<Figure size 640x480 with 1 Axes>"
      ]
     },
     "metadata": {},
     "output_type": "display_data"
    }
   ],
   "source": [
    "fig  = plt.figure()\n",
    "plt.plot(y, v, label='numerical')\n",
    "plt.plot(y, v_ana, linestyle='dashdot' , label='analytical')\n",
    "plt.xlabel(\"position $y$ [m]\")\n",
    "plt.ylabel(\"velocity $v$ [m/s]\")\n",
    "plt.title(\"BVP - Laminar flow in Channel\")\n",
    "plt.legend()\n",
    "plt.grid()\n",
    "plt.show()"
   ]
  },
  {
   "cell_type": "code",
   "execution_count": null,
   "id": "f049d598",
   "metadata": {},
   "outputs": [],
   "source": []
  }
 ],
 "metadata": {
  "kernelspec": {
   "display_name": "QCFD",
   "language": "python",
   "name": "python3"
  },
  "language_info": {
   "codemirror_mode": {
    "name": "ipython",
    "version": 3
   },
   "file_extension": ".py",
   "mimetype": "text/x-python",
   "name": "python",
   "nbconvert_exporter": "python",
   "pygments_lexer": "ipython3",
   "version": "3.11.10"
  }
 },
 "nbformat": 4,
 "nbformat_minor": 5
}
