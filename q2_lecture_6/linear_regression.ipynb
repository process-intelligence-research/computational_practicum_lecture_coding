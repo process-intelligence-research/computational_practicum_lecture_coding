{
 "cells": [
  {
   "cell_type": "code",
   "execution_count": 2,
   "metadata": {},
   "outputs": [],
   "source": [
    "import numpy as np\n",
    "import matplotlib.pyplot as plt\n",
    "import numpy.typing as npt"
   ]
  },
  {
   "cell_type": "markdown",
   "metadata": {},
   "source": [
    "***This example is obtained from Kenneth J. Beers. Numerical methods for chemical engineering. Cambridge University Press, Cambridge, UK \\[u.a.\\], repr. edition, 2009. Chapter 8 Bayesian statistics and parameter estimation.***\n",
    "\n",
    "We consider a batch reactor hosting a reaction $ \\nu_A A+ \\nu_B B -> \\nu_C C$. We assume the balances volume, i.e., the reactor volume, to be isothermal ($T$=const).\n",
    "\n",
    "The volumetric reaction rate expression is thus $r_{R1}=k_1 c_A^{\\nu_A} c_B^{\\nu_B}$. The initial concentrations of components $A$ and $B$ are known a priori.\n",
    "\n",
    "We are interested in determining the stoichiometric coefficients $\\nu_A$ and $\\nu_B$, as well as $k_1(T)=k_1$.\n",
    "\n",
    "For this, we exploit the relation\n",
    "\n",
    "$\\frac{dc_C}{dt}|_{t=0}=r_{R1}=k_1 [c_A(0)]^{\\nu_A} [c_B(0)]^{\\nu_B}$.\n",
    "\n",
    "We run experiments with known initial concentrations of $A$ and $B$, and measure the slope of $c_C(t=0)$ and thus obtain measurements of $r_{R1}$.\n",
    "\n",
    "We first need to define a linear model by applying the base-10 logarithm such that\n",
    "\n",
    "$log_{10}(r_{R1})= log_{10}(k_1)+ \\nu_A \\cdot  log_{10}(c_A(0))+\\nu_B \\cdot log_{10}(c_B(0))$.\n",
    "\n",
    "We consider the inputs of out regression problem to be $\\boldsymbol{x}=[log_{10}(c_A(0)), log_{10}(c_B(0))]$. The output is $y=r_{R1}$. The set of parameters is $\\boldsymbol{\\theta}=[log_{10}(k_1), \\nu_A, \\nu_B]$ such that we can derive\n",
    "\n",
    "$y=\\theta_0+\\theta_1x_1+\\theta_2x_2$."
   ]
  },
  {
   "cell_type": "code",
   "execution_count": 3,
   "metadata": {},
   "outputs": [],
   "source": [
    "def linear_regression(x_feature: npt.NDArray, y_target:npt.NDArray) -> npt.NDArray:\n",
    "\n",
    "    # Add a column of ones to X for the bias term (intercept)\n",
    "    X_b = np.column_stack((np.ones((x_feature.shape[0], 1)), x_feature))\n",
    "\n",
    "    # Solve the normal equation to find the coefficients (theta)\n",
    "    theta = np.linalg.inv(X_b.T.dot(X_b)).dot(X_b.T).dot(y_target)\n",
    "\n",
    "    return theta"
   ]
  },
  {
   "cell_type": "code",
   "execution_count": 4,
   "metadata": {},
   "outputs": [
    {
     "name": "stdout",
     "output_type": "stream",
     "text": [
      "k_1: 0.002504368729755269\n",
      "v_A:  1.0239867109634533\n",
      "v_B:  0.9805315614617935\n"
     ]
    }
   ],
   "source": [
    "x_feature = np.array([[-1,-0.699,-1,-0.699,-1.301,-0.699],\n",
    "                     [-1,-1,-0.699,-0.699,-0.699,-1.301]]).T\n",
    "y_target = np.array([-4.6096,-4.3157,-4.2999,-3.9988,-4.6224,-4.5818])\n",
    "\n",
    "theta = linear_regression(x_feature, y_target)\n",
    "print(f\"k_1: {10**theta[0]}\")\n",
    "print('v_A: ', theta[1])\n",
    "print('v_B: ', theta[2])"
   ]
  }
 ],
 "metadata": {
  "kernelspec": {
   "display_name": ".venv",
   "language": "python",
   "name": "python3"
  },
  "language_info": {
   "codemirror_mode": {
    "name": "ipython",
    "version": 3
   },
   "file_extension": ".py",
   "mimetype": "text/x-python",
   "name": "python",
   "nbconvert_exporter": "python",
   "pygments_lexer": "ipython3",
   "version": "3.12.3"
  }
 },
 "nbformat": 4,
 "nbformat_minor": 2
}
