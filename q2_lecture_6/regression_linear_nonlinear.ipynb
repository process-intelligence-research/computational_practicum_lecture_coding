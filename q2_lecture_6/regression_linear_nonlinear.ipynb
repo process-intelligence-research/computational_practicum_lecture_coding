{
 "cells": [
  {
   "cell_type": "code",
   "execution_count": 1,
   "metadata": {},
   "outputs": [],
   "source": [
    "import numpy as np\n",
    "import numpy.typing as npt"
   ]
  },
  {
   "cell_type": "markdown",
   "metadata": {},
   "source": [
    "***This example is obtained from Kenneth J. Beers. Numerical methods for chemical engineering. Cambridge University Press, Cambridge, UK \\[u.a.\\], repr. edition, 2009. Chapter 8 Bayesian statistics and parameter estimation.***\n",
    "\n",
    "We consider a batch reactor hosting a reaction $ \\nu_A A+ \\nu_B B -> \\nu_C C$. We assume the balances volume, i.e., the reactor volume, to be isothermal ($T$=const).\n",
    "\n",
    "The volumetric reaction rate expression is thus $r_{R1}=k_1 c_A^{\\nu_A} c_B^{\\nu_B}$. The initial concentrations of components $A$ and $B$ are known a priori.\n",
    "\n",
    "We are interested in determining the stoichiometric coefficients $\\nu_A$ and $\\nu_B$, as well as $k_1(T)=k_1$.\n",
    "\n",
    "For this, we exploit the relation\n",
    "\n",
    "$\\frac{dc_C}{dt}|_{t=0}=r_{R1}=k_1 [c_A(0)]^{\\nu_A} [c_B(0)]^{\\nu_B}$.\n",
    "\n",
    "We run experiments with known initial concentrations of $A$ and $B$, and measure the slope of $c_C(t=0)$ and thus obtain measurements of $r_{R1}$. The measurements are given below:"
   ]
  },
  {
   "cell_type": "code",
   "execution_count": 2,
   "metadata": {},
   "outputs": [],
   "source": [
    "c_A_measurements = np.array([0.1, 0.2, 0.1, 0.2, 0.05, 0.2])\n",
    "c_B_measurements = np.array([0.1, 0.1, 0.2, 0.2, 0.2, 0.05])\n",
    "r_R1_measurements = np.array([0.0246, 0.0483, 0.0501, 0.1003, 0.0239, 0.0262])*1E-03"
   ]
  },
  {
   "cell_type": "markdown",
   "metadata": {},
   "source": [
    "We want to find $k_1, \\nu_A, \\nu_B$ using linear regression. For this, we first need to define a linear model by applying the base-10 logarithm such that\n",
    "\n",
    "$log_{10}(r_{R1})= log_{10}(k_1)+ \\nu_A \\cdot  log_{10}(c_A(0))+\\nu_B \\cdot log_{10}(c_B(0))$.\n",
    "\n",
    "We consider the inputs of our linear regression problem to be $\\boldsymbol{x}=[log_{10}(c_A(0)), log_{10}(c_B(0))]$. The output is $y=r_{R1}$. The set of parameters is $\\boldsymbol{\\theta}=[log_{10}(k_1), \\nu_A, \\nu_B]$ such that we can derive\n",
    "\n",
    "$y=\\theta_0+\\theta_1x_1+\\theta_2x_2$."
   ]
  },
  {
   "cell_type": "code",
   "execution_count": 3,
   "metadata": {},
   "outputs": [],
   "source": [
    "def linear_regression(x_feature: npt.NDArray, y_target:npt.NDArray) -> npt.NDArray:\n",
    "\n",
    "    # Add a column of ones to X for the bias term (intercept)\n",
    "    X_b = np.column_stack((np.ones((x_feature.shape[0], 1)), x_feature))\n",
    "\n",
    "    # Solve the normal equation to find the coefficients (theta)\n",
    "    theta = np.linalg.inv(X_b.T.dot(X_b)).dot(X_b.T).dot(y_target)\n",
    "\n",
    "    return theta"
   ]
  },
  {
   "cell_type": "code",
   "execution_count": null,
   "metadata": {},
   "outputs": [],
   "source": [
    "x_feature = np.vstack((np.log10(c_A_measurements), np.log10(c_B_measurements))).T\n",
    "y_target = np.log10(r_R1_measurements)\n",
    "theta = linear_regression(x_feature, y_target)\n",
    "print(f\"k_1: {10**theta[0]}\")\n",
    "print('v_A: ', theta[1])\n",
    "print('v_B: ', theta[2])"
   ]
  },
  {
   "cell_type": "markdown",
   "metadata": {},
   "source": [
    "Now, we want to find $k_1, \\nu_A, \\nu_B$ using nonlinear regression.\n",
    "\n",
    "$\\frac{dc_C}{dt}|_{t=0}=r_{R1}=k_1 [c_A(0)]^{\\nu_A} [c_B(0)]^{\\nu_B}$.\n",
    "\n",
    "We consider the inputs of our nonlinear regression problem to be $\\boldsymbol{\\tilde{x}}=[c_A(0), c_B(0)]$. The output is $\\tilde{y}=r_{R1}$. The set of parameters is $\\boldsymbol{\\tilde{\\theta}}=[k_1, \\nu_A, \\nu_B]$ such that we can derive\n",
    "\n",
    "$y=\\tilde{\\theta}_0x_1^{\\tilde{\\theta}_1}x_2^{\\tilde{\\theta}_2}$.\n",
    "\n",
    "NOTE: To use [scipy.optimize.curve_fit](https://docs.scipy.org/doc/scipy/reference/generated/scipy.optimize.curve_fit.html), the model function `f(x,*params)` must take the independent variable `x` as the first argument and the parameters to fit as separate remaining arguments!"
   ]
  },
  {
   "cell_type": "code",
   "execution_count": 5,
   "metadata": {},
   "outputs": [],
   "source": [
    "def rate_expression(x:npt.NDArray, k1:float, nuA:float, nuB:float) -> npt.NDArray:\n",
    "    \"\"\"\n",
    "    Function to express the reaction rate for an irreversible reaction with reagents A and B \n",
    "    with reaction rate constant k1: A+B ->[k1] ...\n",
    "    Parameters\n",
    "    ----------\n",
    "        x (npt.NDArray): initial concentration measurements for species A and B\n",
    "        k1 (float): reaction rate constant\n",
    "        nuA (float): stoichiometric coefficient of species A\n",
    "        nuB (float): stoichiometric coefficient of species B\n",
    "    Returns\n",
    "    -------\n",
    "        (npt.NDArray): reaction rate\n",
    "    \"\"\"\n",
    "\n",
    "    return k1*x[0]**nuA*x[1]**nuB\n"
   ]
  },
  {
   "cell_type": "markdown",
   "metadata": {},
   "source": [
    "Now, let's apply scipy.optimize.curve_fit!"
   ]
  },
  {
   "cell_type": "code",
   "execution_count": null,
   "metadata": {},
   "outputs": [],
   "source": [
    "from scipy.optimize import curve_fit\n",
    "\n",
    "popt, pcov = curve_fit(f=rate_expression, xdata=[c_A_measurements, c_B_measurements], ydata=r_R1_measurements)\n",
    "print(\"k_1: \", popt[0])\n",
    "print('v_A: ', popt[1])\n",
    "print('v_B: ', popt[2])"
   ]
  }
 ],
 "metadata": {
  "kernelspec": {
   "display_name": ".venv",
   "language": "python",
   "name": "python3"
  },
  "language_info": {
   "codemirror_mode": {
    "name": "ipython",
    "version": 3
   },
   "file_extension": ".py",
   "mimetype": "text/x-python",
   "name": "python",
   "nbconvert_exporter": "python",
   "pygments_lexer": "ipython3",
   "version": "3.12.3"
  }
 },
 "nbformat": 4,
 "nbformat_minor": 2
}
