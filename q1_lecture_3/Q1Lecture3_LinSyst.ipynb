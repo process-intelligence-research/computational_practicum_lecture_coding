{
 "cells": [
  {
   "cell_type": "code",
   "execution_count": 1,
   "metadata": {},
   "outputs": [
    {
     "name": "stdout",
     "output_type": "stream",
     "text": [
      "Finished importing packages\n"
     ]
    }
   ],
   "source": [
    "from typing import Callable, List, Tuple, Union\n",
    "\n",
    "import matplotlib\n",
    "import matplotlib.pyplot as plt\n",
    "import numpy as np\n",
    "import scipy\n",
    "import copy\n",
    "\n",
    "print(\"Finished importing packages\")"
   ]
  },
  {
   "cell_type": "markdown",
   "id": "165c93c6",
   "metadata": {},
   "source": [
    "## Systems of *linear* equations in $\\mathbb{R}^n$\n",
    "The aim of the distillation column in the picture is to separate a multi-component inlet stream, containing Methane (M), Ethane (E) and Propane (P).\n",
    "\n",
    "The inlet stream is fully defined concerning the mass. You are required to find the values of $m_1$, $m_2$, and $m_3$, defining respectively, the total mass of the top, middle and bottom stream. The component mass fractions of the single streams are given as known data.\n",
    "\n",
    "Remember that: \n",
    "\n",
    "$x_{ji} = \\frac{m_j}{m_{tot_i}}$      and      $\\sum_j x_{ji} = 1$\n",
    "\n",
    "with $j \\in N_c$ and $i \\in N_s$ with $N_c$ components and $N_s$ streams.\n",
    "\n",
    "![attachment](Column.png)\n",
    "\n",
    "To solve the problem, we are required to set up a component mass balance, for each component M, E and P. The balance results in a linear system of three equations in the unknowns $m_1$, $m_2$, $m_3$. A linear system can be written in the form \n",
    "\\begin{equation}\n",
    "\\tag{Eq. 1}\n",
    "\\boldsymbol{A}\\vec{x} = \\vec{b}, \n",
    "\\end{equation}\n",
    "with $A$ being the coefficients matrix, $b$ the known vector and $x$ the unknown vector. The linear system can be solved as $\\vec{x} = \\boldsymbol{A}^{-1}\\vec{b}$.\n",
    "\n",
    "- Using `numpy`, we define the matrix of coefficients $\\boldsymbol{A}$ and the vector of known values $\\vec{b}$, called `a_matrix` and `b_vector`, respectively.\n",
    "- We solve the linear system using the Jacobi method.\n",
    "- We compare our solution to the solution derived by using the Python built-in function `numpy.linalg.solve`."
   ]
  },
  {
   "cell_type": "code",
   "execution_count": 2,
   "id": "62f7b950",
   "metadata": {},
   "outputs": [],
   "source": [
    "# Define a_matrix, b_vector\n",
    "a_matrix = np.array([[0.9, 0.3, 0.1], [0.1, 0.5, 0.2], [0.0, 0.2, 0.7]]) \n",
    "b_vector = np.array([30.0, 25.0, 10.0])"
   ]
  },
  {
   "cell_type": "markdown",
   "id": "facaf711",
   "metadata": {},
   "source": [
    "The **fixed point iteration** method can be exploited to solve linear systems in the following form:\n",
    "\\begin{equation}\n",
    "\\tag{Eq. 2}\n",
    "\\vec{x}_{i+1} = \\mathbf{C}\\vec{x}_{i} + \\vec{g}\n",
    "\\end{equation}\n",
    "Depending on the specific algorithm (Richardson, Jacobi, Gauss-Seidel, etc.) the way matrix $\\mathbf{C}$ and vector $\\vec{g}$ are defined is different. However, the iterative solution will follow equation $2$ for all algorithms. For this reason, we define the `fixedPointIteration` function (recall Q1 - Lecture 2) that takes as input the following arguments:\n",
    "- a matrix `C`\n",
    "- a vector `g`\n",
    "- a first-guess solution `x0`\n",
    "- a maximum number of iteration `nIter`\n",
    "- a absolute error tolerance `eps`\n",
    "\n",
    "The function is able to iteratively approach the solution using fixed point iterations (equation $2$) until one of these two conditions is met: \n",
    "1. The approximated absolute error is smaller than a given value $\\left(\\varepsilon = 1 \\cdot 10^{-9}\\right)$\n",
    "2. The code has run for a given maximum number of iterations $\\left(N = 100\\right)$\n",
    "\n",
    "The approximated absolute error $\\varepsilon$ at the `i-th` iteration can be defined as\n",
    "\\begin{equation}\n",
    "\\tag{Eq. 3}\n",
    "\\varepsilon = \\left| \\vec{x}_{i}-\\vec{x}_{i-1} \\right|\n",
    "\\end{equation}\n",
    "The function then returns the solution vector `x` and print out the number of iterations used to converge (this feature will be useful to compare the efficiency of different algorithms)."
   ]
  },
  {
   "cell_type": "code",
   "execution_count": 3,
   "id": "cbf67f9c",
   "metadata": {},
   "outputs": [],
   "source": [
    "def fixedPointIteration(C: np.ndarray, g: np.ndarray, x0: np.ndarray, nIter:int=100, eps:float=1e-9) -> np.ndarray:\n",
    "    \"\"\"Method to solve linear systems via fixed point iteration method.\n",
    "\n",
    "    Args:\n",
    "        C (np.ndarray): Matrix C\n",
    "        g (np.ndarray): Vector b\n",
    "        x0 (np.ndarray): Initial guess\n",
    "        nIter (int, optional): Maximum number of iterations. Defaults to 100.\n",
    "        eps (float, optional): Absolute error tolerance. Defaults to 1e-9.\n",
    "\n",
    "    Returns:\n",
    "        np.ndarray: Solution vector x\n",
    "    \"\"\"\n",
    "    # BEGIN SOLUTION\n",
    "    # assigning first-guess solution to the solution vector x\n",
    "    x = x0\n",
    "\n",
    "    # start iterating\n",
    "    for i in range(1, nIter + 1):\n",
    "        # save the solution of the previous iteration\n",
    "        x_old = x\n",
    "        # determine new solution vector @ i-th iteration knowing the (i-1)-th one\n",
    "        x = np.dot(C, x) + g\n",
    "        # compute the approximated absolute error\n",
    "        error = np.linalg.norm(x - x_old)\n",
    "\n",
    "        if error < eps:\n",
    "            # Method has converged in i iterations\n",
    "            return x\n",
    "    # Maximum number of iterations was reached, the method hasn't converged\n",
    "    # END SOLUTION\n",
    "    return x"
   ]
  },
  {
   "cell_type": "markdown",
   "id": "8e67e465",
   "metadata": {},
   "source": [
    "First, we need to find out how to define the decomposition of matrix $\\boldsymbol{A}$ into $\\boldsymbol{D}$, $\\boldsymbol{L}$, and $\\boldsymbol{U}$. Herefore, we can use the built-in numpy functions `numpy.diag`, `numpy.tril`, and `numpy.triu`. \n",
    "\n",
    "Then, we define a function that reformulates the problem such that the `fixedPointIteration` function can be used, i.e., in the form\n",
    "\\begin{equation}\n",
    "\\tag{Eq. 4}\n",
    "\\vec{x}_{i+1} = \\mathbf{C}\\vec{x}_{i} + \\vec{g}.\n",
    "\\end{equation}\n",
    "\n",
    "In the case of the Jacobi method, matrix $\\boldsymbol{C}$ can be defined as\n",
    "\\begin{equation}\n",
    "\\tag{Eq. 5}\n",
    "\\mathbf{C}=\\mathbf{D}^{-1}(-\\mathbf{L}-\\mathbf{U}).\n",
    "\\end{equation}\n",
    "\n",
    "Analogously, the vector $g$ needs to be defined as \n",
    "\\begin{equation}\n",
    "\\tag{Eq. 6}\n",
    "\\vec{g}=\\mathbf{D}^{-1}\\vec{b}.\n",
    "\\end{equation}\n",
    "\n",
    "The function `jacobi` takes as input arguments\n",
    "- a matrix `A`\n",
    "- a vector `b`\n",
    "- a first-guess solution `x0`\n",
    "- a maximum number of iteration `nIter`\n",
    "- a absolute error tolerance `eps`.\n",
    "\n",
    "The `jacobi` function shall return a function call of the `fixedPointIteration` with the respective input arguments:\n",
    "- a matrix `C`\n",
    "- a vector `g`\n",
    "- a first-guess solution `x0`\n",
    "- a maximum number of iteration `nIter`\n",
    "- a absolute error tolerance `eps`.\n"
   ]
  },
  {
   "cell_type": "code",
   "execution_count": 4,
   "id": "31d19f7f",
   "metadata": {},
   "outputs": [],
   "source": [
    "def jacobi(A: np.ndarray, b: np.ndarray, x0: np.ndarray, nIter:int=100, eps:int=1e-9) -> Callable:\n",
    "    \"\"\"\n",
    "        Args:\n",
    "        A (np.ndarray): linear system matrix\n",
    "        b (np.ndarray): linear system RHS vector\n",
    "        x0 (np.ndarray): first guess solution\n",
    "        nIter (int): maximum number of iterations\n",
    "        eps (float): absolute tolerance\n",
    "\n",
    "    Returns:\n",
    "        (np.ndarray): array with the solution.\n",
    "    \"\"\"\n",
    "\n",
    "    # define C matrix according to jacobi algorithm\n",
    "    C = np.dot(np.diag(1.0 / np.diag(A)), -np.tril(A, -1) - np.triu(A, +1))\n",
    "    # define b vector according to jacobi algorithm\n",
    "    g = np.dot(np.diag(1.0 / np.diag(A)), b)\n",
    "\n",
    "    return fixedPointIteration(C, g, x0, nIter, eps)"
   ]
  },
  {
   "cell_type": "markdown",
   "id": "eb687afa",
   "metadata": {},
   "source": [
    "We now compare the solution of the Jacobi method to the solution output by invoking the _[`numpy.linalg.solve()`](https://numpy.org/doc/stable/reference/generated/numpy.linalg.solve.html)_ to solve the linear system (equation $1$)."
   ]
  },
  {
   "cell_type": "code",
   "execution_count": 9,
   "id": "47ce050e",
   "metadata": {},
   "outputs": [
    {
     "name": "stdout",
     "output_type": "stream",
     "text": [
      "Jacobi method:\n",
      "[17.88461538 45.96153846  1.15384615]\n",
      "Absolute error between our jacobi method and numpy.linalg.solve(): 1.80e-10\n",
      "\n",
      "\n"
     ]
    }
   ],
   "source": [
    "y = np.linalg.solve(a_matrix, b_vector)\n",
    "\n",
    "# BEGIN SOLUTION\n",
    "x0 = np.zeros(len(b_vector))\n",
    "print(\"Jacobi method:\")\n",
    "x_jacobi = jacobi(a_matrix, b_vector, x0, nIter=100, eps=1e-9)\n",
    "print(x_jacobi)\n",
    "print(\"Absolute error between our jacobi method and numpy.linalg.solve(): {:.2e}\\n\\n\".format(np.linalg.norm(x_jacobi - y)))"
   ]
  }
 ],
 "metadata": {
  "kernelspec": {
   "display_name": "venv",
   "language": "python",
   "name": "python3"
  },
  "language_info": {
   "codemirror_mode": {
    "name": "ipython",
    "version": 3
   },
   "file_extension": ".py",
   "mimetype": "text/x-python",
   "name": "python",
   "nbconvert_exporter": "python",
   "pygments_lexer": "ipython3",
   "version": "3.12.3"
  }
 },
 "nbformat": 4,
 "nbformat_minor": 5
}
