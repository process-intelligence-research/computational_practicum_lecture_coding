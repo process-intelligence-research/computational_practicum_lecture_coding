{
 "cells": [
  {
   "cell_type": "code",
   "execution_count": null,
   "metadata": {},
   "outputs": [],
   "source": [
    "from typing import Callable, List, Tuple, Union\n",
    "import matplotlib.pyplot as plt\n",
    "import numpy as np"
   ]
  },
  {
   "cell_type": "markdown",
   "metadata": {},
   "source": [
    "# Nonlinear equations"
   ]
  },
  {
   "cell_type": "markdown",
   "metadata": {},
   "source": [
    "## Graphical analysis\n",
    "Van der Waals equation:\n",
    "$$\\left(P+a\\left(\\frac{n}{V}\\right)^2\\right)(V-nb) = nRT$$\n",
    "\n",
    "Given some T, P, and V, we can try to find the value of **n** solving the equation by plotting the function and looking for the intersection with the x-axis:\n",
    "\n",
    "$$f(n) = \\left(P+a\\left(\\frac{n}{V}\\right)^2\\right)(V-nb)-nRT$$\n",
    "\n",
    "That is, finding $n^*$ such that:\n",
    "\n",
    "$$f(n = n^*, T = 384.0K, P = 4891.3kPa, V = 0.15m^3) = 0$$"
   ]
  },
  {
   "cell_type": "code",
   "execution_count": null,
   "metadata": {},
   "outputs": [],
   "source": [
    "def van_der_waals(moles: np.ndarray) -> np.ndarray:\n",
    "    \"\"\"A function for the graphical analysis of Van der Waals equation\n",
    "\n",
    "    Args:\n",
    "        moles (np.ndarray): moles vector\n",
    "        temperature (float): temperature of the system\n",
    "        pressure (float): pressure of the system\n",
    "        volume (float): volume of the system\n",
    "\n",
    "    Returns:\n",
    "        np.ndarray: the vector of the function value\n",
    "    \"\"\"\n",
    "    a = 9.378e-4\n",
    "    b = 9.035e-5\n",
    "    gas_constant = 8.314e-3\n",
    "    temperature = 384.0\n",
    "    pressure = 4891.3\n",
    "    volume = 0.15\n",
    "    f = (pressure + a * (moles / volume) ** 2) * (\n",
    "        volume - moles * b\n",
    "    ) - moles * gas_constant * temperature\n",
    "    return f"
   ]
  },
  {
   "cell_type": "code",
   "execution_count": null,
   "metadata": {},
   "outputs": [],
   "source": [
    "moles = np.linspace(0.0, 1000.0, 101)\n",
    "fig, ax = plt.subplots()\n",
    "ax.plot(moles, van_der_waals(moles))\n",
    "ax.set_title(\"Van der Waals\")\n",
    "ax.set_xlabel(\"n\")\n",
    "ax.set_ylabel(\"f(n)\")\n",
    "ax.grid()\n",
    "plot_VdW = fig, [ax]"
   ]
  },
  {
   "cell_type": "markdown",
   "metadata": {},
   "source": [
    "You can then guess that the solution is around $n = 570$"
   ]
  },
  {
   "cell_type": "code",
   "execution_count": null,
   "metadata": {},
   "outputs": [],
   "source": [
    "n_guess = 570\n",
    "moles = np.linspace(0.0, 1000.0, 101)\n",
    "fig, ax = plt.subplots()\n",
    "ax.plot(moles, van_der_waals(moles))\n",
    "ax.plot(n_guess, 0, 'o', markersize=50, markerfacecolor='none', markeredgewidth=2)\n",
    "ax.set_title(\"Van der Waals\")\n",
    "ax.set_xlabel(\"n\")\n",
    "ax.set_ylabel(\"f(n)\")\n",
    "ax.grid()\n",
    "plot_VdW = fig, [ax]"
   ]
  },
  {
   "cell_type": "code",
   "execution_count": null,
   "metadata": {},
   "outputs": [],
   "source": []
  }
 ],
 "metadata": {
  "kernelspec": {
   "display_name": "Python 3",
   "language": "python",
   "name": "python3"
  },
  "language_info": {
   "codemirror_mode": {
    "name": "ipython",
    "version": 3
   },
   "file_extension": ".py",
   "mimetype": "text/x-python",
   "name": "python",
   "nbconvert_exporter": "python",
   "pygments_lexer": "ipython3",
   "version": "3.11.4"
  }
 },
 "nbformat": 4,
 "nbformat_minor": 2
}
