{
 "cells": [
  {
   "cell_type": "code",
   "execution_count": 16,
   "metadata": {},
   "outputs": [
    {
     "name": "stdout",
     "output_type": "stream",
     "text": [
      "Finished importing packages\n"
     ]
    }
   ],
   "source": [
    "from typing import Callable, List, Tuple, Union\n",
    "\n",
    "import matplotlib\n",
    "import matplotlib.pyplot as plt\n",
    "import numpy as np\n",
    "import scipy\n",
    "import copy\n",
    "\n",
    "print(\"Finished importing packages\")"
   ]
  },
  {
   "cell_type": "markdown",
   "metadata": {},
   "source": [
    "## Systems of *nonlinear* equations in $\\mathbb{R}^n$\n",
    "\n",
    "Consider a $pT$-flash unit:\n",
    "\n",
    "<img src=\"Flash.svg\" width=\"400\"/>\n",
    "\n",
    "We are determined to solve the following system of nonlinear equations:\n",
    "\\begin{split}\n",
    "&F z_A = V y_a + L x_A \\\\\n",
    "&F z_B = V y_B + L x_B \\\\\n",
    "&x_A + x_B = 1\\\\\n",
    "&K_A x_A + K_B x_B =1. \\\\\n",
    "\\end{split}\n",
    "We reformulate the problem such that\n",
    "\\begin{align}\n",
    "&0 = \\frac{V}{F} K_Ax_a + \\frac{L}{F} x_A -z_A \\\\\n",
    "&0 = \\frac{V}{F} K_B y_B + \\frac{L}{F} x_B -z_B\\\\\n",
    "&0 = x_A + x_B - 1\\\\\n",
    "&0 =K_A x_A + K_B x_B -1. \\\\\n",
    "\\end{align}\n",
    "We assume that $K_i$ for $i \\in \\{A,B\\}$ can be computed by Raoult's law\n",
    "\\begin{equation}\n",
    "\\tag{5}\n",
    "K_i = \\frac{p_i^{sat}(T)}{p}\n",
    "\\end{equation}\n",
    "with the pure component saturated vapor pressure $p_i^{sat(T)}$ and the total pressure $p$. The pure component vapor pressure is computed according to the Antoine equation\n",
    "\\begin{equation}\n",
    "\\tag{6}\n",
    "p_i^{sat}(T) = 10^{A-\\frac{B}{C+T}}\n",
    "\\end{equation}\n",
    "In our example, we consider $T,p$ to be constant and known. The Antoine parameters of components $A$ and $B$ are given each for temperature values in degrees Kelvin and pressure in bar. The feed composition $z_A, z_B$ is assumed to be known."
   ]
  },
  {
   "cell_type": "code",
   "execution_count": 17,
   "metadata": {},
   "outputs": [],
   "source": [
    "\n",
    "# Let's define the given parameters:\n",
    "T = 360.85  #K\n",
    "p = 1 #bar\n",
    "\n",
    "# Antoine parameters for component A (methanol), for p in bar and T in K\n",
    "A_a = 5.15853 # \n",
    "B_a = 1569.613 # K\n",
    "C_a = -34.846 # K\n",
    "\n",
    "# Antoine parameters for component B (water), for p in bar and T in K\n",
    "A_b = 3.55959\t\n",
    "B_b = 643.748\n",
    "C_b = -198.043\n",
    "\n",
    "# input variables\n",
    "zA = 0.4 # 0.1\n",
    "zB = 1-zA"
   ]
  },
  {
   "cell_type": "code",
   "execution_count": 18,
   "metadata": {},
   "outputs": [],
   "source": [
    "def Antoine(T:float, A:float, B:float, C:float) -> float:\n",
    "    \"\"\"\n",
    "    Compute saturated vapor pressure via Anoine equation\n",
    "    Args:\n",
    "        T (float): Temperature\n",
    "        A (float): Antoine parameter A\n",
    "        B (float): Antoine parameter B\n",
    "        C (float): Antoine parameter C\n",
    "    Returns:\n",
    "        p_sat (float): satureated vapor pressure\n",
    "    \"\"\"\n",
    "    p_sat = 10**((A-B/(T+C)))\n",
    "    return p_sat\n",
    "\n",
    "K_a = Antoine(T,A_a,B_a,C_a)/p\n",
    "K_b = Antoine(T,A_b,B_b,C_b)/p"
   ]
  },
  {
   "cell_type": "markdown",
   "metadata": {},
   "source": [
    "Recall the Newton-Raphson method for solving single nonlinear equations:\n",
    "\\begin{equation}\n",
    "x_{n+1} = x_n - \\frac{f(x_n)}{f'(x_n)}\n",
    "\\end{equation}\n",
    "We can also apply this to **systems** of nonlinear equations. The updating rule for systems of equations using the Newton-Raphson rule becomes\n",
    "\\begin{equation}\n",
    "\\vec{x}^{n+1} = \\vec{x}^n-\\boldsymbol{J}^{-1}(\\vec{x}^n)\\boldsymbol{F}(\\vec{x}^n)\n",
    "\\end{equation}\n",
    "with the inverse of the jacobian matrix $\\boldsymbol{J}^{-1}(\\vec{x}^n)$ and the function values of our systems of equations $\\boldsymbol{F}(\\vec{x}^n)$ for the values of the solution vector $\\vec{x}$ at iteration $n$ each.\n",
    "To leverage the formulation for the purpose of solving our system of nonlinear equations (eq. 1 to 4), we need to define $\\boldsymbol{J}$ and $\\boldsymbol{F}$ for our $pT$-flash unit.\n",
    "\n",
    "To implement the Newton-Raphson method so solve our system of nonlinear equations, we define the functions `jacobian_pTflash` and `function_value_pTflash` returning $\\boldsymbol{J}(\\vec{x}^n)$ and $\\boldsymbol{F}(\\vec{x}^n)$, respectively. Both functions take the input value `x`, which is the solution vector at the current iterate."
   ]
  },
  {
   "cell_type": "code",
   "execution_count": 19,
   "metadata": {},
   "outputs": [],
   "source": [
    "# Define the jacobian of our system\n",
    "\n",
    "def jacobian_pTflash(x:np.ndarray) -> np.ndarray:\n",
    "    \"\"\"\n",
    "    Computation of the Jacobian matrix at current iterate.\n",
    "\n",
    "    Args:\n",
    "        Jacobian matrix for pT-flash unit\n",
    "        x (np.ndarray): vector of current iterate x_k\n",
    "\n",
    "    Returns:\n",
    "        jacobian_xk (np.ndarray): matrix containing the entries of the jacobian matrix\n",
    "    \"\"\"\n",
    "    vf = x[0]\n",
    "    lf = x[1]\n",
    "    x_a =x[2]\n",
    "    x_b = x[3] \n",
    "\n",
    "    jacobian_xk = [\n",
    "            [K_a*x_a, x_a, vf*K_a+lf, 0],\n",
    "            [K_b*x_b, x_b, vf*K_b+lf, 0],\n",
    "            [0, 0, 1, 1],\n",
    "            [1,1,0,0],\n",
    "    ]\n",
    "    jacobian_xk= np.array(jacobian_xk)\n",
    "    return jacobian_xk\n",
    "\n",
    "# Define the system of equations\n",
    "def function_value_pTflash(x:np.ndarray) -> np.ndarray:\n",
    "    \"\"\"\n",
    "    Matrix describing the pT-flash unit system\n",
    "    Args:\n",
    "        x (np.ndarray): vector of current iterate x_k \n",
    "\n",
    "    Returns:\n",
    "        func_xk (np.ndarray): vector containing function values at current iterate x_k.\n",
    "    \"\"\"\n",
    "    vf = x[0]\n",
    "    lf = x[1]\n",
    "    x_a =x[2]\n",
    "    x_b = x[3]\n",
    "\n",
    "    func_xk=[\n",
    "        vf*K_a*x_a+lf*x_a-zA,\n",
    "        vf*K_b*x_b+lf*x_b-zB,\n",
    "        x_a+x_b-1,\n",
    "        vf+lf-1\n",
    "    ]\n",
    "    func_xk = np.array(func_xk)\n",
    "    return func_xk"
   ]
  },
  {
   "cell_type": "markdown",
   "metadata": {},
   "source": [
    "Now, we define a function that solves the $pT$-flash unit iteratively using the Newton-Raphson rule iteratively. In order to compute the inverse of the Jacobian matrix, we use the built-in numpy function _[`numpy.linalg.inv()`](https://numpy.org/doc/stable/reference/generated/numpy.linalg.inv.html)_. The `newtonRaphson` function we define takes the input values\n",
    "- initial guess of $\\vec{x}$ `x_start`\n",
    "- the maximum number of iterations `nIter`\n",
    "and outputs the solution vector either after the maximum number of iteration has been reacher or, if the relative difference between the current and the previous iterate is smaller than $\\epsilon_{rel}$."
   ]
  },
  {
   "cell_type": "code",
   "execution_count": 22,
   "metadata": {},
   "outputs": [],
   "source": [
    "def newtonRaphson(x_start:np.ndarray, nIter:int, erel:float=1E-15) -> np.ndarray:\n",
    "    \"\"\"\n",
    "    Implementation of the Newton-Raphson method to solve systems of nonlinear equations.\n",
    "    The iterate x_k+1 is computed directly by computing the inverse of the Jacobian matrix.\n",
    "    \n",
    "    Args:\n",
    "        x_start (np.ndarray): starting value for x-values\n",
    "        nIter (int): maximum number of iterations\n",
    "\n",
    "    Returns:\n",
    "        x_new (np.ndarrad): values obtained after last iterate\n",
    "    \"\"\"\n",
    "    x_new = x_start\n",
    "    for iter in range(nIter):\n",
    "        x_prev = copy.deepcopy(x_new)\n",
    "        x_new = x_new-np.linalg.inv(jacobian_pTflash(x_prev))@function_value_pTflash(x_prev)\n",
    "        if np.linalg.norm(x_new- x_prev)/np.linalg.norm(x_prev)<erel:\n",
    "            print(\"Newton-Raphson converged after %i iterations.\"%iter)\n",
    "            break\n",
    "    return x_new\n"
   ]
  },
  {
   "cell_type": "markdown",
   "metadata": {},
   "source": [
    "Now, we would like to apply the performance of out implementation of the Newton-Raphson method `newtonRaphson` to the built-in scipy function _[`scipy.optimize.root()`](https://docs.scipy.org/doc/scipy/reference/generated/scipy.optimize.root.html)_ to solve out system of nonlinear equations (equations 1 to 4)"
   ]
  },
  {
   "cell_type": "code",
   "execution_count": 24,
   "metadata": {},
   "outputs": [
    {
     "name": "stdout",
     "output_type": "stream",
     "text": [
      "sciply.optimize.root:\n",
      "[0.17320307 0.82679693 0.33083107 0.66916893]\n",
      "Newton-Raphson converged after 187 iterations.\n",
      "Newton-Raphson:\n",
      "[0.17320307 0.82679693 0.33083107 0.66916893]\n",
      "Absolute error between scipy.optimixe.root and Newton-Raphson: 5.89e-12\n",
      "\n",
      "\n"
     ]
    }
   ],
   "source": [
    "x_start = np.array([0.5,0.5,0.3,0.7])\n",
    "nIter = 200\n",
    "# built-in scipy function: scipy.optimize.fsolve\n",
    "x_root = scipy.optimize.root(function_value_pTflash, x_start, jac = jacobian_pTflash)\n",
    "print('sciply.optimize.root:')\n",
    "print(x_root.x)\n",
    "\n",
    "x_NetwonRaphson = newtonRaphson(x_start, nIter)\n",
    "print(\"Newton-Raphson:\")\n",
    "print(x_NetwonRaphson)\n",
    "\n",
    "print(\"Absolute error between scipy.optimixe.root and Newton-Raphson: {:.2e}\\n\\n\".format(np.linalg.norm(x_NetwonRaphson -x_root.x)))\n"
   ]
  }
 ],
 "metadata": {
  "kernelspec": {
   "display_name": ".venv",
   "language": "python",
   "name": "python3"
  },
  "language_info": {
   "codemirror_mode": {
    "name": "ipython",
    "version": 3
   },
   "file_extension": ".py",
   "mimetype": "text/x-python",
   "name": "python",
   "nbconvert_exporter": "python",
   "pygments_lexer": "ipython3",
   "version": "3.12.3"
  }
 },
 "nbformat": 4,
 "nbformat_minor": 2
}
