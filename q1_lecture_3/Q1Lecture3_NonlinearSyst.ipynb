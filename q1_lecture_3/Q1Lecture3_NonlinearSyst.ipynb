{
 "cells": [
  {
   "cell_type": "code",
   "execution_count": 807,
   "metadata": {},
   "outputs": [
    {
     "name": "stdout",
     "output_type": "stream",
     "text": [
      "Finished importing packages\n"
     ]
    }
   ],
   "source": [
    "from typing import Callable, List, Tuple, Union\n",
    "\n",
    "import matplotlib\n",
    "import matplotlib.pyplot as plt\n",
    "import numpy as np\n",
    "import scipy\n",
    "import copy\n",
    "\n",
    "print(\"Finished importing packages\")"
   ]
  },
  {
   "cell_type": "markdown",
   "metadata": {},
   "source": [
    "## Systems of *nonlinear* equations in $\\mathbb{R}^n$\n",
    "\n",
    "Consider a $pT$-flash unit (compare Lecture 2). We are attempting to solve the following system of nonlinear equations:\n",
    "\\begin{equation}\n",
    "\\end{equation}"
   ]
  },
  {
   "cell_type": "code",
   "execution_count": 808,
   "metadata": {},
   "outputs": [],
   "source": [
    "# define parameters:\n",
    "T = 360.85 # 450 #K\n",
    "p = 1 # 5 #bar\n",
    "\n",
    "# Antoine parameters for component A, for p in bar and T in K\n",
    "A_a = 5.15853 # 4.92531\t\n",
    "B_a = 1569.613 # 1432.526 #K\n",
    "C_a = -34.846 # -61.819 #K\n",
    "\n",
    "A_b = 3.55959\t\n",
    "B_b = 643.748\n",
    "C_b = -198.043\n",
    "\n",
    "# input variables\n",
    "zA = 0.4 # 0.1\n",
    "zB = 1-zA"
   ]
  },
  {
   "cell_type": "code",
   "execution_count": 809,
   "metadata": {},
   "outputs": [],
   "source": [
    "def Antoine(T:float, A:float, B:float, C:float) -> float:\n",
    "    \"\"\" \n",
    "    \"\"\"\n",
    "    p_sat = 10**((A-B/(T+C)))\n",
    "    return p_sat\n",
    "\n",
    "K_a = Antoine(T,A_a,B_a,C_a)/p\n",
    "K_b = Antoine(T,A_b,B_b,C_b)/p"
   ]
  },
  {
   "cell_type": "code",
   "execution_count": 810,
   "metadata": {},
   "outputs": [],
   "source": [
    "# Define the jacobian of our system\n",
    "\n",
    "def jacobian(x:np.ndarray) -> np.ndarray:\n",
    "    \"\"\"\n",
    "    \"\"\"\n",
    "    vf = x[0]\n",
    "    lf = x[1]\n",
    "    x_a =x[2]\n",
    "    x_b = x[3] \n",
    "\n",
    "    jacobian_xk = [\n",
    "            [K_a*x_a, x_a, vf*K_a+lf, 0],\n",
    "            [K_b*x_b, x_b, vf*K_b+lf, 0],\n",
    "            [0, 0, 1, 1],\n",
    "            [1,1,0,0],\n",
    "    ]\n",
    "    jacobian_xk= np.array(jacobian_xk)\n",
    "    return jacobian_xk\n",
    "\n",
    "# Define the system of equations\n",
    "def function_value(x:np.ndarray) -> np.ndarray:\n",
    "    \"\"\"\n",
    "    \"\"\"\n",
    "    vf = x[0]\n",
    "    lf = x[1]\n",
    "    x_a =x[2]\n",
    "    x_b = x[3]\n",
    "\n",
    "    func_xk=[\n",
    "        vf*K_a*x_a+lf*x_a-zA,\n",
    "        vf*K_b*x_b+lf*x_b-zB,\n",
    "        x_a+x_b-1,\n",
    "        vf+lf-1\n",
    "    ]\n",
    "    func_xk = np.array(func_xk)\n",
    "    return func_xk"
   ]
  },
  {
   "cell_type": "code",
   "execution_count": 811,
   "metadata": {},
   "outputs": [],
   "source": [
    "def newtonRaphson(x_start:np.ndarray, nIter:int) -> np.ndarray:\n",
    "    \"\"\" \n",
    "    \"\"\"\n",
    "    x_new = x_start\n",
    "    for iter in range(nIter):\n",
    "        x_prev = copy.deepcopy(x_new)\n",
    "        x_new = x_new-np.linalg.inv(jacobian(x_prev))@function_value(x_prev)\n",
    "        if np.allclose(x_new, x_prev, rtol = 1e-15, atol = 1e-15):\n",
    "            print(\"Newton-Raphson converged after %i iterations.\"%iter)\n",
    "            break\n",
    "    return x_new\n"
   ]
  },
  {
   "cell_type": "code",
   "execution_count": 812,
   "metadata": {},
   "outputs": [
    {
     "name": "stdout",
     "output_type": "stream",
     "text": [
      "Newton-Raphson converged after 185 iterations.\n",
      "[0.17320307 0.82679693 0.33083107 0.66916893]\n",
      "Absolute error between scipy.optimixe.root and Newton-Raphson: 5.89e-12\n",
      "\n",
      "\n"
     ]
    }
   ],
   "source": [
    "n = 4\n",
    "x_start = np.array([0.5,0.5,0.3,0.7])\n",
    "nIter = 200\n",
    "# built-in scipy function: scipy.optimize.fsolve\n",
    "x_root = scipy.optimize.root(function_value, x_start, jac = jacobian)\n",
    "\n",
    "x_NetwonRaphson = newtonRaphson(x_start, nIter)\n",
    "print(x_root.x)\n",
    "\n",
    "print(\"Absolute error between scipy.optimixe.root and Newton-Raphson: {:.2e}\\n\\n\".format(np.linalg.norm(x_NetwonRaphson -x_root.x)))\n"
   ]
  }
 ],
 "metadata": {
  "kernelspec": {
   "display_name": ".venv",
   "language": "python",
   "name": "python3"
  },
  "language_info": {
   "codemirror_mode": {
    "name": "ipython",
    "version": 3
   },
   "file_extension": ".py",
   "mimetype": "text/x-python",
   "name": "python",
   "nbconvert_exporter": "python",
   "pygments_lexer": "ipython3",
   "version": "3.12.3"
  }
 },
 "nbformat": 4,
 "nbformat_minor": 2
}
