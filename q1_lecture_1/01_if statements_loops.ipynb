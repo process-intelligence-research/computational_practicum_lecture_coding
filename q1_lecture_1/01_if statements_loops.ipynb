{
 "cells": [
  {
   "cell_type": "markdown",
   "id": "e0a27c00",
   "metadata": {},
   "source": [
    "### If statements and for loops: calculating van der Waals equation for several parameters\n",
    "Van der Waal's equation is given by:\n",
    "\n",
    "$ p = \\frac{RT}{V - b} - \\frac{a}{V^2} $\n",
    "\n",
    "where:\n",
    "\n",
    "- $ \\text{p} $: Pressure in $ \\text{bar} $\n",
    "- $ \\text{T} $: Temperature in $ \\text{K} $\n",
    "- $ \\text{V} $: Specific volume in $ \\frac{\\text{mol}}{\\text{L}} $\n",
    "- $ \\text{R} $: Universal gas constant = 0.08314 L·bar/(K·mol) $ \\frac{\\text{L} \\cdot \\text{bar}}{\\text{K} \\cdot \\text{mol}} $\n",
    "- $ \\text{a} $: van der Waals constant for attractive forces between molecules in  $ \\frac{\\text{bar} \\cdot \\text{mol}^2}{\\text{L}^2} $\n",
    "- $ \\text{b} $: van der Waals constant for the finite size of molecules in $ \\frac{\\text{mol}}{\\text{L}} $\n",
    "\n",
    "In the cell below, you can find a dictionary of van der Waals components. In this dictionary, the key is a string with the component name, and the value is a two-entry list with the parameters. The first entry is the parameter a in $ \\frac{\\text{bar} \\cdot \\text{mol}^2}{\\text{L}^2} $, the second entry is the parameter b in $ \\frac{\\text{mol}}{\\text{L}} $.\n",
    "\n",
    "### Task:\n",
    "\n",
    "A pressure vessel with 9l volume is meant to store 1 mol of gaseous water, ethanol, hexane or toluene at several different temperatures: 440K, 520K, and 700K. The manufacturer of the vessel only guarantees for 7 bar. Check if the vessel is suitable for the requirements. \n",
    "- Loop over all temperatures and components (nested loops) and calculate the pressure with van der Waal's equation.\n",
    "- Check if the pressure limit of 7 bar is exceeded. If so, print a warning.\n",
    "- Check if the warning limit of 6 bar is exceeded. If so, print a warning"
   ]
  },
  {
   "cell_type": "code",
   "execution_count": null,
   "id": "f33f6921",
   "metadata": {},
   "outputs": [],
   "source": [
    "vdw_parameters = {\n",
    "    \"water\"   : [5.536, 0.03049],\n",
    "    \"ethanol\" : [12.18, 0.08407],\n",
    "    \"hexane\"  : [24.71, 0.1735],\n",
    "    \"toluene\" : [24.38, 0.1463]\n",
    "}\n",
    "\n",
    "# Further variable definitions\n",
    "R = 0.08314  # Universal gas constant in bar·L/(mol·K)\n",
    "V = 9        # Specific volume in L/mol\n",
    "temperatures = [440, 520, 700]  # List of temperatures in K\n",
    "pressure_threshold = 6         # Pressure threshold in bar\n",
    "warning_threshold = 5           # Warning threshold in bar\n",
    "components = [\"water\", \"ethanol\", \"hexane\", \"toluene\"]\n",
    "\n",
    "# Loop over all temperatures and components\n",
    "for T in temperatures:\n",
    "    for component in components:\n",
    "        component_data = vdw_parameters[component]\n",
    "        a = component_data[0]\n",
    "        b = component_data[1]\n",
    "        # Calculate pressure with van der Waals equation in bar\n",
    "        p = R * T / (V - b) - a / V**2\n",
    "        # Check if the pressure exceeds the threshold\n",
    "        if p > pressure_threshold:\n",
    "            print(f\"WARNING: The pressure of {component} at temperature {T} K exceeds the threshold of {pressure_threshold} bar.\")\n",
    "        elif p > warning_threshold:\n",
    "            print(f\"NOTE: The pressure of {component} at temperature {T} K exceeds the warning threshold of {warning_threshold} bar.\")\n",
    "\n"
   ]
  }
 ],
 "metadata": {
  "kernelspec": {
   "display_name": "Python 3",
   "language": "python",
   "name": "python3"
  },
  "language_info": {
   "codemirror_mode": {
    "name": "ipython",
    "version": 3
   },
   "file_extension": ".py",
   "mimetype": "text/x-python",
   "name": "python",
   "nbconvert_exporter": "python",
   "pygments_lexer": "ipython3",
   "version": "3.11.7"
  }
 },
 "nbformat": 4,
 "nbformat_minor": 5
}
