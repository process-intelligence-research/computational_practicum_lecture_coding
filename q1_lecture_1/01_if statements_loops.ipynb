{
 "cells": [
  {
   "cell_type": "markdown",
   "id": "e0a27c00",
   "metadata": {},
   "source": [
    "### If statements and for loops: calculating van der Waals equation for several parameters\n",
    "Van der Waal's equation is given by:\n",
    "\n",
    "$ p = \\frac{RT}{V - b} - \\frac{a}{V^2} $\n",
    "\n",
    "where:\n",
    "\n",
    "- $ \\text{p} $: Pressure in $ \\text{bar} $\n",
    "- $ \\text{T} $: Temperature in $ \\text{K} $\n",
    "- $ \\text{V} $: Specific volume in $ \\frac{\\text{mol}}{\\text{L}} $\n",
    "- $ \\text{R} $: Universal gas constant = 0.08314 L·bar/(K·mol) $ \\frac{\\text{L} \\cdot \\text{bar}}{\\text{K} \\cdot \\text{mol}} $\n",
    "- $ \\text{a} $: van der Waals constant for attractive forces between molecules in  $ \\frac{\\text{bar} \\cdot \\text{mol}^2}{\\text{L}^2} $\n",
    "- $ \\text{b} $: van der Waals constant for the finite size of molecules in $ \\frac{\\text{mol}}{\\text{L}} $\n",
    "\n",
    "In the cell below, you can find a dictionary of van der Waals components. In this dictionary, the key is a string with the component name, and the value is a two-entry list with the parameters. The first entry is the parameter a in $ \\frac{\\text{bar} \\cdot \\text{mol}^2}{\\text{L}^2} $, the second entry is the parameter b in $ \\frac{\\text{mol}}{\\text{L}} $.\n",
    "\n",
    "### Task:\n",
    "\n",
    "A pressure vessel with 9l volume is meant to store 1 mol of water at several different temperatures: 440K, 520K, and 700K. Loop over all temperatures and calculate the pressure of the steam with van der Waal's equation."
   ]
  },
  {
   "cell_type": "code",
   "execution_count": null,
   "id": "f33f6921",
   "metadata": {},
   "outputs": [],
   "source": [
    "# Variable definitions\n",
    "R = 0.08314  # Universal gas constant in bar·L/(mol·K)\n",
    "V = 9        # Specific volume in L/mol\n",
    "vdw_parameters_water = [5.536, 0.03049]\n",
    "temperatures = [440, 520, 700]  # List of temperatures in K\n",
    "\n",
    "# Loop over all temperatures and components\n",
    "for T in temperatures:\n",
    "    # Unpack vdw parameters\n",
    "    a = vdw_parameters_water[0]\n",
    "    b = vdw_parameters_water[1]\n",
    "\n",
    "    # Calculate pressure with van der Waals equation in bar\n",
    "    p = R * T / (V - b) - a / V**2\n",
    "\n",
    "    # Print calculated pressure\n",
    "    print(f\"The pressure of the steam in the vessel at {T}K is {p}bar.\")\n",
    "        \n",
    "\n"
   ]
  }
 ],
 "metadata": {
  "kernelspec": {
   "display_name": "Python 3",
   "language": "python",
   "name": "python3"
  },
  "language_info": {
   "codemirror_mode": {
    "name": "ipython",
    "version": 3
   },
   "file_extension": ".py",
   "mimetype": "text/x-python",
   "name": "python",
   "nbconvert_exporter": "python",
   "pygments_lexer": "ipython3",
   "version": "3.11.7"
  }
 },
 "nbformat": 4,
 "nbformat_minor": 5
}
