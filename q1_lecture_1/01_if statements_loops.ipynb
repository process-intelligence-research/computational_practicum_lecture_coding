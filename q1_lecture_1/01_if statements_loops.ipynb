{
 "cells": [
  {
   "cell_type": "markdown",
   "id": "e0a27c00",
   "metadata": {},
   "source": [
    "### What if? Basic logical operations and conditions\n",
    "Boolean operations evaluate simple logics. They can be used to evaluate conditions."
   ]
  },
  {
   "cell_type": "code",
   "execution_count": null,
   "id": "c97b3ec4",
   "metadata": {},
   "outputs": [],
   "source": [
    "# Boolean operations are used to perform logical evaluations\n",
    "#   - == checks for equality\n",
    "is_equal = 1 == 2\n",
    "print(is_equal)\n",
    "\n",
    "#   - != checks for inqualty\n",
    "is_unequal = 1 != 2\n",
    "print(is_unequal)\n",
    "\n",
    "#   - \"and\" keyword is used for the logical and operation\n",
    "print(True and False)\n",
    "\n",
    "#   - \"or\" keyword is used for the logical or operation\n",
    "print(True or False)\n",
    "\n",
    "#   - ^ is used for the logical exclusive or operation\n",
    "print(True ^ False)\n",
    "\n"
   ]
  },
  {
   "cell_type": "code",
   "execution_count": null,
   "id": "5e79d9f4",
   "metadata": {},
   "outputs": [],
   "source": [
    "# An if statement is used to execute certain lines of code if a given condition holds:\n",
    "my_condition = False\n",
    "my_integer = 1\n",
    "\n",
    "if my_condition: # <- Pass in boolean variable directly\n",
    "    print(\"my_condition is False.\")\n",
    "\n",
    "elif my_integer == 1: # <- or perform a logical operation that returns a boolean\n",
    "    print(\"my_condition is False, and my_integer is 1.\")\n",
    "\n",
    "elif my_integer == 2: # <- elif: Check this condition if the if statement above is false (else if)\n",
    "    print(\"my_condition is False, my_integer is not 1, but my_integer is 2.\")\n",
    "\n",
    "else:  # <- else: If none of the conditions above holds, execute this\n",
    "    print(\"None of the conditions of the if and elif statements above hold.\")"
   ]
  },
  {
   "cell_type": "markdown",
   "id": "2d24ccfb",
   "metadata": {},
   "source": [
    "### Do that again! for and while loops\n",
    "There are two loop types, which reexecute code several times:\n",
    "- for-loops that reexecute a piece of code for every member of a collection (e.g. every entry of a list).\n",
    "- while-loops that reexecute a piece of code for as long as a condition holds."
   ]
  },
  {
   "cell_type": "code",
   "execution_count": null,
   "id": "787960d2",
   "metadata": {},
   "outputs": [],
   "source": [
    "# For loops execute code for each element of a collection, such as this list. This can be used to sum over the elements of a list, for example\n",
    "my_collection = [1, 2, 5, 7]\n",
    "sum = 0\n",
    "\n",
    "for element in my_collection:\n",
    "    # Print the current element value\n",
    "    print(f\"My current element is {element}\") # The so-called f-string lets you insert variable values into a string easily.\n",
    "\n",
    "    # Add the element to the sum\n",
    "    sum = sum + element\n",
    "\n",
    "#Print the final sum\n",
    "print(\"My final sum is:\")\n",
    "print(sum)"
   ]
  },
  {
   "cell_type": "code",
   "execution_count": null,
   "id": "815e3c80",
   "metadata": {},
   "outputs": [],
   "source": [
    "# While loops allow looping over a set of code as long as a condition is valid. \n",
    "# CAUTION: Make sure that the code inside the loop causes the condition to become False at some point, otherwise you cause an infinite loop and your program becomes stuck\n",
    "\n",
    "# Add 3 to the sum in each step, as long as the sum is less than 10\n",
    "sum = 0\n",
    "while sum < 10:\n",
    "    sum = sum + 2\n",
    "    print(f\"The current sum is {sum}\")\n",
    "    "
   ]
  },
  {
   "cell_type": "code",
   "execution_count": null,
   "id": "d4636dbe",
   "metadata": {},
   "outputs": [],
   "source": [
    "# The break keyword can be used to cancel the loop before the regular termination of the loop\n",
    "\n",
    "my_collection = [1, 2, 5, 7]\n",
    "sum = 0\n",
    "\n",
    "for element in my_collection:\n",
    "    # Print the current element value\n",
    "    print(f\"My current element is {element}\") \n",
    "\n",
    "    # Add the element to the sum\n",
    "    sum = sum + element\n",
    "\n",
    "    # If the sum is greater than 5, abort the loop:\n",
    "    if sum > 5:\n",
    "        print(\"The sum is greater than five, so we break the loop\")\n",
    "        break\n",
    "\n",
    "#Print the final sum. Compare this to the loop without the break statement\n",
    "print(\"My final sum is:\")\n",
    "print(sum)"
   ]
  },
  {
   "cell_type": "code",
   "execution_count": null,
   "id": "eac62da8",
   "metadata": {},
   "outputs": [],
   "source": [
    "# The continue keyword can be used to skip the remaining step in the iteration and return to the top of the loop\n",
    "# Note that the code in the loop that comes before the continue statement is still executed \n",
    "\n",
    "my_collection = [1, 2, 5, 7]\n",
    "sum = 0\n",
    "\n",
    "for element in my_collection:\n",
    "    # Print the current element value\n",
    "    print(f\"My current element is {element}\") \n",
    "\n",
    "    # If the element is 5, skip the loop:\n",
    "    if element == 5:\n",
    "        print(\"I dont like fives, so I'll skip this one\")\n",
    "        continue\n",
    "\n",
    "    # Add the element to the sum\n",
    "    sum = sum + element\n",
    "\n",
    "#Print the final sum. Compare this to the loop without the continue statement\n",
    "print(\"My final sum is:\")\n",
    "print(sum)"
   ]
  }
 ],
 "metadata": {
  "kernelspec": {
   "display_name": "Python 3",
   "language": "python",
   "name": "python3"
  },
  "language_info": {
   "codemirror_mode": {
    "name": "ipython",
    "version": 3
   },
   "file_extension": ".py",
   "mimetype": "text/x-python",
   "name": "python",
   "nbconvert_exporter": "python",
   "pygments_lexer": "ipython3",
   "version": "3.11.7"
  }
 },
 "nbformat": 4,
 "nbformat_minor": 5
}
