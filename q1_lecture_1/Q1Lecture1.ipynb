{
 "cells": [
  {
   "cell_type": "code",
   "execution_count": null,
   "id": "06ba37e9",
   "metadata": {},
   "outputs": [],
   "source": [
    "# Import statments. Import the libraries you will use in your script at the top of the file\n",
    "import math"
   ]
  },
  {
   "cell_type": "markdown",
   "id": "1ac73684",
   "metadata": {},
   "source": [
    "## Python basics\n",
    "This notebook contains code examples for writing basic scripts with python.\n",
    "Content:\n",
    "- Basic variables, data types, and variable assignment\n",
    "- Basic data types for collections\n",
    "- Logical operations and if-statements\n",
    "- for and while Loops\n",
    "- Functions\n",
    "- Basics of the numpy library for numerical and scientific computing"
   ]
  },
  {
   "cell_type": "markdown",
   "id": "11a354c8",
   "metadata": {},
   "source": [
    "### Basic variables, data types, and variable assignment"
   ]
  },
  {
   "cell_type": "code",
   "execution_count": null,
   "id": "c8d127b0",
   "metadata": {},
   "outputs": [],
   "source": [
    "# Python: Your new favorite calculator\n",
    "# The \"print\" statement tells python to write out the result of the term\n",
    "print(5*6.5 + 77/(2 - 2**2))\n"
   ]
  },
  {
   "cell_type": "code",
   "execution_count": null,
   "id": "b0d8e5da",
   "metadata": {},
   "outputs": [],
   "source": [
    "# I want to remember my result for later, so I store it in a \"variable\"\n",
    "a = 5*6.5 + 77/(2 - 2**2)\n",
    "\n",
    "# Then, I calculate b as two times a\n",
    "b = 2*a\n",
    "print(b)"
   ]
  },
  {
   "cell_type": "code",
   "execution_count": null,
   "id": "eed4f543",
   "metadata": {},
   "outputs": [],
   "source": [
    "# Note: The \"=\" notation is not an equality in the mathematical sense, but an \n",
    "# assignment of a value to a variable. This happens only once, not from here on out.\n",
    "# Therefore, this is possible:\n",
    "print(\"I want to calculate something else for a. a is now:\")\n",
    "a = a + 4\n",
    "print(a) # i.e., what previously was a + 4\n",
    "\n",
    "# Notice how the variable b is unchanged by manipulation of a, although we initially calculated it with a:\n",
    "print(\"Variable b remains unchanged after changing a. b is still:\")\n",
    "print(b)"
   ]
  },
  {
   "cell_type": "code",
   "execution_count": null,
   "id": "b2a98645",
   "metadata": {},
   "outputs": [],
   "source": [
    "# There are different data types in python. Each represents a different sort of data. \n",
    "# - :<dtype> notation is a so-called type hint to illustrate data types.\n",
    "# - The inbuilt type() functionality lets us access a variable's type.\n",
    "\n",
    "# 1. An integer value, positive or negative.\n",
    "my_integer: int = 1 \n",
    "print(type(my_integer))\n",
    "\n",
    "# 2. A floating point number, positive or negative. They are declared by a number containing a point (\".\").\n",
    "my_float: float = 3.\n",
    "print(type(my_float))\n",
    "\n",
    "# 3. A string, A sequence of characters. They are declared with single or double quotation marks.\n",
    "my_string: str = \"This is a string\"\n",
    "print(type(my_string))\n",
    "\n",
    "# 4. A boolean value, representing a truth value. They are represented by the keywords \"True\" and \"False\".\n",
    "my_boolean: bool = True\n",
    "print(type(my_boolean))"
   ]
  },
  {
   "cell_type": "markdown",
   "id": "fe05b9ca",
   "metadata": {},
   "source": [
    "### Data types for collections\n",
    "Python also has several inbuild data types for collections of values. Here are \n",
    "the most important ones:\n",
    "- Lists\n",
    "- Tuples\n",
    "- Dictionaries"
   ]
  },
  {
   "cell_type": "code",
   "execution_count": null,
   "id": "18a2eeb8",
   "metadata": {},
   "outputs": [],
   "source": [
    "# 1. Lists, denoted by square brackets. The entries can be any data type\n",
    "my_list: list = [1, \"hello\", 15.3]\n",
    "\n",
    "# - Lists are ordered and indexed, so you can retrieve values via an index\n",
    "print(my_list[1])\n",
    "\n",
    "# - Lists are changeable, so you can change, add, or remove entries\n",
    "# Change an entry\n",
    "my_list[1] = \"goodbye\"\n",
    "# Add an entry\n",
    "my_list.append(\"New entry\")\n",
    "print(my_list)\n",
    "\n",
    "# - Lists allow duplicate entries\n",
    "my_list.append(15.3)\n",
    "print(my_list)"
   ]
  },
  {
   "cell_type": "code",
   "execution_count": null,
   "id": "978516cd",
   "metadata": {},
   "outputs": [],
   "source": [
    "# 2. Tuples, denoted by round brackets. The entries can be any data type\n",
    "my_tuple: tuple = (1, \"hello\", 15.3)\n",
    "\n",
    "# - Lists are ordered and indexed, so you can retrieve values via an index\n",
    "print(my_tuple[1])\n",
    "\n",
    "# - Tuples are unchangeable, you cannot change, add, or remove entries\n",
    "# my_tuple[1] = \"goodbye\" # <- This will cause an error\n",
    "\n",
    "# - Tuples allow duplicate entries\n",
    "my_tuple = (1, \"hello\", 15.3, 15.3)\n",
    "print(my_tuple)"
   ]
  },
  {
   "cell_type": "code",
   "execution_count": null,
   "id": "c967de15",
   "metadata": {},
   "outputs": [],
   "source": [
    "# 2. Dictionaries, key-value pairs denoted by curly brackets, and key-value pairs are separated by a semicolon.\n",
    "my_dict: dict = {\"key\": \"value\", 1 : \"hello\"}\n",
    "\n",
    "# - You can retrieve dictionary values by means of a key\n",
    "print(my_dict[1])\n",
    "\n",
    "# - Dictionaries are changeable, you can change, add, or remove entries\n",
    "# Change an entry\n",
    "my_dict[1] = \"goodbye\"\n",
    "# Add an entry\n",
    "my_dict[2] = \"new value\" # <- New entry because 2 does not yet exist as a key\n",
    "print(my_dict)\n",
    "\n",
    "# - Dictionaries do not allow duplicate keys, but duplicate values are possible\n",
    "my_dict[1] = \"hello\" # <- Simply reassignes the value of key 1 back to hello\n",
    "my_dict[2] = \"hello\"\n",
    "print(my_dict)"
   ]
  },
  {
   "cell_type": "markdown",
   "id": "e0a27c00",
   "metadata": {},
   "source": [
    "### What if? Basic logical operations and conditions\n",
    "Boolean operations evaluate simple logics. They can be used to evaluate conditions."
   ]
  },
  {
   "cell_type": "code",
   "execution_count": null,
   "id": "c97b3ec4",
   "metadata": {},
   "outputs": [],
   "source": [
    "# Boolean operations are used to perform logical evaluations\n",
    "#   - == checks for equality\n",
    "is_equal = 1 == 2\n",
    "print(is_equal)\n",
    "\n",
    "#   - != checks for inqualty\n",
    "is_unequal = 1 != 2\n",
    "print(is_unequal)\n",
    "\n",
    "#   - \"and\" keyword is used for the logical and operation\n",
    "print(True and False)\n",
    "\n",
    "#   - \"or\" keyword is used for the logical or operation\n",
    "print(True or False)\n",
    "\n",
    "#   - ^ is used for the logical exclusive or operation\n",
    "print(True ^ False)\n",
    "\n"
   ]
  },
  {
   "cell_type": "code",
   "execution_count": null,
   "id": "5e79d9f4",
   "metadata": {},
   "outputs": [],
   "source": [
    "# An if statement is used to execute certain lines of code if a given condition holds:\n",
    "my_condition = False\n",
    "my_integer = 1\n",
    "\n",
    "if my_condition: # <- Pass in boolean variable directly\n",
    "    print(\"my_condition is False.\")\n",
    "\n",
    "elif my_integer == 1: # <- or perform a logical operation that returns a boolean\n",
    "    print(\"my_condition is False, and my_integer is 1.\")\n",
    "\n",
    "elif my_integer == 2: # <- elif: Check this condition if the if statement above is false (else if)\n",
    "    print(\"my_condition is False, my_integer is not 1, but my_integer is 2.\")\n",
    "\n",
    "else:  # <- else: If none of the conditions above holds, execute this\n",
    "    print(\"None of the conditions of the if and elif statements above hold.\")"
   ]
  },
  {
   "cell_type": "markdown",
   "id": "2d24ccfb",
   "metadata": {},
   "source": [
    "### Do that again! for and while loops\n",
    "There are two loop types, which reexecute code several times:\n",
    "- for-loops that reexecute a piece of code for every member of a collection (e.g. every entry of a list).\n",
    "- while-loops that reexecute a piece of code for as long as a condition holds."
   ]
  },
  {
   "cell_type": "code",
   "execution_count": null,
   "id": "787960d2",
   "metadata": {},
   "outputs": [],
   "source": [
    "# For loops execute code for each element of a collection, such as this list. This can be used to sum over the elements of a list, for example\n",
    "my_collection = [1, 2, 5, 7]\n",
    "sum = 0\n",
    "\n",
    "for element in my_collection:\n",
    "    # Print the current element value\n",
    "    print(f\"My current element is {element}\") # The so-called f-string lets you insert variable values into a string easily.\n",
    "\n",
    "    # Add the element to the sum\n",
    "    sum = sum + element\n",
    "\n",
    "#Print the final sum\n",
    "print(\"My final sum is:\")\n",
    "print(sum)"
   ]
  },
  {
   "cell_type": "code",
   "execution_count": null,
   "id": "815e3c80",
   "metadata": {},
   "outputs": [],
   "source": [
    "# While loops allow looping over a set of code as long as a condition is valid. \n",
    "# CAUTION: Make sure that the code inside the loop causes the condition to become False at some point, otherwise you cause an infinite loop and your program becomes stuck\n",
    "\n",
    "# Add 3 to the sum in each step, as long as the sum is less than 10\n",
    "sum = 0\n",
    "while sum < 10:\n",
    "    sum = sum + 2\n",
    "    print(f\"The current sum is {sum}\")\n",
    "    "
   ]
  },
  {
   "cell_type": "code",
   "execution_count": null,
   "id": "d4636dbe",
   "metadata": {},
   "outputs": [],
   "source": [
    "# The break keyword can be used to cancel the loop before the regular termination of the loop\n",
    "\n",
    "my_collection = [1, 2, 5, 7]\n",
    "sum = 0\n",
    "\n",
    "for element in my_collection:\n",
    "    # Print the current element value\n",
    "    print(f\"My current element is {element}\") \n",
    "\n",
    "    # Add the element to the sum\n",
    "    sum = sum + element\n",
    "\n",
    "    # If the sum is greater than 5, abort the loop:\n",
    "    if sum > 5:\n",
    "        print(\"The sum is greater than five, so we break the loop\")\n",
    "        break\n",
    "\n",
    "#Print the final sum. Compare this to the loop without the break statement\n",
    "print(\"My final sum is:\")\n",
    "print(sum)"
   ]
  },
  {
   "cell_type": "code",
   "execution_count": null,
   "id": "eac62da8",
   "metadata": {},
   "outputs": [],
   "source": [
    "# The continue keyword can be used to skip the remaining step in the iteration and return to the top of the loop\n",
    "# Note that the code in the loop that comes before the continue statement is still executed \n",
    "\n",
    "my_collection = [1, 2, 5, 7]\n",
    "sum = 0\n",
    "\n",
    "for element in my_collection:\n",
    "    # Print the current element value\n",
    "    print(f\"My current element is {element}\") \n",
    "\n",
    "    # If the element is 5, skip the loop:\n",
    "    if element == 5:\n",
    "        print(\"I dont like fives, so I'll skip this one\")\n",
    "        continue\n",
    "\n",
    "    # Add the element to the sum\n",
    "    sum = sum + element\n",
    "\n",
    "#Print the final sum. Compare this to the loop without the continue statement\n",
    "print(\"My final sum is:\")\n",
    "print(sum)"
   ]
  },
  {
   "cell_type": "markdown",
   "id": "72a83c75",
   "metadata": {},
   "source": [
    "### Don't copy-paste code. Write a function instead!\n",
    "Functions are the simplest way to reuse code in python. A simple function has:\n",
    "- A name\n",
    "- A set of parameters, or \"arguments\"\n",
    "- An output, or a \"return value\"\n",
    "\n"
   ]
  },
  {
   "cell_type": "code",
   "execution_count": null,
   "id": "a9e3b5aa",
   "metadata": {},
   "outputs": [],
   "source": [
    "# I am too lazy to rewrite the code for the pythagorean theorem every time I need it.\n",
    "# Additionally, I don't want to make mistakes while copying. So I write a function:\n",
    "#              Arguments              Return type\n",
    "#              ==================     =====\n",
    "def pythagoras(a: float, b: float) -> float:\n",
    "    \"\"\"This is where you usually write a short description of what your function \n",
    "    does, in the so-called docstring. The docstring is enclosed in triple \n",
    "    quotes, so you can write it in multiple lines.\n",
    "\n",
    "    Pythagorean theorem that calculates the length of the hypothenuse of a right\n",
    "    angled triangle when given the length of the triangle legs.\n",
    "\n",
    "    Parameters\n",
    "    ----------\n",
    "    a : float\n",
    "        The length of the first leg of the triangle.\n",
    "    b : float\n",
    "        The length of the second leg of the triangle.\n",
    "\n",
    "    Returns\n",
    "    -------\n",
    "    float\n",
    "        The calculated length of the hypothenuse.\n",
    "    \"\"\"\n",
    "    # Sum the squares of a and b\n",
    "    csquared = a**2 + b**2\n",
    "\n",
    "    # Take\n",
    "    c = math.sqrt(csquared)\n",
    "\n",
    "    # Return the final calculation result\n",
    "    return c\n",
    "    "
   ]
  },
  {
   "cell_type": "code",
   "execution_count": null,
   "id": "f4354154",
   "metadata": {},
   "outputs": [],
   "source": [
    "# Now I can call my pythagoras function as often as I want\n",
    "output1 = pythagoras(3, 4)\n",
    "print(output1)\n",
    "output2 = pythagoras(6, 8)\n",
    "print(output2)\n",
    "print(\"\")\n",
    "\n",
    "# Or maybe, with a loop?\n",
    "for a, b in [(3, 4), (6, 8), (5, 12)]:\n",
    "    c = pythagoras(a, b)\n",
    "    print(c)"
   ]
  },
  {
   "cell_type": "code",
   "execution_count": null,
   "id": "f64eeb46",
   "metadata": {},
   "outputs": [],
   "source": [
    "# For simpler, one line functions, I can define a lambda-function.\n",
    "# Beware: extensive use of lambda functions harms code readability, so use them sparingly\n",
    "easy_pythagoras = lambda a, b: math.sqrt(a**2 + b**2)\n",
    "\n",
    "# Do we get the same result?\n",
    "a = 3\n",
    "b = 4\n",
    "print(pythagoras(a, b) == easy_pythagoras(a, b))"
   ]
  },
  {
   "cell_type": "markdown",
   "id": "d4c5f82b",
   "metadata": {},
   "source": [
    "### Numpy basics\n",
    "Numpy is a library for scientific and numeric computing. \n",
    "Notably, it supports all sorts of vector and matrix operations through its \"array\" data type. It includes some fundamental mathematical functions, and many higher-level computing libraries like scipy and scikit-learn are built on it."
   ]
  },
  {
   "cell_type": "code",
   "execution_count": null,
   "id": "4a52e693",
   "metadata": {},
   "outputs": [],
   "source": [
    "# Numpy needs to be imported before use. With the \"as\" keyword, you can assign an alias to the package you import.\n",
    "# Because numpy is so extensively used, it is usually aliased as np.\n",
    "# Note that you should usually place your import statements at the top of your file and not somewhere in the middle like here.\n",
    "import numpy as np\n",
    "\n",
    "# The aray is the data class used by numpy to represent vectors, matrices, and tensors.\n",
    "# Create a simple vector with the entries 1, 2, and 4\n",
    "u = np.array([1, 2, 4])\n",
    "print(u)\n",
    "\n",
    "# Or, create a vector of 20 numbers ranging from 0 to 5, eavenly spaced\n",
    "v = np.linspace(0, 5, 21)\n",
    "print(v)"
   ]
  },
  {
   "cell_type": "code",
   "execution_count": null,
   "id": "0c3248a8",
   "metadata": {},
   "outputs": [],
   "source": [
    "# You can also create matrices with numpy. Here are some examples\n",
    "\n",
    "# Make a 2 by 2 matrix with custom entries\n",
    "A = np.array([[1., 2.], [3. ,4.]])\n",
    "print(A)\n",
    "print(\"\")\n",
    "\n",
    "# Or initialize it randomly with ndarray\n",
    "A = np.ndarray((2,2))\n",
    "print(A)\n",
    "print(\"\")\n",
    "\n",
    "# Make a 3 by 3 matrix consisting of zeros\n",
    "nul = np.zeros((3, 3))\n",
    "print(nul)\n",
    "print(\"\")\n",
    "\n",
    "# Or a diagonal matrix with the entries of vector u on the diagonal\n",
    "C = np.diag(u)\n",
    "print(C)"
   ]
  },
  {
   "cell_type": "code",
   "execution_count": null,
   "id": "38e1bc7f",
   "metadata": {},
   "outputs": [],
   "source": [
    "# Finally, here are some examples of using some inbuild mathematical functions of numpy\n",
    "\n",
    "# 1: Get the maximum entry of matrix A:\n",
    "max_value = np.max(A)\n",
    "print(max_value)\n",
    "\n",
    "# 2: Get the euclidean norm of vector u:\n",
    "euclidean_norm = np.linalg.norm(u, ord=2)\n",
    "print(euclidean_norm)\n",
    "\n",
    "# 3. Calculate the eigenvalues of C (Which correspond to the diagonal entries in a diagonal matrix):\n",
    "eigenvalues_C = np.linalg.eigvals(C)\n",
    "print(eigenvalues_C)"
   ]
  }
 ],
 "metadata": {
  "kernelspec": {
   "display_name": "Python 3",
   "language": "python",
   "name": "python3"
  },
  "language_info": {
   "codemirror_mode": {
    "name": "ipython",
    "version": 3
   },
   "file_extension": ".py",
   "mimetype": "text/x-python",
   "name": "python",
   "nbconvert_exporter": "python",
   "pygments_lexer": "ipython3",
   "version": "3.11.7"
  }
 },
 "nbformat": 4,
 "nbformat_minor": 5
}
