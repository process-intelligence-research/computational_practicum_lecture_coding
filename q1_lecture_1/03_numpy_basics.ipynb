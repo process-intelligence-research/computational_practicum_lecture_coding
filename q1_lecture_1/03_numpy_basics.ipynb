{
 "cells": [
  {
   "cell_type": "code",
   "execution_count": 1,
   "id": "17ec72a0",
   "metadata": {},
   "outputs": [],
   "source": [
    "# Numpy needs to be imported before use. With the \"as\" keyword, you can assign an alias to the package you import.\n",
    "# Because numpy is so extensively used, it is usually aliased as np.\n",
    "import numpy as np"
   ]
  },
  {
   "cell_type": "markdown",
   "id": "d4c5f82b",
   "metadata": {},
   "source": [
    "### Numpy basics\n",
    "Numpy is a library for scientific and numeric computing. \n",
    "Notably, it supports all sorts of vector and matrix operations through its \"array\" data type. It includes some fundamental mathematical functions, and many higher-level computing libraries like scipy and scikit-learn are built on it."
   ]
  },
  {
   "cell_type": "code",
   "execution_count": null,
   "id": "4a52e693",
   "metadata": {},
   "outputs": [],
   "source": [
    "# The aray is the data class used by numpy to represent vectors, matrices, and tensors.\n",
    "# Create a simple vector with the entries 1, 2, and 4\n",
    "u = np.array([1, 2, 4])\n",
    "print(u)\n",
    "\n",
    "# Or, create a vector of 20 numbers ranging from 0 to 5, eavenly spaced\n",
    "v = np.linspace(0, 5, 21)\n",
    "print(v)"
   ]
  },
  {
   "cell_type": "code",
   "execution_count": null,
   "id": "0c3248a8",
   "metadata": {},
   "outputs": [],
   "source": [
    "# You can also create matrices with numpy. Here are some examples\n",
    "\n",
    "# Make a 2 by 2 matrix with custom entries\n",
    "A = np.array([[1., 2.], [3. ,4.]])\n",
    "print(A)\n",
    "print(\"\")\n",
    "\n",
    "# Or initialize it randomly with ndarray\n",
    "A = np.ndarray((2,2))\n",
    "print(A)\n",
    "print(\"\")\n",
    "\n",
    "# Make a 3 by 3 matrix consisting of zeros\n",
    "nul = np.zeros((3, 3))\n",
    "print(nul)\n",
    "print(\"\")\n",
    "\n",
    "# Or a diagonal matrix with the entries of vector u on the diagonal\n",
    "C = np.diag(u)\n",
    "print(C)"
   ]
  },
  {
   "cell_type": "code",
   "execution_count": null,
   "id": "38e1bc7f",
   "metadata": {},
   "outputs": [],
   "source": [
    "# Finally, here are some examples of using some inbuild mathematical functions of numpy\n",
    "\n",
    "# 1: Get the maximum entry of matrix A:\n",
    "max_value = np.max(A)\n",
    "print(max_value)\n",
    "\n",
    "# 2: Get the euclidean norm of vector u:\n",
    "euclidean_norm = np.linalg.norm(u, ord=2)\n",
    "print(euclidean_norm)\n",
    "\n",
    "# 3. Calculate the eigenvalues of C (Which correspond to the diagonal entries in a diagonal matrix):\n",
    "eigenvalues_C = np.linalg.eigvals(C)\n",
    "print(eigenvalues_C)"
   ]
  }
 ],
 "metadata": {
  "kernelspec": {
   "display_name": "Python 3",
   "language": "python",
   "name": "python3"
  },
  "language_info": {
   "codemirror_mode": {
    "name": "ipython",
    "version": 3
   },
   "file_extension": ".py",
   "mimetype": "text/x-python",
   "name": "python",
   "nbconvert_exporter": "python",
   "pygments_lexer": "ipython3",
   "version": "3.11.7"
  }
 },
 "nbformat": 4,
 "nbformat_minor": 5
}
