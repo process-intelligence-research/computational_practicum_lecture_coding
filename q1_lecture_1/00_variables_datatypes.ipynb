{
 "cells": [
  {
   "cell_type": "markdown",
   "id": "11a354c8",
   "metadata": {},
   "source": [
    "### Basic variables, data types, and variable assignment"
   ]
  },
  {
   "cell_type": "code",
   "execution_count": null,
   "id": "c8d127b0",
   "metadata": {},
   "outputs": [],
   "source": [
    "# Python: Your new favorite calculator\n",
    "# The \"print\" statement tells python to write out the result of the term\n",
    "print(5*6.5 + 77/(2 - 2**2))\n"
   ]
  },
  {
   "cell_type": "code",
   "execution_count": null,
   "id": "b0d8e5da",
   "metadata": {},
   "outputs": [],
   "source": [
    "# I want to remember my result for later, so I store it in a \"variable\"\n",
    "a = 5*6.5 + 77/(2 - 2**2)\n",
    "\n",
    "# Then, I calculate b as two times a\n",
    "b = 2*a\n",
    "print(b)"
   ]
  },
  {
   "cell_type": "code",
   "execution_count": null,
   "id": "eed4f543",
   "metadata": {},
   "outputs": [],
   "source": [
    "# Note: The \"=\" notation is not an equality in the mathematical sense, but an \n",
    "# assignment of a value to a variable. This happens only once, not from here on out.\n",
    "# Therefore, this is possible:\n",
    "print(\"I want to calculate something else for a. a is now:\")\n",
    "a = a + 4\n",
    "print(a) # i.e., what previously was a + 4\n",
    "\n",
    "# Notice how the variable b is unchanged by manipulation of a, although we initially calculated it with a:\n",
    "print(\"Variable b remains unchanged after changing a. b is still:\")\n",
    "print(b)"
   ]
  },
  {
   "cell_type": "code",
   "execution_count": null,
   "id": "b2a98645",
   "metadata": {},
   "outputs": [],
   "source": [
    "# There are different data types in python. Each represents a different sort of data. \n",
    "# - :<dtype> notation is a so-called type hint to illustrate data types.\n",
    "# - The inbuilt type() functionality lets us access a variable's type.\n",
    "\n",
    "# 1. An integer value, positive or negative.\n",
    "my_integer: int = 1 \n",
    "print(type(my_integer))\n",
    "\n",
    "# 2. A floating point number, positive or negative. They are declared by a number containing a point (\".\").\n",
    "my_float: float = 3.\n",
    "print(type(my_float))\n",
    "\n",
    "# 3. A string, A sequence of characters. They are declared with single or double quotation marks.\n",
    "my_string: str = \"This is a string\"\n",
    "print(type(my_string))\n",
    "\n",
    "# 4. A boolean value, representing a truth value. They are represented by the keywords \"True\" and \"False\".\n",
    "my_boolean: bool = True\n",
    "print(type(my_boolean))"
   ]
  },
  {
   "cell_type": "markdown",
   "id": "fe05b9ca",
   "metadata": {},
   "source": [
    "### Data types for collections\n",
    "Python also has several inbuild data types for collections of values. Here are \n",
    "the most important ones:\n",
    "- Lists\n",
    "- Tuples\n",
    "- Dictionaries"
   ]
  },
  {
   "cell_type": "code",
   "execution_count": null,
   "id": "18a2eeb8",
   "metadata": {},
   "outputs": [],
   "source": [
    "# 1. Lists, denoted by square brackets. The entries can be any data type\n",
    "my_list: list = [1, \"hello\", 15.3]\n",
    "\n",
    "# - Lists are ordered and indexed, so you can retrieve values via an index\n",
    "print(my_list[1])\n",
    "\n",
    "# - Lists are changeable, so you can change, add, or remove entries\n",
    "# Change an entry\n",
    "my_list[1] = \"goodbye\"\n",
    "# Add an entry\n",
    "my_list.append(\"New entry\")\n",
    "print(my_list)\n",
    "\n",
    "# - Lists allow duplicate entries\n",
    "my_list.append(15.3)\n",
    "print(my_list)"
   ]
  },
  {
   "cell_type": "code",
   "execution_count": null,
   "id": "978516cd",
   "metadata": {},
   "outputs": [],
   "source": [
    "# 2. Tuples, denoted by round brackets. The entries can be any data type\n",
    "my_tuple: tuple = (1, \"hello\", 15.3)\n",
    "\n",
    "# - Lists are ordered and indexed, so you can retrieve values via an index\n",
    "print(my_tuple[1])\n",
    "\n",
    "# - Tuples are unchangeable, you cannot change, add, or remove entries\n",
    "# my_tuple[1] = \"goodbye\" # <- This will cause an error\n",
    "\n",
    "# - Tuples allow duplicate entries\n",
    "my_tuple = (1, \"hello\", 15.3, 15.3)\n",
    "print(my_tuple)"
   ]
  },
  {
   "cell_type": "code",
   "execution_count": null,
   "id": "c967de15",
   "metadata": {},
   "outputs": [],
   "source": [
    "# 2. Dictionaries, key-value pairs denoted by curly brackets, and key-value pairs are separated by a semicolon.\n",
    "my_dict: dict = {\"key\": \"value\", 1 : \"hello\"}\n",
    "\n",
    "# - You can retrieve dictionary values by means of a key\n",
    "print(my_dict[1])\n",
    "\n",
    "# - Dictionaries are changeable, you can change, add, or remove entries\n",
    "# Change an entry\n",
    "my_dict[1] = \"goodbye\"\n",
    "# Add an entry\n",
    "my_dict[2] = \"new value\" # <- New entry because 2 does not yet exist as a key\n",
    "print(my_dict)\n",
    "\n",
    "# - Dictionaries do not allow duplicate keys, but duplicate values are possible\n",
    "my_dict[1] = \"hello\" # <- Simply reassignes the value of key 1 back to hello\n",
    "my_dict[2] = \"hello\"\n",
    "print(my_dict)"
   ]
  }
 ],
 "metadata": {
  "kernelspec": {
   "display_name": "Python 3",
   "language": "python",
   "name": "python3"
  },
  "language_info": {
   "codemirror_mode": {
    "name": "ipython",
    "version": 3
   },
   "file_extension": ".py",
   "mimetype": "text/x-python",
   "name": "python",
   "nbconvert_exporter": "python",
   "pygments_lexer": "ipython3",
   "version": "3.11.7"
  }
 },
 "nbformat": 4,
 "nbformat_minor": 5
}
