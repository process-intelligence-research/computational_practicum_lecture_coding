{
 "cells": [
  {
   "cell_type": "markdown",
   "id": "11a354c8",
   "metadata": {},
   "source": [
    "### Basic variables, data types, and variable assignment. Using python to calculate van der Waals equation.\n",
    "Van der Waal's equation is given by:\n",
    "\n",
    "$ P = \\frac{RT}{V - b} - \\frac{a}{V^2} $\n",
    "\n",
    "where:\n",
    "\n",
    "- $ \\text{P} $: Pressure in $ \\text{bar} $\n",
    "- $ \\text{T} $: Temperature in $ \\text{K} $\n",
    "- $ \\text{V} $: Specific volume in $ \\frac{\\text{mol}}{\\text{L}} $\n",
    "- $ \\text{R} $: Universal gas constant = 0.08314 L·bar/(K·mol) $ \\frac{\\text{L} \\cdot \\text{bar}}{\\text{K} \\cdot \\text{mol}} $\n",
    "- $ \\text{a} $: van der Waals constant for attractive forces between molecules in  $ \\frac{\\text{bar} \\cdot \\text{mol}^2}{\\text{L}^2} $\n",
    "- $ \\text{b} $: van der Waals constant for the finite size of molecules in $ \\frac{\\text{mol}}{\\text{L}} $\n",
    "\n",
    "In the cell below, you can find a dictionary of van der Waals components. In this dictionary, the key is a string with the component name, and the value is a two-entry list with the parameters. The first entry is the parameter a in $ \\frac{\\text{bar} \\cdot \\text{mol}^2}{\\text{L}^2} $, the second entry is the parameter b in $ \\frac{\\text{mol}}{\\text{L}} $:\n",
    "\n",
    "Formulate the van der Waals equation in python, and plug and play with the temperature, volume, and component!"
   ]
  },
  {
   "cell_type": "code",
   "execution_count": null,
   "id": "e8340f8e",
   "metadata": {},
   "outputs": [],
   "source": [
    "vdw_parameters = {\n",
    "    \"water\"   : [5.536, 0.03049],\n",
    "    \"ethanol\" : [12.18, 0.08407],\n",
    "    \"hexane\"  : [24.71, 0.1735],\n",
    "    \"toluene\" : [24.38, 0.1463]\n",
    "}\n",
    "\n",
    "# Define the component of interest\n",
    "my_component = \"hexane\"\n",
    "\n",
    "# Retrieve the vdw paramters from the dictionary\n",
    "component_data = vdw_parameters[my_component]\n",
    "a = component_data[0]   # vdW parameter a\n",
    "b = component_data[1]   # vdW parameter b\n",
    "\n",
    "# Further variable definitions\n",
    "R = 0.08314 # Univ. gas constant\n",
    "V = 9       # Spec. volume\n",
    "T = 440     # Temperature \n",
    "\n",
    "# Calculate pressure with vdW equation in bar\n",
    "p = R*T/(V-b) - a/V**2\n",
    "print(f\"The pressure of {my_component} with a specific volume of {V} l/mol at \"\n",
    "      f\"a temperature of {T} K is {p} bar\")\n",
    "\n"
   ]
  }
 ],
 "metadata": {
  "kernelspec": {
   "display_name": "Python 3",
   "language": "python",
   "name": "python3"
  },
  "language_info": {
   "codemirror_mode": {
    "name": "ipython",
    "version": 3
   },
   "file_extension": ".py",
   "mimetype": "text/x-python",
   "name": "python",
   "nbconvert_exporter": "python",
   "pygments_lexer": "ipython3",
   "version": "3.11.7"
  }
 },
 "nbformat": 4,
 "nbformat_minor": 5
}
