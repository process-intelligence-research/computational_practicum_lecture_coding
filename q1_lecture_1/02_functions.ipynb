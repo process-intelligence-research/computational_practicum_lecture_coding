{
 "cells": [
  {
   "cell_type": "markdown",
   "id": "82947d15",
   "metadata": {},
   "source": [
    "### Functions. Write a function to calculate van der Waal's equation: \n",
    "Van der Waal's equation is given by:\n",
    "\n",
    "$ p = \\frac{RT}{V - b} - \\frac{a}{V^2} $\n",
    "\n",
    "where:\n",
    "\n",
    "- $ \\text{p} $: Pressure in $ \\text{bar} $\n",
    "- $ \\text{T} $: Temperature in $ \\text{K} $\n",
    "- $ \\text{V} $: Specific volume in $ \\frac{\\text{mol}}{\\text{L}} $\n",
    "- $ \\text{R} $: Universal gas constant = 0.08314 L·bar/(K·mol) $ \\frac{\\text{L} \\cdot \\text{bar}}{\\text{K} \\cdot \\text{mol}} $\n",
    "- $ \\text{a} $: van der Waals constant for attractive forces between molecules in  $ \\frac{\\text{bar} \\cdot \\text{mol}^2}{\\text{L}^2} $\n",
    "- $ \\text{b} $: van der Waals constant for the finite size of molecules in $ \\frac{\\text{mol}}{\\text{L}} $\n",
    "\n",
    "In the cell below, you can find a dictionary of van der Waals components. In this dictionary, the key is a string with the component name, and the value is a two-entry list with the parameters. The first entry is the parameter a in $ \\frac{\\text{bar} \\cdot \\text{mol}^2}{\\text{L}^2} $, the second entry is the parameter b in $ \\frac{\\text{mol}}{\\text{L}} $:\n",
    "\n",
    "Our pressure vessel with 9l volume is meant to store 1 mol of gaseous water, ethanol, hexane or toluene at several different temperatures. We want to write a function that calculates the vessel pressure with van der Waals equation when given a temperature and the name of the component contained. We want to print a warning if the threshold of 6 bar is exceeded. If not, we want to print a message if 5 bar is exceeded."
   ]
  },
  {
   "cell_type": "code",
   "execution_count": null,
   "id": "bf330e2c",
   "metadata": {},
   "outputs": [],
   "source": [
    "# Dictionary of van der Waals parameters\n",
    "vdw_parameters = {\n",
    "    \"water\": [5.536, 0.03049],\n",
    "    \"ethanol\": [12.18, 0.08407],\n",
    "    \"hexane\": [24.71, 0.1735],\n",
    "    \"toluene\": [24.38, 0.1463]\n",
    "}\n",
    "\n",
    "# Universal gas constant in bar·L/(mol·K)\n",
    "R = 0.08314\n",
    "# Specific volume in L/mol\n",
    "V = 9\n",
    "# Pressure thresholds in bar\n",
    "pressure_threshold = 6\n",
    "warning_threshold = 5\n",
    "\n",
    "def calculate_pressure(component: str, T: float) -> float:\n",
    "    \"\"\"\n",
    "    Calculate the vessel pressure using van der Waals equation.\n",
    "\n",
    "    Parameters:\n",
    "    component (str): The name of the component (e.g., \"water\", \"ethanol\").\n",
    "    T (float): The temperature in K.\n",
    "\n",
    "    Returns:\n",
    "    p (float): The calculated pressure\n",
    "    \"\"\"\n",
    "    # Retrieve the van der Waals parameters from the dictionary\n",
    "    if component in vdw_parameters:\n",
    "        a, b = vdw_parameters[component]\n",
    "    else:\n",
    "        print(f\"Component {component} is not in the van der Waals parameters dictionary.\")\n",
    "        return None\n",
    "    \n",
    "    # Calculate pressure with van der Waals equation in bar\n",
    "    p = R * T / (V - b) - a / V**2\n",
    "    \n",
    "    # Check if the pressure exceeds the threshold\n",
    "    if p > pressure_threshold:\n",
    "        print(f\"Warning: The pressure of {component} exceeds the threshold of {pressure_threshold} bar.\")\n",
    "    elif p > warning_threshold:\n",
    "        print(f\"Note: The pressure of {component} exceeds the warning threshold of {warning_threshold} bar.\")\n",
    "\n",
    "    # Return the pressure as output\n",
    "    return p\n"
   ]
  },
  {
   "cell_type": "markdown",
   "id": "9a5890f0",
   "metadata": {},
   "source": [
    "Now, plug and play the components and the temperature!"
   ]
  },
  {
   "cell_type": "code",
   "execution_count": null,
   "id": "a8986c55",
   "metadata": {},
   "outputs": [],
   "source": [
    "temperature = 500\n",
    "component = \"water\"\n",
    "\n",
    "pressure = calculate_pressure(\"water\", temperature)\n",
    "print(f\"The calculated pressure of the {component} in our vessel is {pressure} bar.\")"
   ]
  }
 ],
 "metadata": {
  "kernelspec": {
   "display_name": "Python 3",
   "language": "python",
   "name": "python3"
  },
  "language_info": {
   "codemirror_mode": {
    "name": "ipython",
    "version": 3
   },
   "file_extension": ".py",
   "mimetype": "text/x-python",
   "name": "python",
   "nbconvert_exporter": "python",
   "pygments_lexer": "ipython3",
   "version": "3.11.7"
  }
 },
 "nbformat": 4,
 "nbformat_minor": 5
}
