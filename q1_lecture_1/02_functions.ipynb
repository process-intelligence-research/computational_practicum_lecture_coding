{
 "cells": [
  {
   "cell_type": "code",
   "execution_count": null,
   "id": "06ba37e9",
   "metadata": {},
   "outputs": [],
   "source": [
    "# Import statments. Import the libraries you will use in your script at the top of the file\n",
    "import math"
   ]
  },
  {
   "cell_type": "markdown",
   "id": "72a83c75",
   "metadata": {},
   "source": [
    "### Don't copy-paste code. Write a function instead!\n",
    "Functions are the simplest way to reuse code in python. A simple function has:\n",
    "- A name\n",
    "- A set of parameters, or \"arguments\"\n",
    "- An output, or a \"return value\"\n",
    "\n"
   ]
  },
  {
   "cell_type": "code",
   "execution_count": null,
   "id": "a9e3b5aa",
   "metadata": {},
   "outputs": [],
   "source": [
    "# I am too lazy to rewrite the code for the pythagorean theorem every time I need it.\n",
    "# Additionally, I don't want to make mistakes while copying. So I write a function:\n",
    "#              Arguments              Return type\n",
    "#              ==================     =====\n",
    "def pythagoras(a: float, b: float) -> float:\n",
    "    \"\"\"This is where you usually write a short description of what your function \n",
    "    does, in the so-called docstring. The docstring is enclosed in triple \n",
    "    quotes, so you can write it in multiple lines.\n",
    "\n",
    "    Pythagorean theorem that calculates the length of the hypothenuse of a right\n",
    "    angled triangle when given the length of the triangle legs.\n",
    "\n",
    "    Parameters\n",
    "    ----------\n",
    "    a : float\n",
    "        The length of the first leg of the triangle.\n",
    "    b : float\n",
    "        The length of the second leg of the triangle.\n",
    "\n",
    "    Returns\n",
    "    -------\n",
    "    float\n",
    "        The calculated length of the hypothenuse.\n",
    "    \"\"\"\n",
    "    # Sum the squares of a and b\n",
    "    csquared = a**2 + b**2\n",
    "\n",
    "    # Take\n",
    "    c = math.sqrt(csquared)\n",
    "\n",
    "    # Return the final calculation result\n",
    "    return c\n",
    "    "
   ]
  },
  {
   "cell_type": "code",
   "execution_count": null,
   "id": "f4354154",
   "metadata": {},
   "outputs": [],
   "source": [
    "# Now I can call my pythagoras function as often as I want\n",
    "output1 = pythagoras(3, 4)\n",
    "print(output1)\n",
    "output2 = pythagoras(6, 8)\n",
    "print(output2)\n",
    "print(\"\")\n",
    "\n",
    "# Or maybe, with a loop?\n",
    "for a, b in [(3, 4), (6, 8), (5, 12)]:\n",
    "    c = pythagoras(a, b)\n",
    "    print(c)"
   ]
  },
  {
   "cell_type": "code",
   "execution_count": null,
   "id": "f64eeb46",
   "metadata": {},
   "outputs": [],
   "source": [
    "# For simpler, one line functions, I can define a lambda-function.\n",
    "# Beware: extensive use of lambda functions harms code readability, so use them sparingly\n",
    "easy_pythagoras = lambda a, b: math.sqrt(a**2 + b**2)\n",
    "\n",
    "# Do we get the same result?\n",
    "a = 3\n",
    "b = 4\n",
    "print(pythagoras(a, b) == easy_pythagoras(a, b))"
   ]
  }
 ],
 "metadata": {
  "kernelspec": {
   "display_name": "Python 3",
   "language": "python",
   "name": "python3"
  },
  "language_info": {
   "codemirror_mode": {
    "name": "ipython",
    "version": 3
   },
   "file_extension": ".py",
   "mimetype": "text/x-python",
   "name": "python",
   "nbconvert_exporter": "python",
   "pygments_lexer": "ipython3",
   "version": "3.11.7"
  }
 },
 "nbformat": 4,
 "nbformat_minor": 5
}
