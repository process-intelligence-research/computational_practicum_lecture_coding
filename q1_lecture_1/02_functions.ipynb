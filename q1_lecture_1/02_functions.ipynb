{
 "cells": [
  {
   "cell_type": "markdown",
   "id": "82947d15",
   "metadata": {},
   "source": [
    "### Functions. Write a function to calculate van der Waal's equation: \n",
    "Van der Waal's equation is given by:\n",
    "\n",
    "$ p = \\frac{RT}{V - b} - \\frac{a}{V^2} $\n",
    "\n",
    "where:\n",
    "\n",
    "- $ \\text{p} $: Pressure in $ \\text{bar} $\n",
    "- $ \\text{T} $: Temperature in $ \\text{K} $\n",
    "- $ \\text{V} $: Specific volume in $ \\frac{\\text{mol}}{\\text{L}} $\n",
    "- $ \\text{R} $: Universal gas constant = 0.08314 L·bar/(K·mol) $ \\frac{\\text{L} \\cdot \\text{bar}}{\\text{K} \\cdot \\text{mol}} $\n",
    "- $ \\text{a} $: van der Waals constant for attractive forces between molecules in  $ \\frac{\\text{bar} \\cdot \\text{mol}^2}{\\text{L}^2} $\n",
    "- $ \\text{b} $: van der Waals constant for the finite size of molecules in $ \\frac{\\text{mol}}{\\text{L}} $\n",
    "\n",
    "In the cell below, you can find a dictionary of van der Waals components. In this dictionary, the key is a string with the component name, and the value is a two-entry list with the parameters. The first entry is the parameter a in $ \\frac{\\text{bar} \\cdot \\text{mol}^2}{\\text{L}^2} $, the second entry is the parameter b in $ \\frac{\\text{mol}}{\\text{L}} $.\n",
    "\n",
    "### Task\n",
    "\n",
    "A pressure vessel with 9l volume is meant to store 1 mol of gaseous water, ethanol, hexane or toluene at several different temperatures.\n",
    "- Write a function that calculates the vessel pressure with van der Waals equation when given a temperature, volume, and the van der Waals parameters. Return the calculated pressure\n",
    "- All the parameters, so temperature, pressure, and van der Waals parameters need to be positive for the calculation to be valid. Include an if statement to check if this is the case. If so, print a warning and return `None`."
   ]
  },
  {
   "cell_type": "code",
   "execution_count": null,
   "id": "bf330e2c",
   "metadata": {},
   "outputs": [],
   "source": [
    "# Define the function calculate_pressure\n",
    "def calculate_pressure(a: float, b: float, T: float, V: float) -> float:\n",
    "    \"\"\"\n",
    "    Calculate the vessel pressure using van der Waals equation.\n",
    "\n",
    "    PParameters:\n",
    "    a (float): The Van der Waals constant related to the attraction between molecules (units: L^2·bar/mol^2).\n",
    "    b (float): The Van der Waals constant related to the volume occupied by the gas molecules (units: L/mol).\n",
    "    T (float): The temperature of the gas (units: Kelvin).\n",
    "    V (float): The molar volume of the gas (units: L/mol).\n",
    "\n",
    "    Returns:\n",
    "    float: The calculated pressure of the gas (units: bar). Returns None if any input parameters are negative.\n",
    "    \"\"\"\n",
    "    if a < 0 or b < 0 or T < 0 or V < 0:\n",
    "        print(\"Warning: A parameter is negative.\")\n",
    "        return None\n",
    "    else:\n",
    "        # Universal gas constant in bar·L/(mol·K)\n",
    "        R = 0.08314\n",
    "        # Calculate pressure with van der Waals equation in bar\n",
    "        p = R * T / (V - b) - a / V**2\n",
    "\n",
    "        # Return the pressure as output\n",
    "        return p\n"
   ]
  },
  {
   "cell_type": "markdown",
   "id": "9a5890f0",
   "metadata": {},
   "source": [
    "Now, plug and play the components and the temperature!"
   ]
  },
  {
   "cell_type": "code",
   "execution_count": null,
   "id": "a8986c55",
   "metadata": {},
   "outputs": [],
   "source": [
    "# Dictionary of some van der Waals parameters\n",
    "vdw_parameters = {\n",
    "    \"water\": [5.536, 0.03049],\n",
    "    \"ethanol\": [12.18, 0.08407],\n",
    "    \"hexane\": [24.71, 0.1735],\n",
    "    \"toluene\": [24.38, 0.1463]\n",
    "}\n",
    "\n",
    "# Define parameters\n",
    "temperature = 500\n",
    "volume = 9\n",
    "component = \"water\"\n",
    "# Unpack vdw parameters\n",
    "a, b = vdw_parameters[component]\n",
    "\n",
    "pressure = calculate_pressure(a, b, temperature, volume)\n",
    "print(f\"The calculated pressure in our vessel is {pressure} bar.\")"
   ]
  }
 ],
 "metadata": {
  "kernelspec": {
   "display_name": "Python 3",
   "language": "python",
   "name": "python3"
  },
  "language_info": {
   "codemirror_mode": {
    "name": "ipython",
    "version": 3
   },
   "file_extension": ".py",
   "mimetype": "text/x-python",
   "name": "python",
   "nbconvert_exporter": "python",
   "pygments_lexer": "ipython3",
   "version": "3.11.7"
  }
 },
 "nbformat": 4,
 "nbformat_minor": 5
}
