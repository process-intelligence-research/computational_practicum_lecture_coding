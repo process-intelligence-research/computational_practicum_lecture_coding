{
 "cells": [
  {
   "cell_type": "code",
   "execution_count": null,
   "id": "38e1bc7f",
   "metadata": {},
   "outputs": [],
   "source": [
    "import numpy as np\n",
    "import matplotlib. pyplot as plt"
   ]
  },
  {
   "cell_type": "markdown",
   "id": "8afb84a0",
   "metadata": {},
   "source": [
    "### Numpy basics and basic plotting: Plotting van der Waal's equation: \n",
    "Van der Waal's equation is given by:\n",
    "\n",
    "$ p = \\frac{RT}{V - b} - \\frac{a}{V^2} $\n",
    "\n",
    "where:\n",
    "\n",
    "- $ \\text{p} $: Pressure in $ \\text{bar} $\n",
    "- $ \\text{T} $: Temperature in $ \\text{K} $\n",
    "- $ \\text{V} $: Specific volume in $ \\frac{\\text{mol}}{\\text{L}} $\n",
    "- $ \\text{R} $: Universal gas constant = 0.08314 L·bar/(K·mol) $ \\frac{\\text{L} \\cdot \\text{bar}}{\\text{K} \\cdot \\text{mol}} $\n",
    "- $ \\text{a} $: van der Waals constant for attractive forces between molecules in  $ \\frac{\\text{bar} \\cdot \\text{mol}^2}{\\text{L}^2} $\n",
    "- $ \\text{b} $: van der Waals constant for the finite size of molecules in $ \\frac{\\text{mol}}{\\text{L}} $\n",
    "\n",
    "In the cell below, you can find a dictionary of van der Waals components. In this dictionary, the key is a string with the component name, and the value is a two-entry list with the parameters. The first entry is the parameter a in $ \\frac{\\text{bar} \\cdot \\text{mol}^2}{\\text{L}^2} $, the second entry is the parameter b in $ \\frac{\\text{mol}}{\\text{L}} $.\n",
    "\n",
    "For a given temperature, plot the pressure against the molar volume. Use numpy linspace to create a range of molar volumes, calculate the corresponding pressures, and plot them with matplotlib. Then, feel free to plug and play with the components and the temperatures (isotherms)! Do the plots look correct?"
   ]
  },
  {
   "cell_type": "code",
   "execution_count": null,
   "id": "7305d12f",
   "metadata": {},
   "outputs": [],
   "source": [
    "vdw_parameters = {\n",
    "    \"water\": [5.536, 0.03049],\n",
    "    \"ethanol\": [12.18, 0.08407],\n",
    "    \"hexane\": [24.71, 0.1735],\n",
    "    \"toluene\": [24.38, 0.1463]\n",
    "}\n",
    "\n",
    "# Gas constant\n",
    "R = 0.08314  # L·bar/(K·mol)\n",
    "\n",
    "# Parameters\n",
    "T = 500  # Temperature in K\n",
    "component = \"water\"\n",
    "a, b = vdw_parameters[component]\n",
    "\n",
    "# Range of molar volumes in L/mol. \n",
    "# Start the plot for V>1.3*b the b parameter to avoid the singularity\n",
    "V = np.linspace(1.3*b, 2, 400)  \n",
    "\n",
    "# Plotting\n",
    "plt.figure(figsize=(10, 6))\n",
    "\n",
    "# Calculate vdW\n",
    "a, b = vdw_parameters[component]\n",
    "P = (R * T) / (V - b) - a / V**2\n",
    "\n",
    "plt.plot(V, P, label=component)\n",
    "\n",
    "# Add plot labels and legend\n",
    "plt.xlabel('Molar Volume (L/mol)')\n",
    "plt.ylabel('Pressure (bar)')\n",
    "plt.title(f'Van der Waals Pressure vs Molar Volume at T = {T} K')\n",
    "plt.legend()\n",
    "plt.grid(True)\n",
    "plt.show()"
   ]
  },
  {
   "cell_type": "markdown",
   "id": "c414b22c",
   "metadata": {},
   "source": [
    "It helps to make multiple plots to get a better insight into the investigated phenomenon. In the cells below is code to\n",
    "- Plot several component isotherms in one plot.\n",
    "- Plot several isotherms of a component in one plot.\n"
   ]
  },
  {
   "cell_type": "code",
   "execution_count": null,
   "id": "786eefd1",
   "metadata": {},
   "outputs": [],
   "source": [
    "# Parameters\n",
    "T = 450  # Temperature in K\n",
    "\n",
    "# Range of molar volumes in L/mol\n",
    "V = np.linspace(0.01, 2, 400)\n",
    "\n",
    "# Plotting\n",
    "plt.figure(figsize=(10, 6))\n",
    "\n",
    "components = [\"ethanol\", \"hexane\", \"toluene\"]\n",
    "\n",
    "for component in components:\n",
    "    a, b = vdw_parameters[component]\n",
    "    # Filter out volumes that are less than 1.3 * b to avoid singularity\n",
    "    V_filtered = V[V >= 1.3 * b]\n",
    "    P = (R * T) / (V_filtered - b) - a / V_filtered**2\n",
    "    plt.plot(V_filtered, P, label=component)\n",
    "\n",
    "plt.xlabel('Molar Volume (L/mol)')\n",
    "plt.ylabel('Pressure (bar)')\n",
    "plt.title(f'Van der Waals Pressure vs Molar Volume at T = {T} K')\n",
    "plt.legend()\n",
    "plt.grid(True)\n",
    "plt.show()"
   ]
  },
  {
   "cell_type": "code",
   "execution_count": null,
   "id": "8df9bae4",
   "metadata": {},
   "outputs": [],
   "source": [
    "component = \"ethanol\"\n",
    "a, b = vdw_parameters[component]\n",
    "\n",
    "# Range of molar volumes in L/mol\n",
    "# Start plotting over the b parameter to avoid the singularity\n",
    "V = np.linspace(1.3 * b, 2, 400)\n",
    "\n",
    "# Temperatures\n",
    "temperatures = [350, 500, 650]\n",
    "\n",
    "# Plotting\n",
    "plt.figure(figsize=(10, 6))\n",
    "\n",
    "for T in temperatures:\n",
    "    # Filter out volumes that are less than 1.3 * b\n",
    "    P = (R * T) / (V - b) - a / V**2\n",
    "    plt.plot(V, P, label=f'T = {T} K')\n",
    "\n",
    "plt.xlabel('Molar Volume (L/mol)')\n",
    "plt.ylabel('Pressure (bar)')\n",
    "plt.title('Van der Waals Pressure vs Molar Volume for Ethanol')\n",
    "plt.legend()\n",
    "plt.grid(True)\n",
    "plt.show()"
   ]
  }
 ],
 "metadata": {
  "kernelspec": {
   "display_name": "Python 3",
   "language": "python",
   "name": "python3"
  },
  "language_info": {
   "codemirror_mode": {
    "name": "ipython",
    "version": 3
   },
   "file_extension": ".py",
   "mimetype": "text/x-python",
   "name": "python",
   "nbconvert_exporter": "python",
   "pygments_lexer": "ipython3",
   "version": "3.11.7"
  }
 },
 "nbformat": 4,
 "nbformat_minor": 5
}
