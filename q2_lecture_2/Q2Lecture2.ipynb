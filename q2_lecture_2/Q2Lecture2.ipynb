{
 "cells": [
  {
   "cell_type": "markdown",
   "id": "d5b085f1",
   "metadata": {},
   "source": [
    "## Parabolic PDE: 1D Unsteady Heat equation with Forward Euler (Explicit method)"
   ]
  },
  {
   "cell_type": "markdown",
   "id": "b77664b7",
   "metadata": {},
   "source": [
    "We solve the unsteady heat equation presented in Lecture 2 of Q2. We consider heat transfer across the wall of a steel tube."
   ]
  },
  {
   "cell_type": "code",
   "execution_count": 1,
   "id": "94fcd6c2",
   "metadata": {},
   "outputs": [],
   "source": [
    "import numpy as np\n",
    "import matplotlib.pyplot as plt\n",
    "import matplotlib.animation as animation"
   ]
  },
  {
   "cell_type": "code",
   "execution_count": 2,
   "id": "2f494eef",
   "metadata": {},
   "outputs": [],
   "source": [
    "# Physical parameters\n",
    "L = 0.01  # Tickness of the wall (1 cm)\n",
    "Nx = 51   # Number of spatial points\n",
    "dx = L / (Nx - 1)  # Spatial step size\n",
    "x = np.linspace(0, L, Nx)\n",
    "\n",
    "T_process = 500  # Temperature at x=0 (degrees Celsius)\n",
    "T_cooling = 200  # Temperature at x=L (degrees Celsius)\n",
    "\n",
    "# Thermal properties of steel\n",
    "rho = 8050      # Density (kg/m^3)\n",
    "Cp = 490        # Specific heat capacity (J/kg·K)\n",
    "k = 43          # Thermal conductivity (W/m·K)\n",
    "alpha = k / (rho * Cp)  # Thermal diffusivity (m^2/s)\n",
    "\n",
    "# Time parameters\n",
    "t_max = 3       # Total simulation time (seconds)\n",
    "dt = 0.0001     # Time step size (seconds)\n",
    "Nt = int(t_max / dt)  # Number of time steps\n",
    "t = np.linspace(0, t_max, Nt)\n",
    "\n",
    "# Stability criterion for explicit scheme\n",
    "Fo = alpha * dt / dx**2\n",
    "if Fo > 0.5:\n",
    "    print(\"Warning: CFL condition not satisfied. The scheme may be unstable. Consider reducing dt or increasing dx.\")\n",
    "\n",
    "# Initial temperature distribution\n",
    "temperature = np.ones(Nx) * T_cooling  # Initialize with coolant temperature\n",
    "temperature[0] = T_process  # Boundary condition at x=0\n",
    "\n",
    "# Array to record temperature profiles at each time step\n",
    "T_record = []\n",
    "\n",
    "# Time-stepping loop using Forward Euler method\n",
    "for n in range(Nt):\n",
    "    Tn = temperature.copy()\n",
    "    # Compute the temperature at interior points\n",
    "    temperature[1:Nx-1] = Tn[1:Nx-1] + Fo * (Tn[2:Nx] - 2 * Tn[1:Nx-1] + Tn[0:Nx-2])\n",
    "    # Reapply boundary conditions\n",
    "    temperature[0] = T_process\n",
    "    temperature[-1] = T_cooling\n",
    "    # Record temperature every 100 time steps\n",
    "    if n % 100 == 0:\n",
    "        T_record.append(temperature.copy())"
   ]
  },
  {
   "cell_type": "code",
   "execution_count": null,
   "id": "78dc6ae6",
   "metadata": {},
   "outputs": [],
   "source": [
    "# Convert recorded temperatures to a NumPy array\n",
    "T_record = np.array(T_record)\n",
    "time_steps = np.linspace(0, t_max, len(T_record))\n",
    "\n",
    "# Surface plot of temperature evolution\n",
    "X, Y = np.meshgrid(x, time_steps)\n",
    "fig = plt.figure(figsize=(15, 6))\n",
    "ax = fig.add_subplot(111, projection='3d')\n",
    "surf = ax.plot_surface(X, Y, T_record, cmap='viridis')\n",
    "ax.set_xlabel('Position (m)')\n",
    "ax.set_ylabel('Time (s)')\n",
    "ax.set_zlabel('Temperature (°C)')\n",
    "ax.set_title('Temperature Evolution in the Wall Over Time')\n",
    "plt.show()"
   ]
  },
  {
   "cell_type": "code",
   "execution_count": 4,
   "id": "0f8425cf",
   "metadata": {},
   "outputs": [],
   "source": [
    "# Animated plot of temperature profile over time\n",
    "fig, ax = plt.subplots(figsize=(8, 5))\n",
    "line, = ax.plot(x, T_record[0], color='r')\n",
    "ax.set_xlim(0, L)\n",
    "ax.set_ylim(T_cooling - 10, T_process + 10)\n",
    "ax.set_xlabel('Position (m)')\n",
    "ax.set_ylabel('Temperature (°C)')\n",
    "ax.set_title('Temperature Profile Evolution')\n",
    "plt.close()\n",
    "\n",
    "# Create and save GIF showing the evolution of the temperature profile\n",
    "def animate(i):\n",
    "    line.set_ydata(T_record[i])\n",
    "    ax.set_title(f'Temperature Profile at t = {time_steps[i]:.2f} s')\n",
    "    return line,\n",
    "\n",
    "ani = animation.FuncAnimation(fig, animate, frames=len(T_record), interval=50, blit=True)\n",
    "\n",
    "# Save the animation as a GIF\n",
    "ani.save('temperature_evolution.gif', writer='pillow', fps=20)"
   ]
  }
 ],
 "metadata": {
  "kernelspec": {
   "display_name": "Python 3",
   "language": "python",
   "name": "python3"
  },
  "language_info": {
   "codemirror_mode": {
    "name": "ipython",
    "version": 3
   },
   "file_extension": ".py",
   "mimetype": "text/x-python",
   "name": "python",
   "nbconvert_exporter": "python",
   "pygments_lexer": "ipython3",
   "version": "3.11.4"
  }
 },
 "nbformat": 4,
 "nbformat_minor": 5
}
