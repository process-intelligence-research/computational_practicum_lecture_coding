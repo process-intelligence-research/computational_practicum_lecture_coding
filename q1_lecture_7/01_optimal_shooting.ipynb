{
 "cells": [
  {
   "cell_type": "code",
   "execution_count": 6,
   "metadata": {},
   "outputs": [],
   "source": [
    "import scipy.integrate\n",
    "import numpy as np\n",
    "import matplotlib.pyplot as plt"
   ]
  },
  {
   "cell_type": "markdown",
   "metadata": {},
   "source": [
    "# Update shooting guess: Algorithmic approach"
   ]
  },
  {
   "cell_type": "markdown",
   "metadata": {},
   "source": [
    "We model an arbritary system on the domain $x\\in [0,1]$.\n",
    "\n",
    "\n",
    "$\\frac{d^2y}{dx^2}=4(y-x)$\n",
    "\n",
    "The following boundary conditions are given.\n",
    "\n",
    "$y(0)=0,\\;y(1)=2$\n",
    "\n",
    "To solve the BVP with the shooting method we convert the ODE (2nd order) to the canonical form (1st order) using variable substitution.\n",
    "\n",
    "$y_1\\equiv y,\\;y_2\\equiv \\frac{dy}{dx}$\n",
    "\n",
    "The resulting ODE system:\n",
    "\n",
    "$\\frac{dy_1}{dx}=y_2$\n",
    "\n",
    "$\\frac{dy_2}{dx}=4(y_1-x)$\n",
    "\n",
    "The new boundary conditions:\n",
    "\n",
    "$y_1(0)=0,\\;y_1(1)=2$"
   ]
  },
  {
   "cell_type": "markdown",
   "metadata": {},
   "source": [
    "Define canonical ODE system."
   ]
  },
  {
   "cell_type": "code",
   "execution_count": 7,
   "metadata": {},
   "outputs": [],
   "source": [
    "def dy(x: np.ndarray, y: np.ndarray) -> np.ndarray:\n",
    "    \"\"\"Examplary ordinary differential equation.\n",
    "\n",
    "    Parameters\n",
    "    ----------\n",
    "    x : np.ndarray\n",
    "        Independent variable\n",
    "    y : np.ndarray\n",
    "        Dependent variables\n",
    "\n",
    "    Returns\n",
    "    -------\n",
    "    np.ndarray\n",
    "        First order derivative of dependent variables\n",
    "    \"\"\"\n",
    "    y1, y2 = y\n",
    "    dy1dx = y2\n",
    "    dy2dx = 4*(y1-x)\n",
    "    return np.array([dy1dx, dy2dx])"
   ]
  },
  {
   "cell_type": "markdown",
   "metadata": {},
   "source": [
    "Define parameters."
   ]
  },
  {
   "cell_type": "code",
   "execution_count": 8,
   "metadata": {},
   "outputs": [],
   "source": [
    "# domain\n",
    "x = np.linspace(0, 1, 101)\n",
    "\n",
    "# known boundary conditions\n",
    "y1_0 = 0\n",
    "y1_f = 2\n",
    "\n",
    "# guess initial condition, [gamma0, gamma1]\n",
    "guess = [1, 0]"
   ]
  },
  {
   "cell_type": "markdown",
   "metadata": {},
   "source": [
    "Find the optimal guess using the secant method."
   ]
  },
  {
   "cell_type": "code",
   "execution_count": 9,
   "metadata": {},
   "outputs": [],
   "source": [
    "# solve IVP for two initial guesses\n",
    "sol0 = scipy.integrate.solve_ivp(dy, (x[0], x[-1]), [y1_0, guess[0]], t_eval=x)\n",
    "sol1 = scipy.integrate.solve_ivp(dy, (x[0], x[-1]), [y1_0, guess[1]], t_eval=x)\n",
    "y = [sol0.y[0], sol1.y[0]]  # save the solutions for y = y1 for each guess\n",
    "\n",
    "max_iter = 100  # maximum number of iterations for secant method\n",
    "tolerance = 1e-3  # error tolerance for stopping criteria\n",
    "\n",
    "for i in range(max_iter):\n",
    "    if abs(y[-1][-1]-y1_f) < tolerance:\n",
    "        break  # if error tolerance is reached, stop the algorithm\n",
    "    # approximate new guess with secant\n",
    "    new_guess = guess[-1]-(y[-1][-1]-y1_f)*(guess[-1]-guess[-2])/(y[-1][-1]-y[-2][-1])\n",
    "    guess.append(new_guess)\n",
    "    # solve IVP using the new guess\n",
    "    new_sol = scipy.integrate.solve_ivp(dy, (x[0], x[-1]), [y1_0, guess[-1]], t_eval=x)\n",
    "    y.append(new_sol.y[0])"
   ]
  },
  {
   "cell_type": "markdown",
   "metadata": {},
   "source": [
    "Plot the results."
   ]
  },
  {
   "cell_type": "code",
   "execution_count": null,
   "metadata": {},
   "outputs": [],
   "source": [
    "fig, ax = plt.subplots()\n",
    "for i, y_i in enumerate(y):\n",
    "    ax.plot(x, y_i, label=f\"$y_{i}$\")\n",
    "ax.plot(1, 2, label=\"boundary condition $y_1(1)=2$\", linestyle=\"\", marker=\"x\", color=\"m\")\n",
    "ax.set_xlabel(\"x\")\n",
    "ax.set_ylabel(\"y\")\n",
    "ax.set_title(\"BVP - shooting method\")\n",
    "ax.legend()\n",
    "ax.grid()\n",
    "fig.show()"
   ]
  }
 ],
 "metadata": {
  "kernelspec": {
   "display_name": ".venv",
   "language": "python",
   "name": "python3"
  },
  "language_info": {
   "codemirror_mode": {
    "name": "ipython",
    "version": 3
   },
   "file_extension": ".py",
   "mimetype": "text/x-python",
   "name": "python",
   "nbconvert_exporter": "python",
   "pygments_lexer": "ipython3",
   "version": "3.10.12"
  }
 },
 "nbformat": 4,
 "nbformat_minor": 2
}
