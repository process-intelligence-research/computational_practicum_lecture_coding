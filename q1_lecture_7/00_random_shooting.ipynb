{
 "cells": [
  {
   "cell_type": "code",
   "execution_count": 5,
   "id": "2c85e3f3",
   "metadata": {},
   "outputs": [],
   "source": [
    "import scipy.integrate\n",
    "import numpy as np\n",
    "import matplotlib.pyplot as plt"
   ]
  },
  {
   "cell_type": "markdown",
   "id": "101f96c7",
   "metadata": {},
   "source": [
    "## The shooting method"
   ]
  },
  {
   "cell_type": "markdown",
   "id": "b4cdb16f",
   "metadata": {},
   "source": [
    "We model an arbritary system on the domain $x\\in [0,1]$.\n",
    "\n",
    "\n",
    "$\\frac{d^2y}{dx^2}=4(y-x)$\n",
    "\n",
    "The following boundary conditions are given.\n",
    "\n",
    "$y(0)=0,\\;y(1)=2$\n",
    "\n",
    "To solve the BVP with the shooting method we convert the ODE (2nd order) to the canonical form (1st order) using variable substitution.\n",
    "\n",
    "$y_1\\equiv y,\\;y_2\\equiv \\frac{dy}{dx}$\n",
    "\n",
    "The resulting ODE system:\n",
    "\n",
    "$\\frac{dy_1}{dx}=y_2$\n",
    "\n",
    "$\\frac{dy_2}{dx}=4(y_1-x)$\n",
    "\n",
    "The new boundary conditions:\n",
    "\n",
    "$y_1(0)=0,\\;y_1(1)=2$"
   ]
  },
  {
   "cell_type": "markdown",
   "id": "fafb3b6f",
   "metadata": {},
   "source": [
    "Define canonical ODE system."
   ]
  },
  {
   "cell_type": "code",
   "execution_count": 6,
   "id": "2fd0f541",
   "metadata": {},
   "outputs": [],
   "source": [
    "def dy(x: float, y: np.ndarray) -> list[float, float]:\n",
    "    \"\"\"Examplary ordinary differential equation.\n",
    "\n",
    "    Parameters\n",
    "    ----------\n",
    "    x : float\n",
    "        Independent variable\n",
    "    y : np.ndarray\n",
    "        Dependent variables\n",
    "\n",
    "    Returns\n",
    "    -------\n",
    "    list[float, float]\n",
    "        First order derivative of dependent variables\n",
    "    \"\"\"\n",
    "    y1, y2 = y\n",
    "    dy1 = y2\n",
    "    dy2 = 4*(y1-x)\n",
    "    return [dy1, dy2]"
   ]
  },
  {
   "cell_type": "markdown",
   "id": "0a660445",
   "metadata": {},
   "source": [
    "Define initial conditions."
   ]
  },
  {
   "cell_type": "code",
   "execution_count": 7,
   "id": "c42d3af5",
   "metadata": {},
   "outputs": [],
   "source": [
    "y0_guess1 = [0,1]\n",
    "y0_guess2 = [0,0]\n",
    "y0_guess3 = [0,1.55]"
   ]
  },
  {
   "cell_type": "markdown",
   "id": "87ceaa00",
   "metadata": {},
   "source": [
    "Solve IVP with guess."
   ]
  },
  {
   "cell_type": "code",
   "execution_count": 8,
   "id": "91e97edb",
   "metadata": {},
   "outputs": [],
   "source": [
    "results_guess1 = scipy.integrate.solve_ivp(dy, (0, 1), y0_guess1)\n",
    "x_guess1 = results_guess1.t\n",
    "y1_guess1 = results_guess1.y[0]\n",
    "results_guess2 = scipy.integrate.solve_ivp(dy, (0, 1), y0_guess2)\n",
    "x_guess2 = results_guess2.t\n",
    "y1_guess2 = results_guess2.y[0]\n",
    "results_guess3 = scipy.integrate.solve_ivp(dy, (0, 1), y0_guess3)\n",
    "x_guess3 = results_guess3.t\n",
    "y1_guess3 = results_guess3.y[0]"
   ]
  },
  {
   "cell_type": "markdown",
   "id": "7f377151",
   "metadata": {},
   "source": [
    "Plot results."
   ]
  },
  {
   "cell_type": "code",
   "execution_count": null,
   "id": "1ad25e24",
   "metadata": {},
   "outputs": [],
   "source": [
    "fig, ax = plt.subplots()\n",
    "ax.plot(x_guess1, y1_guess1, label=\"$y_1$ with $\\gamma_0$\", color=\"b\")\n",
    "ax.plot(x_guess2, y1_guess2, label=\"$y_1$ with $\\gamma_1$\", color=\"g\")\n",
    "ax.plot(x_guess3, y1_guess3, label=\"$y_1$ with $\\gamma_2$\", color=\"r\")\n",
    "ax.plot(1, 2, label=\"boundary condition $y_1(1)=2$\", linestyle=\"\", marker=\"x\", color=\"m\")\n",
    "ax.set_xlabel(\"x\")\n",
    "ax.set_ylabel(\"y\")\n",
    "ax.set_title(\"BVP - shooting method\")\n",
    "ax.legend()\n",
    "ax.grid()\n",
    "fig.show()"
   ]
  }
 ],
 "metadata": {
  "kernelspec": {
   "display_name": "Python 3",
   "language": "python",
   "name": "python3"
  },
  "language_info": {
   "codemirror_mode": {
    "name": "ipython",
    "version": 3
   },
   "file_extension": ".py",
   "mimetype": "text/x-python",
   "name": "python",
   "nbconvert_exporter": "python",
   "pygments_lexer": "ipython3",
   "version": "3.10.12"
  }
 },
 "nbformat": 4,
 "nbformat_minor": 5
}
