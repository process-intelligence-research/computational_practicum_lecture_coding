{
 "cells": [
  {
   "cell_type": "code",
   "execution_count": 1,
   "metadata": {},
   "outputs": [],
   "source": [
    "import scipy.integrate\n",
    "import numpy as np\n",
    "import matplotlib.pyplot as plt"
   ]
  },
  {
   "cell_type": "markdown",
   "metadata": {},
   "source": [
    "## SciPy's `solve_bvp`"
   ]
  },
  {
   "cell_type": "markdown",
   "metadata": {},
   "source": [
    "We model an arbritary system on the domain $x\\in [0,1]$.\n",
    "\n",
    "\n",
    "$\\frac{d^2y}{dx^2}=4(y-x)$\n",
    "\n",
    "The following boundary conditions are given.\n",
    "\n",
    "$y(0)=0,\\;y(1)=2$\n",
    "\n",
    "To solve the BVP with the shooting method we convert the ODE (2nd order) to the canonical form (1st order) using variable substitution.\n",
    "\n",
    "$y_1\\equiv y,\\;y_2\\equiv \\frac{dy}{dx}$\n",
    "\n",
    "The resulting ODE system:\n",
    "\n",
    "$\\frac{dy_1}{dx}=y_2$\n",
    "\n",
    "$\\frac{dy_2}{dx}=4(y_1-x)$\n",
    "\n",
    "The new boundary conditions:\n",
    "\n",
    "$y_1(0)=0,\\;y_1(1)=2$"
   ]
  },
  {
   "cell_type": "markdown",
   "metadata": {},
   "source": [
    "Define canonical ODE system."
   ]
  },
  {
   "cell_type": "code",
   "execution_count": 2,
   "metadata": {},
   "outputs": [],
   "source": [
    "def dy(x: np.ndarray, y: np.ndarray) -> np.ndarray:\n",
    "    \"\"\"Examplary ordinary differential equation.\n",
    "\n",
    "    Parameters\n",
    "    ----------\n",
    "    x : np.ndarray\n",
    "        Independent variable\n",
    "    y : np.ndarray\n",
    "        Dependent variables\n",
    "\n",
    "    Returns\n",
    "    -------\n",
    "    np.ndarray\n",
    "        First order derivative of dependent variables\n",
    "    \"\"\"\n",
    "    y1, y2 = y\n",
    "    dy1dx = y2\n",
    "    dy2dx = 4*(y1-x)\n",
    "    return np.array([dy1dx, dy2dx])"
   ]
  },
  {
   "cell_type": "markdown",
   "metadata": {},
   "source": [
    "Define parameters."
   ]
  },
  {
   "cell_type": "code",
   "execution_count": 3,
   "metadata": {},
   "outputs": [],
   "source": [
    "# domain\n",
    "x = np.linspace(0,1,101)\n",
    "\n",
    "# guess solution, ODE has two variables -> dimension 2\n",
    "y_guess = np.zeros((2,len(x)))"
   ]
  },
  {
   "cell_type": "markdown",
   "metadata": {},
   "source": [
    "Define boundary conditions."
   ]
  },
  {
   "cell_type": "code",
   "execution_count": 4,
   "metadata": {},
   "outputs": [],
   "source": [
    "def my_bc(ya: np.ndarray, yb: np.ndarray) -> np.ndarray:\n",
    "    \"\"\"Residuals of the boundary conditions.\n",
    "\n",
    "    Parameters\n",
    "    ----------\n",
    "    ya : np.ndarray\n",
    "        Function values at x0.\n",
    "    yb : np.ndarray\n",
    "        Function values at x(N-1).  \n",
    "\n",
    "    Returns\n",
    "    -------\n",
    "    np.ndarray\n",
    "        Residuals of boundary conditions.\n",
    "    \"\"\"\n",
    "    return np.array([ya[0],yb[0]-2])"
   ]
  },
  {
   "cell_type": "markdown",
   "metadata": {},
   "source": [
    "Solve BVP with SciPy's `solve_bvp`."
   ]
  },
  {
   "cell_type": "code",
   "execution_count": 5,
   "metadata": {},
   "outputs": [],
   "source": [
    "bvp_result = scipy.integrate.solve_bvp(dy, my_bc, x, y_guess)"
   ]
  },
  {
   "cell_type": "markdown",
   "metadata": {},
   "source": [
    "Plot the results."
   ]
  },
  {
   "cell_type": "code",
   "execution_count": null,
   "metadata": {},
   "outputs": [],
   "source": [
    "fig = plt.figure()\n",
    "plt.plot(bvp_result.x, bvp_result.y[0], label=\"$y$\", color=\"b\")\n",
    "plt.plot(1, 2, label=\"boundary condition $y_1(1)=2$\", linestyle=\"\", marker=\"x\", color=\"m\")\n",
    "plt.xlabel(\"x\")\n",
    "plt.ylabel(\"y\")\n",
    "plt.title(\"BVP solution using solve_bvp\")\n",
    "plt.legend()\n",
    "plt.grid()\n",
    "plt.show()"
   ]
  }
 ],
 "metadata": {
  "kernelspec": {
   "display_name": "QCFD",
   "language": "python",
   "name": "python3"
  },
  "language_info": {
   "codemirror_mode": {
    "name": "ipython",
    "version": 3
   },
   "file_extension": ".py",
   "mimetype": "text/x-python",
   "name": "python",
   "nbconvert_exporter": "python",
   "pygments_lexer": "ipython3",
   "version": "3.11.10"
  }
 },
 "nbformat": 4,
 "nbformat_minor": 2
}
