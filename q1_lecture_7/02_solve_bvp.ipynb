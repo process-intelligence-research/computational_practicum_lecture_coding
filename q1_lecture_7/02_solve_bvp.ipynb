{
 "cells": [
  {
   "cell_type": "code",
   "execution_count": 12,
   "metadata": {},
   "outputs": [],
   "source": [
    "import scipy.integrate\n",
    "import numpy as np\n",
    "import matplotlib.pyplot as plt\n",
    "from typing import Callable"
   ]
  },
  {
   "cell_type": "markdown",
   "metadata": {},
   "source": [
    "## SciPy's `solve_bvp`"
   ]
  },
  {
   "cell_type": "markdown",
   "metadata": {},
   "source": [
    "We model an arbritary system on the domain $x\\in [0,1]$.\n",
    "\n",
    "\n",
    "$\\frac{d^2y}{dx^2}=4(y-x)$\n",
    "\n",
    "The following boundary conditions are given.\n",
    "\n",
    "$y(0)=0,\\;y(1)=2$\n",
    "\n",
    "To solve the BVP with the shooting method we convert the ODE (2nd order) to the canonical form (1st order) using variable substitution.\n",
    "\n",
    "$y_1\\equiv y,\\;y_2\\equiv \\frac{dy}{dx}$\n",
    "\n",
    "The resulting ODE system:\n",
    "\n",
    "$\\frac{dy_1}{dx}=y_2$\n",
    "\n",
    "$\\frac{dy_2}{dx}=4(y_1-x)$\n",
    "\n",
    "The new boundary conditions:\n",
    "\n",
    "$y_1(0)=0,\\;y_1(1)=2$"
   ]
  },
  {
   "cell_type": "markdown",
   "metadata": {},
   "source": [
    "Define parameters."
   ]
  },
  {
   "cell_type": "code",
   "execution_count": 13,
   "metadata": {},
   "outputs": [],
   "source": [
    "# domain\n",
    "x = np.linspace(0,1,101)\n",
    "y_guess = np.zeros((2,len(x)))\n",
    "\n",
    "# boundary conditions\n",
    "y1_0 = 0\n",
    "y1_f = 2"
   ]
  },
  {
   "cell_type": "markdown",
   "metadata": {},
   "source": [
    "Define canonical ODE system."
   ]
  },
  {
   "cell_type": "code",
   "execution_count": 14,
   "metadata": {},
   "outputs": [],
   "source": [
    "def my_ode(x: np.ndarray, y: np.ndarray) -> np.ndarray:\n",
    "    \"\"\"First order ODEs from d2y/dx2=4(y-x).\n",
    "    Args:\n",
    "        x (np.ndarray): Grid points.\n",
    "        y (np.ndarray): Value of ODE solution.  Returns:\n",
    "        np.ndarray: Right hand-side of ODEs.\n",
    "    \"\"\"\n",
    "    dydx = np.zeros(y.shape)\n",
    "    dydx[0] = y[1]\n",
    "    dydx[1] = 4*(y[0]-x)\n",
    "    return dydx\n"
   ]
  },
  {
   "cell_type": "markdown",
   "metadata": {},
   "source": [
    "Define boundary conditions."
   ]
  },
  {
   "cell_type": "code",
   "execution_count": 15,
   "metadata": {},
   "outputs": [],
   "source": [
    "def my_bc(ya: np.ndarray, yb: np.ndarray) -> np.ndarray:\n",
    "    \"\"\"Residuals of the boundary conditions.\n",
    "    Args:\n",
    "        ya (np.ndarray): Function values at x0.\n",
    "        yb (np.ndarray): Function values at x(N-1).  \n",
    "    Returns:\n",
    "        np.ndarray: Residuals of boundary conditions.\n",
    "    \"\"\"\n",
    "    return np.array([ya[0],yb[0]-2])\n"
   ]
  },
  {
   "cell_type": "markdown",
   "metadata": {},
   "source": [
    "Solve BVP with SciPy's `solve_bvp`."
   ]
  },
  {
   "cell_type": "code",
   "execution_count": 16,
   "metadata": {},
   "outputs": [],
   "source": [
    "bvp_result = scipy.integrate.solve_bvp(my_ode, my_bc, x, y_guess)"
   ]
  },
  {
   "cell_type": "markdown",
   "metadata": {},
   "source": [
    "Plot the results."
   ]
  },
  {
   "cell_type": "code",
   "execution_count": null,
   "metadata": {},
   "outputs": [],
   "source": [
    "fig, ax = plt.subplots()\n",
    "ax.plot(bvp_result.x, bvp_result.y[0], label=\"$y_1$\", color=\"b\")\n",
    "ax.plot(bvp_result.x, bvp_result.y[1], label=\"$y_2$\", color=\"g\")\n",
    "ax.set_xlabel(\"x\")\n",
    "ax.set_ylabel(\"y\")\n",
    "ax.set_title(\"BVP solution using solve_bvp\")\n",
    "ax.legend()\n",
    "ax.grid()\n",
    "fig.show()"
   ]
  }
 ],
 "metadata": {
  "kernelspec": {
   "display_name": "Python 3",
   "language": "python",
   "name": "python3"
  },
  "language_info": {
   "codemirror_mode": {
    "name": "ipython",
    "version": 3
   },
   "file_extension": ".py",
   "mimetype": "text/x-python",
   "name": "python",
   "nbconvert_exporter": "python",
   "pygments_lexer": "ipython3",
   "version": "3.10.12"
  }
 },
 "nbformat": 4,
 "nbformat_minor": 2
}
